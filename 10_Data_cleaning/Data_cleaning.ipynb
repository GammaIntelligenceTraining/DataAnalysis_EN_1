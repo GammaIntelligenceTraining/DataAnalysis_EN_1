{
 "cells": [
  {
   "cell_type": "code",
   "execution_count": 1,
   "id": "b4772661-90d9-46f5-8a7c-8053a0bf617f",
   "metadata": {},
   "outputs": [],
   "source": [
    "import numpy as np\n",
    "import pandas as pd\n",
    "from matplotlib import pyplot as plt\n",
    "import seaborn as sns"
   ]
  },
  {
   "cell_type": "markdown",
   "id": "25411126-7258-4938-86e1-b7b59edd7e12",
   "metadata": {},
   "source": [
    "# Btc-Eth example"
   ]
  },
  {
   "cell_type": "code",
   "execution_count": 2,
   "id": "2068d8f7-951a-4a55-81d4-eab6b0daae61",
   "metadata": {},
   "outputs": [],
   "source": [
    "df = pd.read_csv('btc-eth.csv')"
   ]
  },
  {
   "cell_type": "code",
   "execution_count": 3,
   "id": "89b02126-6bb5-400c-b8e4-017b94761834",
   "metadata": {},
   "outputs": [
    {
     "data": {
      "text/html": [
       "<div>\n",
       "<style scoped>\n",
       "    .dataframe tbody tr th:only-of-type {\n",
       "        vertical-align: middle;\n",
       "    }\n",
       "\n",
       "    .dataframe tbody tr th {\n",
       "        vertical-align: top;\n",
       "    }\n",
       "\n",
       "    .dataframe thead th {\n",
       "        text-align: right;\n",
       "    }\n",
       "</style>\n",
       "<table border=\"1\" class=\"dataframe\">\n",
       "  <thead>\n",
       "    <tr style=\"text-align: right;\">\n",
       "      <th></th>\n",
       "      <th>Timestamp</th>\n",
       "      <th>Bitcoin</th>\n",
       "      <th>Ether</th>\n",
       "    </tr>\n",
       "  </thead>\n",
       "  <tbody>\n",
       "    <tr>\n",
       "      <th>0</th>\n",
       "      <td>2017-04-02</td>\n",
       "      <td>1099.169125</td>\n",
       "      <td>48.55</td>\n",
       "    </tr>\n",
       "    <tr>\n",
       "      <th>1</th>\n",
       "      <td>2017-04-03</td>\n",
       "      <td>1141.813000</td>\n",
       "      <td>44.13</td>\n",
       "    </tr>\n",
       "    <tr>\n",
       "      <th>2</th>\n",
       "      <td>2017-04-04</td>\n",
       "      <td>1141.600363</td>\n",
       "      <td>44.43</td>\n",
       "    </tr>\n",
       "    <tr>\n",
       "      <th>3</th>\n",
       "      <td>2017-04-05</td>\n",
       "      <td>1133.079314</td>\n",
       "      <td>44.90</td>\n",
       "    </tr>\n",
       "    <tr>\n",
       "      <th>4</th>\n",
       "      <td>2017-04-06</td>\n",
       "      <td>1196.307937</td>\n",
       "      <td>43.23</td>\n",
       "    </tr>\n",
       "  </tbody>\n",
       "</table>\n",
       "</div>"
      ],
      "text/plain": [
       "    Timestamp      Bitcoin  Ether\n",
       "0  2017-04-02  1099.169125  48.55\n",
       "1  2017-04-03  1141.813000  44.13\n",
       "2  2017-04-04  1141.600363  44.43\n",
       "3  2017-04-05  1133.079314  44.90\n",
       "4  2017-04-06  1196.307937  43.23"
      ]
     },
     "execution_count": 3,
     "metadata": {},
     "output_type": "execute_result"
    }
   ],
   "source": [
    "df.head()"
   ]
  },
  {
   "cell_type": "code",
   "execution_count": 4,
   "id": "8808adaf-7bc0-43bb-bc86-d06805be8d94",
   "metadata": {},
   "outputs": [
    {
     "name": "stdout",
     "output_type": "stream",
     "text": [
      "<class 'pandas.core.frame.DataFrame'>\n",
      "RangeIndex: 365 entries, 0 to 364\n",
      "Data columns (total 3 columns):\n",
      " #   Column     Non-Null Count  Dtype  \n",
      "---  ------     --------------  -----  \n",
      " 0   Timestamp  365 non-null    object \n",
      " 1   Bitcoin    365 non-null    float64\n",
      " 2   Ether      362 non-null    float64\n",
      "dtypes: float64(2), object(1)\n",
      "memory usage: 8.7+ KB\n"
     ]
    }
   ],
   "source": [
    "df.info()"
   ]
  },
  {
   "cell_type": "code",
   "execution_count": 5,
   "id": "cf9ddee0-59e2-45ce-96f7-ceaec42e128e",
   "metadata": {},
   "outputs": [],
   "source": [
    "df.Timestamp = pd.to_datetime(df.Timestamp)"
   ]
  },
  {
   "cell_type": "code",
   "execution_count": 7,
   "id": "2d02c869-1533-4047-b9d0-34ee2bce33a1",
   "metadata": {},
   "outputs": [
    {
     "name": "stdout",
     "output_type": "stream",
     "text": [
      "<class 'pandas.core.frame.DataFrame'>\n",
      "RangeIndex: 365 entries, 0 to 364\n",
      "Data columns (total 3 columns):\n",
      " #   Column     Non-Null Count  Dtype         \n",
      "---  ------     --------------  -----         \n",
      " 0   Timestamp  365 non-null    datetime64[ns]\n",
      " 1   Bitcoin    365 non-null    float64       \n",
      " 2   Ether      362 non-null    float64       \n",
      "dtypes: datetime64[ns](1), float64(2)\n",
      "memory usage: 8.7 KB\n"
     ]
    }
   ],
   "source": [
    "df.info()"
   ]
  },
  {
   "cell_type": "code",
   "execution_count": 8,
   "id": "a7a05284-0eef-484c-87e6-90a0e79e836b",
   "metadata": {},
   "outputs": [
    {
     "data": {
      "text/html": [
       "<div>\n",
       "<style scoped>\n",
       "    .dataframe tbody tr th:only-of-type {\n",
       "        vertical-align: middle;\n",
       "    }\n",
       "\n",
       "    .dataframe tbody tr th {\n",
       "        vertical-align: top;\n",
       "    }\n",
       "\n",
       "    .dataframe thead th {\n",
       "        text-align: right;\n",
       "    }\n",
       "</style>\n",
       "<table border=\"1\" class=\"dataframe\">\n",
       "  <thead>\n",
       "    <tr style=\"text-align: right;\">\n",
       "      <th></th>\n",
       "      <th>Timestamp</th>\n",
       "      <th>Bitcoin</th>\n",
       "      <th>Ether</th>\n",
       "    </tr>\n",
       "  </thead>\n",
       "  <tbody>\n",
       "    <tr>\n",
       "      <th>0</th>\n",
       "      <td>2017-04-02</td>\n",
       "      <td>1099.169125</td>\n",
       "      <td>48.55</td>\n",
       "    </tr>\n",
       "    <tr>\n",
       "      <th>1</th>\n",
       "      <td>2017-04-03</td>\n",
       "      <td>1141.813000</td>\n",
       "      <td>44.13</td>\n",
       "    </tr>\n",
       "    <tr>\n",
       "      <th>2</th>\n",
       "      <td>2017-04-04</td>\n",
       "      <td>1141.600363</td>\n",
       "      <td>44.43</td>\n",
       "    </tr>\n",
       "    <tr>\n",
       "      <th>3</th>\n",
       "      <td>2017-04-05</td>\n",
       "      <td>1133.079314</td>\n",
       "      <td>44.90</td>\n",
       "    </tr>\n",
       "    <tr>\n",
       "      <th>4</th>\n",
       "      <td>2017-04-06</td>\n",
       "      <td>1196.307937</td>\n",
       "      <td>43.23</td>\n",
       "    </tr>\n",
       "  </tbody>\n",
       "</table>\n",
       "</div>"
      ],
      "text/plain": [
       "   Timestamp      Bitcoin  Ether\n",
       "0 2017-04-02  1099.169125  48.55\n",
       "1 2017-04-03  1141.813000  44.13\n",
       "2 2017-04-04  1141.600363  44.43\n",
       "3 2017-04-05  1133.079314  44.90\n",
       "4 2017-04-06  1196.307937  43.23"
      ]
     },
     "execution_count": 8,
     "metadata": {},
     "output_type": "execute_result"
    }
   ],
   "source": [
    "df.head()"
   ]
  },
  {
   "cell_type": "code",
   "execution_count": 9,
   "id": "d60b2b2c-4107-40ac-bbb7-270a83966556",
   "metadata": {},
   "outputs": [],
   "source": [
    "df.set_index('Timestamp', inplace=True)"
   ]
  },
  {
   "cell_type": "code",
   "execution_count": 10,
   "id": "e9a84b96-9761-41d0-8112-8e1fc44f5396",
   "metadata": {},
   "outputs": [
    {
     "data": {
      "text/html": [
       "<div>\n",
       "<style scoped>\n",
       "    .dataframe tbody tr th:only-of-type {\n",
       "        vertical-align: middle;\n",
       "    }\n",
       "\n",
       "    .dataframe tbody tr th {\n",
       "        vertical-align: top;\n",
       "    }\n",
       "\n",
       "    .dataframe thead th {\n",
       "        text-align: right;\n",
       "    }\n",
       "</style>\n",
       "<table border=\"1\" class=\"dataframe\">\n",
       "  <thead>\n",
       "    <tr style=\"text-align: right;\">\n",
       "      <th></th>\n",
       "      <th>Bitcoin</th>\n",
       "      <th>Ether</th>\n",
       "    </tr>\n",
       "    <tr>\n",
       "      <th>Timestamp</th>\n",
       "      <th></th>\n",
       "      <th></th>\n",
       "    </tr>\n",
       "  </thead>\n",
       "  <tbody>\n",
       "    <tr>\n",
       "      <th>2017-04-02</th>\n",
       "      <td>1099.169125</td>\n",
       "      <td>48.55</td>\n",
       "    </tr>\n",
       "    <tr>\n",
       "      <th>2017-04-03</th>\n",
       "      <td>1141.813000</td>\n",
       "      <td>44.13</td>\n",
       "    </tr>\n",
       "    <tr>\n",
       "      <th>2017-04-04</th>\n",
       "      <td>1141.600363</td>\n",
       "      <td>44.43</td>\n",
       "    </tr>\n",
       "    <tr>\n",
       "      <th>2017-04-05</th>\n",
       "      <td>1133.079314</td>\n",
       "      <td>44.90</td>\n",
       "    </tr>\n",
       "    <tr>\n",
       "      <th>2017-04-06</th>\n",
       "      <td>1196.307937</td>\n",
       "      <td>43.23</td>\n",
       "    </tr>\n",
       "  </tbody>\n",
       "</table>\n",
       "</div>"
      ],
      "text/plain": [
       "                Bitcoin  Ether\n",
       "Timestamp                     \n",
       "2017-04-02  1099.169125  48.55\n",
       "2017-04-03  1141.813000  44.13\n",
       "2017-04-04  1141.600363  44.43\n",
       "2017-04-05  1133.079314  44.90\n",
       "2017-04-06  1196.307937  43.23"
      ]
     },
     "execution_count": 10,
     "metadata": {},
     "output_type": "execute_result"
    }
   ],
   "source": [
    "df.head()"
   ]
  },
  {
   "cell_type": "code",
   "execution_count": 11,
   "id": "517f1036-e116-4e6a-9ff5-f9d5ef9c86a8",
   "metadata": {},
   "outputs": [
    {
     "data": {
      "text/plain": [
       "<Axes: xlabel='Timestamp'>"
      ]
     },
     "execution_count": 11,
     "metadata": {},
     "output_type": "execute_result"
    },
    {
     "data": {
      "image/png": "[encoded data removed]",
      "text/plain": [
       "<Figure size 1500x800 with 1 Axes>"
      ]
     },
     "metadata": {},
     "output_type": "display_data"
    }
   ],
   "source": [
    "df.plot(figsize=(15, 8))"
   ]
  },
  {
   "cell_type": "code",
   "execution_count": 12,
   "id": "ed03968a-54c0-401a-99be-f5a4dd147d74",
   "metadata": {},
   "outputs": [
    {
     "data": {
      "text/plain": [
       "<Axes: xlabel='Timestamp'>"
      ]
     },
     "execution_count": 12,
     "metadata": {},
     "output_type": "execute_result"
    },
    {
     "data": {
      "image/png": "[encoded data removed]",
      "text/plain": [
       "<Figure size 640x480 with 1 Axes>"
      ]
     },
     "metadata": {},
     "output_type": "display_data"
    }
   ],
   "source": [
    "df.loc['2017-12': '2017-12-15'].plot(y='Ether')"
   ]
  },
  {
   "cell_type": "code",
   "execution_count": 13,
   "id": "d48196eb-4a5a-4bff-a135-6d60c3f14834",
   "metadata": {},
   "outputs": [],
   "source": [
    "df_na = df.loc['2017-12': '2017-12-15']"
   ]
  },
  {
   "cell_type": "code",
   "execution_count": 15,
   "id": "a578a2db-a66a-4613-9b73-74c97b80a6d9",
   "metadata": {},
   "outputs": [
    {
     "data": {
      "text/html": [
       "<div>\n",
       "<style scoped>\n",
       "    .dataframe tbody tr th:only-of-type {\n",
       "        vertical-align: middle;\n",
       "    }\n",
       "\n",
       "    .dataframe tbody tr th {\n",
       "        vertical-align: top;\n",
       "    }\n",
       "\n",
       "    .dataframe thead th {\n",
       "        text-align: right;\n",
       "    }\n",
       "</style>\n",
       "<table border=\"1\" class=\"dataframe\">\n",
       "  <thead>\n",
       "    <tr style=\"text-align: right;\">\n",
       "      <th></th>\n",
       "      <th>Bitcoin</th>\n",
       "      <th>Ether</th>\n",
       "    </tr>\n",
       "    <tr>\n",
       "      <th>Timestamp</th>\n",
       "      <th></th>\n",
       "      <th></th>\n",
       "    </tr>\n",
       "  </thead>\n",
       "  <tbody>\n",
       "    <tr>\n",
       "      <th>2017-12-01</th>\n",
       "      <td>10883.912000</td>\n",
       "      <td>461.58</td>\n",
       "    </tr>\n",
       "    <tr>\n",
       "      <th>2017-12-02</th>\n",
       "      <td>11071.368333</td>\n",
       "      <td>457.96</td>\n",
       "    </tr>\n",
       "    <tr>\n",
       "      <th>2017-12-03</th>\n",
       "      <td>11332.622000</td>\n",
       "      <td>462.81</td>\n",
       "    </tr>\n",
       "    <tr>\n",
       "      <th>2017-12-04</th>\n",
       "      <td>11584.830000</td>\n",
       "      <td>466.93</td>\n",
       "    </tr>\n",
       "    <tr>\n",
       "      <th>2017-12-05</th>\n",
       "      <td>11878.433333</td>\n",
       "      <td>453.96</td>\n",
       "    </tr>\n",
       "    <tr>\n",
       "      <th>2017-12-06</th>\n",
       "      <td>13540.980000</td>\n",
       "      <td>422.48</td>\n",
       "    </tr>\n",
       "    <tr>\n",
       "      <th>2017-12-07</th>\n",
       "      <td>16501.971667</td>\n",
       "      <td>421.15</td>\n",
       "    </tr>\n",
       "    <tr>\n",
       "      <th>2017-12-08</th>\n",
       "      <td>16007.436667</td>\n",
       "      <td>NaN</td>\n",
       "    </tr>\n",
       "    <tr>\n",
       "      <th>2017-12-09</th>\n",
       "      <td>15142.834152</td>\n",
       "      <td>NaN</td>\n",
       "    </tr>\n",
       "    <tr>\n",
       "      <th>2017-12-10</th>\n",
       "      <td>14869.805000</td>\n",
       "      <td>NaN</td>\n",
       "    </tr>\n",
       "    <tr>\n",
       "      <th>2017-12-11</th>\n",
       "      <td>16762.116667</td>\n",
       "      <td>513.29</td>\n",
       "    </tr>\n",
       "    <tr>\n",
       "      <th>2017-12-12</th>\n",
       "      <td>17276.393333</td>\n",
       "      <td>656.52</td>\n",
       "    </tr>\n",
       "    <tr>\n",
       "      <th>2017-12-13</th>\n",
       "      <td>16808.366667</td>\n",
       "      <td>699.09</td>\n",
       "    </tr>\n",
       "    <tr>\n",
       "      <th>2017-12-14</th>\n",
       "      <td>16678.892000</td>\n",
       "      <td>693.58</td>\n",
       "    </tr>\n",
       "    <tr>\n",
       "      <th>2017-12-15</th>\n",
       "      <td>17771.900000</td>\n",
       "      <td>684.27</td>\n",
       "    </tr>\n",
       "  </tbody>\n",
       "</table>\n",
       "</div>"
      ],
      "text/plain": [
       "                 Bitcoin   Ether\n",
       "Timestamp                       \n",
       "2017-12-01  10883.912000  461.58\n",
       "2017-12-02  11071.368333  457.96\n",
       "2017-12-03  11332.622000  462.81\n",
       "2017-12-04  11584.830000  466.93\n",
       "2017-12-05  11878.433333  453.96\n",
       "2017-12-06  13540.980000  422.48\n",
       "2017-12-07  16501.971667  421.15\n",
       "2017-12-08  16007.436667     NaN\n",
       "2017-12-09  15142.834152     NaN\n",
       "2017-12-10  14869.805000     NaN\n",
       "2017-12-11  16762.116667  513.29\n",
       "2017-12-12  17276.393333  656.52\n",
       "2017-12-13  16808.366667  699.09\n",
       "2017-12-14  16678.892000  693.58\n",
       "2017-12-15  17771.900000  684.27"
      ]
     },
     "execution_count": 15,
     "metadata": {},
     "output_type": "execute_result"
    }
   ],
   "source": [
    "df_na"
   ]
  },
  {
   "cell_type": "code",
   "execution_count": 16,
   "id": "13d50681-d8c1-4ed4-a921-548ab2aff48e",
   "metadata": {},
   "outputs": [
    {
     "data": {
      "text/html": [
       "<div>\n",
       "<style scoped>\n",
       "    .dataframe tbody tr th:only-of-type {\n",
       "        vertical-align: middle;\n",
       "    }\n",
       "\n",
       "    .dataframe tbody tr th {\n",
       "        vertical-align: top;\n",
       "    }\n",
       "\n",
       "    .dataframe thead th {\n",
       "        text-align: right;\n",
       "    }\n",
       "</style>\n",
       "<table border=\"1\" class=\"dataframe\">\n",
       "  <thead>\n",
       "    <tr style=\"text-align: right;\">\n",
       "      <th></th>\n",
       "      <th>Bitcoin</th>\n",
       "      <th>Ether</th>\n",
       "    </tr>\n",
       "    <tr>\n",
       "      <th>Timestamp</th>\n",
       "      <th></th>\n",
       "      <th></th>\n",
       "    </tr>\n",
       "  </thead>\n",
       "  <tbody>\n",
       "    <tr>\n",
       "      <th>2017-12-01</th>\n",
       "      <td>False</td>\n",
       "      <td>False</td>\n",
       "    </tr>\n",
       "    <tr>\n",
       "      <th>2017-12-02</th>\n",
       "      <td>False</td>\n",
       "      <td>False</td>\n",
       "    </tr>\n",
       "    <tr>\n",
       "      <th>2017-12-03</th>\n",
       "      <td>False</td>\n",
       "      <td>False</td>\n",
       "    </tr>\n",
       "    <tr>\n",
       "      <th>2017-12-04</th>\n",
       "      <td>False</td>\n",
       "      <td>False</td>\n",
       "    </tr>\n",
       "    <tr>\n",
       "      <th>2017-12-05</th>\n",
       "      <td>False</td>\n",
       "      <td>False</td>\n",
       "    </tr>\n",
       "    <tr>\n",
       "      <th>2017-12-06</th>\n",
       "      <td>False</td>\n",
       "      <td>False</td>\n",
       "    </tr>\n",
       "    <tr>\n",
       "      <th>2017-12-07</th>\n",
       "      <td>False</td>\n",
       "      <td>False</td>\n",
       "    </tr>\n",
       "    <tr>\n",
       "      <th>2017-12-08</th>\n",
       "      <td>False</td>\n",
       "      <td>True</td>\n",
       "    </tr>\n",
       "    <tr>\n",
       "      <th>2017-12-09</th>\n",
       "      <td>False</td>\n",
       "      <td>True</td>\n",
       "    </tr>\n",
       "    <tr>\n",
       "      <th>2017-12-10</th>\n",
       "      <td>False</td>\n",
       "      <td>True</td>\n",
       "    </tr>\n",
       "    <tr>\n",
       "      <th>2017-12-11</th>\n",
       "      <td>False</td>\n",
       "      <td>False</td>\n",
       "    </tr>\n",
       "    <tr>\n",
       "      <th>2017-12-12</th>\n",
       "      <td>False</td>\n",
       "      <td>False</td>\n",
       "    </tr>\n",
       "    <tr>\n",
       "      <th>2017-12-13</th>\n",
       "      <td>False</td>\n",
       "      <td>False</td>\n",
       "    </tr>\n",
       "    <tr>\n",
       "      <th>2017-12-14</th>\n",
       "      <td>False</td>\n",
       "      <td>False</td>\n",
       "    </tr>\n",
       "    <tr>\n",
       "      <th>2017-12-15</th>\n",
       "      <td>False</td>\n",
       "      <td>False</td>\n",
       "    </tr>\n",
       "  </tbody>\n",
       "</table>\n",
       "</div>"
      ],
      "text/plain": [
       "            Bitcoin  Ether\n",
       "Timestamp                 \n",
       "2017-12-01    False  False\n",
       "2017-12-02    False  False\n",
       "2017-12-03    False  False\n",
       "2017-12-04    False  False\n",
       "2017-12-05    False  False\n",
       "2017-12-06    False  False\n",
       "2017-12-07    False  False\n",
       "2017-12-08    False   True\n",
       "2017-12-09    False   True\n",
       "2017-12-10    False   True\n",
       "2017-12-11    False  False\n",
       "2017-12-12    False  False\n",
       "2017-12-13    False  False\n",
       "2017-12-14    False  False\n",
       "2017-12-15    False  False"
      ]
     },
     "execution_count": 16,
     "metadata": {},
     "output_type": "execute_result"
    }
   ],
   "source": [
    "df_na.isna()"
   ]
  },
  {
   "cell_type": "code",
   "execution_count": 17,
   "id": "4550d557-374c-44fb-9905-6e53c526b600",
   "metadata": {},
   "outputs": [
    {
     "data": {
      "text/plain": [
       "Bitcoin    False\n",
       "Ether       True\n",
       "dtype: bool"
      ]
     },
     "execution_count": 17,
     "metadata": {},
     "output_type": "execute_result"
    }
   ],
   "source": [
    "df_na.isna().any()"
   ]
  },
  {
   "cell_type": "code",
   "execution_count": 21,
   "id": "f6bbb68f-8659-4738-855b-c33db54c0e7d",
   "metadata": {},
   "outputs": [
    {
     "data": {
      "text/html": [
       "<div>\n",
       "<style scoped>\n",
       "    .dataframe tbody tr th:only-of-type {\n",
       "        vertical-align: middle;\n",
       "    }\n",
       "\n",
       "    .dataframe tbody tr th {\n",
       "        vertical-align: top;\n",
       "    }\n",
       "\n",
       "    .dataframe thead th {\n",
       "        text-align: right;\n",
       "    }\n",
       "</style>\n",
       "<table border=\"1\" class=\"dataframe\">\n",
       "  <thead>\n",
       "    <tr style=\"text-align: right;\">\n",
       "      <th></th>\n",
       "      <th>Bitcoin</th>\n",
       "      <th>Ether</th>\n",
       "    </tr>\n",
       "    <tr>\n",
       "      <th>Timestamp</th>\n",
       "      <th></th>\n",
       "      <th></th>\n",
       "    </tr>\n",
       "  </thead>\n",
       "  <tbody>\n",
       "    <tr>\n",
       "      <th>2017-12-08</th>\n",
       "      <td>16007.436667</td>\n",
       "      <td>NaN</td>\n",
       "    </tr>\n",
       "    <tr>\n",
       "      <th>2017-12-09</th>\n",
       "      <td>15142.834152</td>\n",
       "      <td>NaN</td>\n",
       "    </tr>\n",
       "    <tr>\n",
       "      <th>2017-12-10</th>\n",
       "      <td>14869.805000</td>\n",
       "      <td>NaN</td>\n",
       "    </tr>\n",
       "  </tbody>\n",
       "</table>\n",
       "</div>"
      ],
      "text/plain": [
       "                 Bitcoin  Ether\n",
       "Timestamp                      \n",
       "2017-12-08  16007.436667    NaN\n",
       "2017-12-09  15142.834152    NaN\n",
       "2017-12-10  14869.805000    NaN"
      ]
     },
     "execution_count": 21,
     "metadata": {},
     "output_type": "execute_result"
    }
   ],
   "source": [
    "df_na[df_na.Ether.isna()]"
   ]
  },
  {
   "cell_type": "markdown",
   "id": "a9fa9588-131f-4061-a7e4-dcab2d68f503",
   "metadata": {},
   "source": [
    "**DropNA**"
   ]
  },
  {
   "cell_type": "code",
   "execution_count": 22,
   "id": "3edd4a7a-dee6-43a2-8ad2-5fa1cb343cec",
   "metadata": {},
   "outputs": [
    {
     "data": {
      "text/html": [
       "<div>\n",
       "<style scoped>\n",
       "    .dataframe tbody tr th:only-of-type {\n",
       "        vertical-align: middle;\n",
       "    }\n",
       "\n",
       "    .dataframe tbody tr th {\n",
       "        vertical-align: top;\n",
       "    }\n",
       "\n",
       "    .dataframe thead th {\n",
       "        text-align: right;\n",
       "    }\n",
       "</style>\n",
       "<table border=\"1\" class=\"dataframe\">\n",
       "  <thead>\n",
       "    <tr style=\"text-align: right;\">\n",
       "      <th></th>\n",
       "      <th>Bitcoin</th>\n",
       "      <th>Ether</th>\n",
       "    </tr>\n",
       "    <tr>\n",
       "      <th>Timestamp</th>\n",
       "      <th></th>\n",
       "      <th></th>\n",
       "    </tr>\n",
       "  </thead>\n",
       "  <tbody>\n",
       "    <tr>\n",
       "      <th>2017-12-01</th>\n",
       "      <td>10883.912000</td>\n",
       "      <td>461.58</td>\n",
       "    </tr>\n",
       "    <tr>\n",
       "      <th>2017-12-02</th>\n",
       "      <td>11071.368333</td>\n",
       "      <td>457.96</td>\n",
       "    </tr>\n",
       "    <tr>\n",
       "      <th>2017-12-03</th>\n",
       "      <td>11332.622000</td>\n",
       "      <td>462.81</td>\n",
       "    </tr>\n",
       "    <tr>\n",
       "      <th>2017-12-04</th>\n",
       "      <td>11584.830000</td>\n",
       "      <td>466.93</td>\n",
       "    </tr>\n",
       "    <tr>\n",
       "      <th>2017-12-05</th>\n",
       "      <td>11878.433333</td>\n",
       "      <td>453.96</td>\n",
       "    </tr>\n",
       "    <tr>\n",
       "      <th>2017-12-06</th>\n",
       "      <td>13540.980000</td>\n",
       "      <td>422.48</td>\n",
       "    </tr>\n",
       "    <tr>\n",
       "      <th>2017-12-07</th>\n",
       "      <td>16501.971667</td>\n",
       "      <td>421.15</td>\n",
       "    </tr>\n",
       "    <tr>\n",
       "      <th>2017-12-11</th>\n",
       "      <td>16762.116667</td>\n",
       "      <td>513.29</td>\n",
       "    </tr>\n",
       "    <tr>\n",
       "      <th>2017-12-12</th>\n",
       "      <td>17276.393333</td>\n",
       "      <td>656.52</td>\n",
       "    </tr>\n",
       "    <tr>\n",
       "      <th>2017-12-13</th>\n",
       "      <td>16808.366667</td>\n",
       "      <td>699.09</td>\n",
       "    </tr>\n",
       "    <tr>\n",
       "      <th>2017-12-14</th>\n",
       "      <td>16678.892000</td>\n",
       "      <td>693.58</td>\n",
       "    </tr>\n",
       "    <tr>\n",
       "      <th>2017-12-15</th>\n",
       "      <td>17771.900000</td>\n",
       "      <td>684.27</td>\n",
       "    </tr>\n",
       "  </tbody>\n",
       "</table>\n",
       "</div>"
      ],
      "text/plain": [
       "                 Bitcoin   Ether\n",
       "Timestamp                       \n",
       "2017-12-01  10883.912000  461.58\n",
       "2017-12-02  11071.368333  457.96\n",
       "2017-12-03  11332.622000  462.81\n",
       "2017-12-04  11584.830000  466.93\n",
       "2017-12-05  11878.433333  453.96\n",
       "2017-12-06  13540.980000  422.48\n",
       "2017-12-07  16501.971667  421.15\n",
       "2017-12-11  16762.116667  513.29\n",
       "2017-12-12  17276.393333  656.52\n",
       "2017-12-13  16808.366667  699.09\n",
       "2017-12-14  16678.892000  693.58\n",
       "2017-12-15  17771.900000  684.27"
      ]
     },
     "execution_count": 22,
     "metadata": {},
     "output_type": "execute_result"
    }
   ],
   "source": [
    "df_na.dropna()"
   ]
  },
  {
   "cell_type": "code",
   "execution_count": 24,
   "id": "1cf96654-43a4-46e6-8c03-ac4a1af69b32",
   "metadata": {},
   "outputs": [
    {
     "data": {
      "text/html": [
       "<div>\n",
       "<style scoped>\n",
       "    .dataframe tbody tr th:only-of-type {\n",
       "        vertical-align: middle;\n",
       "    }\n",
       "\n",
       "    .dataframe tbody tr th {\n",
       "        vertical-align: top;\n",
       "    }\n",
       "\n",
       "    .dataframe thead th {\n",
       "        text-align: right;\n",
       "    }\n",
       "</style>\n",
       "<table border=\"1\" class=\"dataframe\">\n",
       "  <thead>\n",
       "    <tr style=\"text-align: right;\">\n",
       "      <th></th>\n",
       "      <th>Bitcoin</th>\n",
       "    </tr>\n",
       "    <tr>\n",
       "      <th>Timestamp</th>\n",
       "      <th></th>\n",
       "    </tr>\n",
       "  </thead>\n",
       "  <tbody>\n",
       "    <tr>\n",
       "      <th>2017-12-01</th>\n",
       "      <td>10883.912000</td>\n",
       "    </tr>\n",
       "    <tr>\n",
       "      <th>2017-12-02</th>\n",
       "      <td>11071.368333</td>\n",
       "    </tr>\n",
       "    <tr>\n",
       "      <th>2017-12-03</th>\n",
       "      <td>11332.622000</td>\n",
       "    </tr>\n",
       "    <tr>\n",
       "      <th>2017-12-04</th>\n",
       "      <td>11584.830000</td>\n",
       "    </tr>\n",
       "    <tr>\n",
       "      <th>2017-12-05</th>\n",
       "      <td>11878.433333</td>\n",
       "    </tr>\n",
       "    <tr>\n",
       "      <th>2017-12-06</th>\n",
       "      <td>13540.980000</td>\n",
       "    </tr>\n",
       "    <tr>\n",
       "      <th>2017-12-07</th>\n",
       "      <td>16501.971667</td>\n",
       "    </tr>\n",
       "    <tr>\n",
       "      <th>2017-12-08</th>\n",
       "      <td>16007.436667</td>\n",
       "    </tr>\n",
       "    <tr>\n",
       "      <th>2017-12-09</th>\n",
       "      <td>15142.834152</td>\n",
       "    </tr>\n",
       "    <tr>\n",
       "      <th>2017-12-10</th>\n",
       "      <td>14869.805000</td>\n",
       "    </tr>\n",
       "    <tr>\n",
       "      <th>2017-12-11</th>\n",
       "      <td>16762.116667</td>\n",
       "    </tr>\n",
       "    <tr>\n",
       "      <th>2017-12-12</th>\n",
       "      <td>17276.393333</td>\n",
       "    </tr>\n",
       "    <tr>\n",
       "      <th>2017-12-13</th>\n",
       "      <td>16808.366667</td>\n",
       "    </tr>\n",
       "    <tr>\n",
       "      <th>2017-12-14</th>\n",
       "      <td>16678.892000</td>\n",
       "    </tr>\n",
       "    <tr>\n",
       "      <th>2017-12-15</th>\n",
       "      <td>17771.900000</td>\n",
       "    </tr>\n",
       "  </tbody>\n",
       "</table>\n",
       "</div>"
      ],
      "text/plain": [
       "                 Bitcoin\n",
       "Timestamp               \n",
       "2017-12-01  10883.912000\n",
       "2017-12-02  11071.368333\n",
       "2017-12-03  11332.622000\n",
       "2017-12-04  11584.830000\n",
       "2017-12-05  11878.433333\n",
       "2017-12-06  13540.980000\n",
       "2017-12-07  16501.971667\n",
       "2017-12-08  16007.436667\n",
       "2017-12-09  15142.834152\n",
       "2017-12-10  14869.805000\n",
       "2017-12-11  16762.116667\n",
       "2017-12-12  17276.393333\n",
       "2017-12-13  16808.366667\n",
       "2017-12-14  16678.892000\n",
       "2017-12-15  17771.900000"
      ]
     },
     "execution_count": 24,
     "metadata": {},
     "output_type": "execute_result"
    }
   ],
   "source": [
    "df_na.dropna(axis=1)"
   ]
  },
  {
   "cell_type": "code",
   "execution_count": 25,
   "id": "f08e5507-2c63-4da1-aa27-67bbc8deeb25",
   "metadata": {},
   "outputs": [
    {
     "data": {
      "text/html": [
       "<div>\n",
       "<style scoped>\n",
       "    .dataframe tbody tr th:only-of-type {\n",
       "        vertical-align: middle;\n",
       "    }\n",
       "\n",
       "    .dataframe tbody tr th {\n",
       "        vertical-align: top;\n",
       "    }\n",
       "\n",
       "    .dataframe thead th {\n",
       "        text-align: right;\n",
       "    }\n",
       "</style>\n",
       "<table border=\"1\" class=\"dataframe\">\n",
       "  <thead>\n",
       "    <tr style=\"text-align: right;\">\n",
       "      <th></th>\n",
       "      <th>Bitcoin</th>\n",
       "      <th>Ether</th>\n",
       "    </tr>\n",
       "    <tr>\n",
       "      <th>Timestamp</th>\n",
       "      <th></th>\n",
       "      <th></th>\n",
       "    </tr>\n",
       "  </thead>\n",
       "  <tbody>\n",
       "    <tr>\n",
       "      <th>2017-12-01</th>\n",
       "      <td>10883.912000</td>\n",
       "      <td>461.58</td>\n",
       "    </tr>\n",
       "    <tr>\n",
       "      <th>2017-12-02</th>\n",
       "      <td>11071.368333</td>\n",
       "      <td>457.96</td>\n",
       "    </tr>\n",
       "    <tr>\n",
       "      <th>2017-12-03</th>\n",
       "      <td>11332.622000</td>\n",
       "      <td>462.81</td>\n",
       "    </tr>\n",
       "    <tr>\n",
       "      <th>2017-12-04</th>\n",
       "      <td>11584.830000</td>\n",
       "      <td>466.93</td>\n",
       "    </tr>\n",
       "    <tr>\n",
       "      <th>2017-12-05</th>\n",
       "      <td>11878.433333</td>\n",
       "      <td>453.96</td>\n",
       "    </tr>\n",
       "    <tr>\n",
       "      <th>2017-12-06</th>\n",
       "      <td>13540.980000</td>\n",
       "      <td>422.48</td>\n",
       "    </tr>\n",
       "    <tr>\n",
       "      <th>2017-12-07</th>\n",
       "      <td>16501.971667</td>\n",
       "      <td>421.15</td>\n",
       "    </tr>\n",
       "    <tr>\n",
       "      <th>2017-12-08</th>\n",
       "      <td>16007.436667</td>\n",
       "      <td>NaN</td>\n",
       "    </tr>\n",
       "    <tr>\n",
       "      <th>2017-12-09</th>\n",
       "      <td>15142.834152</td>\n",
       "      <td>NaN</td>\n",
       "    </tr>\n",
       "    <tr>\n",
       "      <th>2017-12-10</th>\n",
       "      <td>14869.805000</td>\n",
       "      <td>NaN</td>\n",
       "    </tr>\n",
       "    <tr>\n",
       "      <th>2017-12-11</th>\n",
       "      <td>16762.116667</td>\n",
       "      <td>513.29</td>\n",
       "    </tr>\n",
       "    <tr>\n",
       "      <th>2017-12-12</th>\n",
       "      <td>17276.393333</td>\n",
       "      <td>656.52</td>\n",
       "    </tr>\n",
       "    <tr>\n",
       "      <th>2017-12-13</th>\n",
       "      <td>16808.366667</td>\n",
       "      <td>699.09</td>\n",
       "    </tr>\n",
       "    <tr>\n",
       "      <th>2017-12-14</th>\n",
       "      <td>16678.892000</td>\n",
       "      <td>693.58</td>\n",
       "    </tr>\n",
       "    <tr>\n",
       "      <th>2017-12-15</th>\n",
       "      <td>17771.900000</td>\n",
       "      <td>684.27</td>\n",
       "    </tr>\n",
       "  </tbody>\n",
       "</table>\n",
       "</div>"
      ],
      "text/plain": [
       "                 Bitcoin   Ether\n",
       "Timestamp                       \n",
       "2017-12-01  10883.912000  461.58\n",
       "2017-12-02  11071.368333  457.96\n",
       "2017-12-03  11332.622000  462.81\n",
       "2017-12-04  11584.830000  466.93\n",
       "2017-12-05  11878.433333  453.96\n",
       "2017-12-06  13540.980000  422.48\n",
       "2017-12-07  16501.971667  421.15\n",
       "2017-12-08  16007.436667     NaN\n",
       "2017-12-09  15142.834152     NaN\n",
       "2017-12-10  14869.805000     NaN\n",
       "2017-12-11  16762.116667  513.29\n",
       "2017-12-12  17276.393333  656.52\n",
       "2017-12-13  16808.366667  699.09\n",
       "2017-12-14  16678.892000  693.58\n",
       "2017-12-15  17771.900000  684.27"
      ]
     },
     "execution_count": 25,
     "metadata": {},
     "output_type": "execute_result"
    }
   ],
   "source": [
    "df_na.dropna(how='all')"
   ]
  },
  {
   "cell_type": "code",
   "execution_count": 29,
   "id": "56e275f7-e566-4add-a2cb-38a9bb213a10",
   "metadata": {},
   "outputs": [
    {
     "data": {
      "text/html": [
       "<div>\n",
       "<style scoped>\n",
       "    .dataframe tbody tr th:only-of-type {\n",
       "        vertical-align: middle;\n",
       "    }\n",
       "\n",
       "    .dataframe tbody tr th {\n",
       "        vertical-align: top;\n",
       "    }\n",
       "\n",
       "    .dataframe thead th {\n",
       "        text-align: right;\n",
       "    }\n",
       "</style>\n",
       "<table border=\"1\" class=\"dataframe\">\n",
       "  <thead>\n",
       "    <tr style=\"text-align: right;\">\n",
       "      <th></th>\n",
       "      <th>Bitcoin</th>\n",
       "      <th>Ether</th>\n",
       "    </tr>\n",
       "    <tr>\n",
       "      <th>Timestamp</th>\n",
       "      <th></th>\n",
       "      <th></th>\n",
       "    </tr>\n",
       "  </thead>\n",
       "  <tbody>\n",
       "    <tr>\n",
       "      <th>2017-12-01</th>\n",
       "      <td>10883.912000</td>\n",
       "      <td>461.58</td>\n",
       "    </tr>\n",
       "    <tr>\n",
       "      <th>2017-12-02</th>\n",
       "      <td>11071.368333</td>\n",
       "      <td>457.96</td>\n",
       "    </tr>\n",
       "    <tr>\n",
       "      <th>2017-12-03</th>\n",
       "      <td>11332.622000</td>\n",
       "      <td>462.81</td>\n",
       "    </tr>\n",
       "    <tr>\n",
       "      <th>2017-12-04</th>\n",
       "      <td>11584.830000</td>\n",
       "      <td>466.93</td>\n",
       "    </tr>\n",
       "    <tr>\n",
       "      <th>2017-12-05</th>\n",
       "      <td>11878.433333</td>\n",
       "      <td>453.96</td>\n",
       "    </tr>\n",
       "    <tr>\n",
       "      <th>2017-12-06</th>\n",
       "      <td>13540.980000</td>\n",
       "      <td>422.48</td>\n",
       "    </tr>\n",
       "    <tr>\n",
       "      <th>2017-12-07</th>\n",
       "      <td>16501.971667</td>\n",
       "      <td>421.15</td>\n",
       "    </tr>\n",
       "    <tr>\n",
       "      <th>2017-12-08</th>\n",
       "      <td>16007.436667</td>\n",
       "      <td>NaN</td>\n",
       "    </tr>\n",
       "    <tr>\n",
       "      <th>2017-12-09</th>\n",
       "      <td>15142.834152</td>\n",
       "      <td>NaN</td>\n",
       "    </tr>\n",
       "    <tr>\n",
       "      <th>2017-12-10</th>\n",
       "      <td>14869.805000</td>\n",
       "      <td>NaN</td>\n",
       "    </tr>\n",
       "    <tr>\n",
       "      <th>2017-12-11</th>\n",
       "      <td>16762.116667</td>\n",
       "      <td>513.29</td>\n",
       "    </tr>\n",
       "    <tr>\n",
       "      <th>2017-12-12</th>\n",
       "      <td>17276.393333</td>\n",
       "      <td>656.52</td>\n",
       "    </tr>\n",
       "    <tr>\n",
       "      <th>2017-12-13</th>\n",
       "      <td>16808.366667</td>\n",
       "      <td>699.09</td>\n",
       "    </tr>\n",
       "    <tr>\n",
       "      <th>2017-12-14</th>\n",
       "      <td>16678.892000</td>\n",
       "      <td>693.58</td>\n",
       "    </tr>\n",
       "    <tr>\n",
       "      <th>2017-12-15</th>\n",
       "      <td>17771.900000</td>\n",
       "      <td>684.27</td>\n",
       "    </tr>\n",
       "  </tbody>\n",
       "</table>\n",
       "</div>"
      ],
      "text/plain": [
       "                 Bitcoin   Ether\n",
       "Timestamp                       \n",
       "2017-12-01  10883.912000  461.58\n",
       "2017-12-02  11071.368333  457.96\n",
       "2017-12-03  11332.622000  462.81\n",
       "2017-12-04  11584.830000  466.93\n",
       "2017-12-05  11878.433333  453.96\n",
       "2017-12-06  13540.980000  422.48\n",
       "2017-12-07  16501.971667  421.15\n",
       "2017-12-08  16007.436667     NaN\n",
       "2017-12-09  15142.834152     NaN\n",
       "2017-12-10  14869.805000     NaN\n",
       "2017-12-11  16762.116667  513.29\n",
       "2017-12-12  17276.393333  656.52\n",
       "2017-12-13  16808.366667  699.09\n",
       "2017-12-14  16678.892000  693.58\n",
       "2017-12-15  17771.900000  684.27"
      ]
     },
     "execution_count": 29,
     "metadata": {},
     "output_type": "execute_result"
    }
   ],
   "source": [
    "df_na.dropna(thresh=1)"
   ]
  },
  {
   "cell_type": "code",
   "execution_count": 32,
   "id": "b36042ce-c7af-4406-ac47-bbd7480fcb12",
   "metadata": {},
   "outputs": [
    {
     "data": {
      "text/html": [
       "<div>\n",
       "<style scoped>\n",
       "    .dataframe tbody tr th:only-of-type {\n",
       "        vertical-align: middle;\n",
       "    }\n",
       "\n",
       "    .dataframe tbody tr th {\n",
       "        vertical-align: top;\n",
       "    }\n",
       "\n",
       "    .dataframe thead th {\n",
       "        text-align: right;\n",
       "    }\n",
       "</style>\n",
       "<table border=\"1\" class=\"dataframe\">\n",
       "  <thead>\n",
       "    <tr style=\"text-align: right;\">\n",
       "      <th></th>\n",
       "      <th>Bitcoin</th>\n",
       "    </tr>\n",
       "    <tr>\n",
       "      <th>Timestamp</th>\n",
       "      <th></th>\n",
       "    </tr>\n",
       "  </thead>\n",
       "  <tbody>\n",
       "    <tr>\n",
       "      <th>2017-12-01</th>\n",
       "      <td>10883.912000</td>\n",
       "    </tr>\n",
       "    <tr>\n",
       "      <th>2017-12-02</th>\n",
       "      <td>11071.368333</td>\n",
       "    </tr>\n",
       "    <tr>\n",
       "      <th>2017-12-03</th>\n",
       "      <td>11332.622000</td>\n",
       "    </tr>\n",
       "    <tr>\n",
       "      <th>2017-12-04</th>\n",
       "      <td>11584.830000</td>\n",
       "    </tr>\n",
       "    <tr>\n",
       "      <th>2017-12-05</th>\n",
       "      <td>11878.433333</td>\n",
       "    </tr>\n",
       "    <tr>\n",
       "      <th>2017-12-06</th>\n",
       "      <td>13540.980000</td>\n",
       "    </tr>\n",
       "    <tr>\n",
       "      <th>2017-12-07</th>\n",
       "      <td>16501.971667</td>\n",
       "    </tr>\n",
       "    <tr>\n",
       "      <th>2017-12-08</th>\n",
       "      <td>16007.436667</td>\n",
       "    </tr>\n",
       "    <tr>\n",
       "      <th>2017-12-09</th>\n",
       "      <td>15142.834152</td>\n",
       "    </tr>\n",
       "    <tr>\n",
       "      <th>2017-12-10</th>\n",
       "      <td>14869.805000</td>\n",
       "    </tr>\n",
       "    <tr>\n",
       "      <th>2017-12-11</th>\n",
       "      <td>16762.116667</td>\n",
       "    </tr>\n",
       "    <tr>\n",
       "      <th>2017-12-12</th>\n",
       "      <td>17276.393333</td>\n",
       "    </tr>\n",
       "    <tr>\n",
       "      <th>2017-12-13</th>\n",
       "      <td>16808.366667</td>\n",
       "    </tr>\n",
       "    <tr>\n",
       "      <th>2017-12-14</th>\n",
       "      <td>16678.892000</td>\n",
       "    </tr>\n",
       "    <tr>\n",
       "      <th>2017-12-15</th>\n",
       "      <td>17771.900000</td>\n",
       "    </tr>\n",
       "  </tbody>\n",
       "</table>\n",
       "</div>"
      ],
      "text/plain": [
       "                 Bitcoin\n",
       "Timestamp               \n",
       "2017-12-01  10883.912000\n",
       "2017-12-02  11071.368333\n",
       "2017-12-03  11332.622000\n",
       "2017-12-04  11584.830000\n",
       "2017-12-05  11878.433333\n",
       "2017-12-06  13540.980000\n",
       "2017-12-07  16501.971667\n",
       "2017-12-08  16007.436667\n",
       "2017-12-09  15142.834152\n",
       "2017-12-10  14869.805000\n",
       "2017-12-11  16762.116667\n",
       "2017-12-12  17276.393333\n",
       "2017-12-13  16808.366667\n",
       "2017-12-14  16678.892000\n",
       "2017-12-15  17771.900000"
      ]
     },
     "execution_count": 32,
     "metadata": {},
     "output_type": "execute_result"
    }
   ],
   "source": [
    "df_na.dropna(thresh=15, axis=1)"
   ]
  },
  {
   "cell_type": "markdown",
   "id": "a6efbe30-ff4f-4b3d-b126-83f8fb0a9694",
   "metadata": {},
   "source": [
    "**FillNA**"
   ]
  },
  {
   "cell_type": "code",
   "execution_count": 33,
   "id": "04c2bd9a-609e-4c2f-99bf-0b8fbc88a505",
   "metadata": {},
   "outputs": [
    {
     "data": {
      "text/html": [
       "<div>\n",
       "<style scoped>\n",
       "    .dataframe tbody tr th:only-of-type {\n",
       "        vertical-align: middle;\n",
       "    }\n",
       "\n",
       "    .dataframe tbody tr th {\n",
       "        vertical-align: top;\n",
       "    }\n",
       "\n",
       "    .dataframe thead th {\n",
       "        text-align: right;\n",
       "    }\n",
       "</style>\n",
       "<table border=\"1\" class=\"dataframe\">\n",
       "  <thead>\n",
       "    <tr style=\"text-align: right;\">\n",
       "      <th></th>\n",
       "      <th>Bitcoin</th>\n",
       "      <th>Ether</th>\n",
       "    </tr>\n",
       "    <tr>\n",
       "      <th>Timestamp</th>\n",
       "      <th></th>\n",
       "      <th></th>\n",
       "    </tr>\n",
       "  </thead>\n",
       "  <tbody>\n",
       "    <tr>\n",
       "      <th>2017-12-01</th>\n",
       "      <td>10883.912000</td>\n",
       "      <td>461.58</td>\n",
       "    </tr>\n",
       "    <tr>\n",
       "      <th>2017-12-02</th>\n",
       "      <td>11071.368333</td>\n",
       "      <td>457.96</td>\n",
       "    </tr>\n",
       "    <tr>\n",
       "      <th>2017-12-03</th>\n",
       "      <td>11332.622000</td>\n",
       "      <td>462.81</td>\n",
       "    </tr>\n",
       "    <tr>\n",
       "      <th>2017-12-04</th>\n",
       "      <td>11584.830000</td>\n",
       "      <td>466.93</td>\n",
       "    </tr>\n",
       "    <tr>\n",
       "      <th>2017-12-05</th>\n",
       "      <td>11878.433333</td>\n",
       "      <td>453.96</td>\n",
       "    </tr>\n",
       "    <tr>\n",
       "      <th>2017-12-06</th>\n",
       "      <td>13540.980000</td>\n",
       "      <td>422.48</td>\n",
       "    </tr>\n",
       "    <tr>\n",
       "      <th>2017-12-07</th>\n",
       "      <td>16501.971667</td>\n",
       "      <td>421.15</td>\n",
       "    </tr>\n",
       "    <tr>\n",
       "      <th>2017-12-08</th>\n",
       "      <td>16007.436667</td>\n",
       "      <td>450.00</td>\n",
       "    </tr>\n",
       "    <tr>\n",
       "      <th>2017-12-09</th>\n",
       "      <td>15142.834152</td>\n",
       "      <td>450.00</td>\n",
       "    </tr>\n",
       "    <tr>\n",
       "      <th>2017-12-10</th>\n",
       "      <td>14869.805000</td>\n",
       "      <td>450.00</td>\n",
       "    </tr>\n",
       "    <tr>\n",
       "      <th>2017-12-11</th>\n",
       "      <td>16762.116667</td>\n",
       "      <td>513.29</td>\n",
       "    </tr>\n",
       "    <tr>\n",
       "      <th>2017-12-12</th>\n",
       "      <td>17276.393333</td>\n",
       "      <td>656.52</td>\n",
       "    </tr>\n",
       "    <tr>\n",
       "      <th>2017-12-13</th>\n",
       "      <td>16808.366667</td>\n",
       "      <td>699.09</td>\n",
       "    </tr>\n",
       "    <tr>\n",
       "      <th>2017-12-14</th>\n",
       "      <td>16678.892000</td>\n",
       "      <td>693.58</td>\n",
       "    </tr>\n",
       "    <tr>\n",
       "      <th>2017-12-15</th>\n",
       "      <td>17771.900000</td>\n",
       "      <td>684.27</td>\n",
       "    </tr>\n",
       "  </tbody>\n",
       "</table>\n",
       "</div>"
      ],
      "text/plain": [
       "                 Bitcoin   Ether\n",
       "Timestamp                       \n",
       "2017-12-01  10883.912000  461.58\n",
       "2017-12-02  11071.368333  457.96\n",
       "2017-12-03  11332.622000  462.81\n",
       "2017-12-04  11584.830000  466.93\n",
       "2017-12-05  11878.433333  453.96\n",
       "2017-12-06  13540.980000  422.48\n",
       "2017-12-07  16501.971667  421.15\n",
       "2017-12-08  16007.436667  450.00\n",
       "2017-12-09  15142.834152  450.00\n",
       "2017-12-10  14869.805000  450.00\n",
       "2017-12-11  16762.116667  513.29\n",
       "2017-12-12  17276.393333  656.52\n",
       "2017-12-13  16808.366667  699.09\n",
       "2017-12-14  16678.892000  693.58\n",
       "2017-12-15  17771.900000  684.27"
      ]
     },
     "execution_count": 33,
     "metadata": {},
     "output_type": "execute_result"
    }
   ],
   "source": [
    "df_na.fillna(450)"
   ]
  },
  {
   "cell_type": "code",
   "execution_count": 34,
   "id": "b78dc452-65e8-4755-9559-be9fb4de3419",
   "metadata": {},
   "outputs": [
    {
     "data": {
      "text/html": [
       "<div>\n",
       "<style scoped>\n",
       "    .dataframe tbody tr th:only-of-type {\n",
       "        vertical-align: middle;\n",
       "    }\n",
       "\n",
       "    .dataframe tbody tr th {\n",
       "        vertical-align: top;\n",
       "    }\n",
       "\n",
       "    .dataframe thead th {\n",
       "        text-align: right;\n",
       "    }\n",
       "</style>\n",
       "<table border=\"1\" class=\"dataframe\">\n",
       "  <thead>\n",
       "    <tr style=\"text-align: right;\">\n",
       "      <th></th>\n",
       "      <th>Bitcoin</th>\n",
       "      <th>Ether</th>\n",
       "    </tr>\n",
       "    <tr>\n",
       "      <th>Timestamp</th>\n",
       "      <th></th>\n",
       "      <th></th>\n",
       "    </tr>\n",
       "  </thead>\n",
       "  <tbody>\n",
       "    <tr>\n",
       "      <th>2017-12-01</th>\n",
       "      <td>10883.912000</td>\n",
       "      <td>461.580000</td>\n",
       "    </tr>\n",
       "    <tr>\n",
       "      <th>2017-12-02</th>\n",
       "      <td>11071.368333</td>\n",
       "      <td>457.960000</td>\n",
       "    </tr>\n",
       "    <tr>\n",
       "      <th>2017-12-03</th>\n",
       "      <td>11332.622000</td>\n",
       "      <td>462.810000</td>\n",
       "    </tr>\n",
       "    <tr>\n",
       "      <th>2017-12-04</th>\n",
       "      <td>11584.830000</td>\n",
       "      <td>466.930000</td>\n",
       "    </tr>\n",
       "    <tr>\n",
       "      <th>2017-12-05</th>\n",
       "      <td>11878.433333</td>\n",
       "      <td>453.960000</td>\n",
       "    </tr>\n",
       "    <tr>\n",
       "      <th>2017-12-06</th>\n",
       "      <td>13540.980000</td>\n",
       "      <td>422.480000</td>\n",
       "    </tr>\n",
       "    <tr>\n",
       "      <th>2017-12-07</th>\n",
       "      <td>16501.971667</td>\n",
       "      <td>421.150000</td>\n",
       "    </tr>\n",
       "    <tr>\n",
       "      <th>2017-12-08</th>\n",
       "      <td>16007.436667</td>\n",
       "      <td>532.801667</td>\n",
       "    </tr>\n",
       "    <tr>\n",
       "      <th>2017-12-09</th>\n",
       "      <td>15142.834152</td>\n",
       "      <td>532.801667</td>\n",
       "    </tr>\n",
       "    <tr>\n",
       "      <th>2017-12-10</th>\n",
       "      <td>14869.805000</td>\n",
       "      <td>532.801667</td>\n",
       "    </tr>\n",
       "    <tr>\n",
       "      <th>2017-12-11</th>\n",
       "      <td>16762.116667</td>\n",
       "      <td>513.290000</td>\n",
       "    </tr>\n",
       "    <tr>\n",
       "      <th>2017-12-12</th>\n",
       "      <td>17276.393333</td>\n",
       "      <td>656.520000</td>\n",
       "    </tr>\n",
       "    <tr>\n",
       "      <th>2017-12-13</th>\n",
       "      <td>16808.366667</td>\n",
       "      <td>699.090000</td>\n",
       "    </tr>\n",
       "    <tr>\n",
       "      <th>2017-12-14</th>\n",
       "      <td>16678.892000</td>\n",
       "      <td>693.580000</td>\n",
       "    </tr>\n",
       "    <tr>\n",
       "      <th>2017-12-15</th>\n",
       "      <td>17771.900000</td>\n",
       "      <td>684.270000</td>\n",
       "    </tr>\n",
       "  </tbody>\n",
       "</table>\n",
       "</div>"
      ],
      "text/plain": [
       "                 Bitcoin       Ether\n",
       "Timestamp                           \n",
       "2017-12-01  10883.912000  461.580000\n",
       "2017-12-02  11071.368333  457.960000\n",
       "2017-12-03  11332.622000  462.810000\n",
       "2017-12-04  11584.830000  466.930000\n",
       "2017-12-05  11878.433333  453.960000\n",
       "2017-12-06  13540.980000  422.480000\n",
       "2017-12-07  16501.971667  421.150000\n",
       "2017-12-08  16007.436667  532.801667\n",
       "2017-12-09  15142.834152  532.801667\n",
       "2017-12-10  14869.805000  532.801667\n",
       "2017-12-11  16762.116667  513.290000\n",
       "2017-12-12  17276.393333  656.520000\n",
       "2017-12-13  16808.366667  699.090000\n",
       "2017-12-14  16678.892000  693.580000\n",
       "2017-12-15  17771.900000  684.270000"
      ]
     },
     "execution_count": 34,
     "metadata": {},
     "output_type": "execute_result"
    }
   ],
   "source": [
    "df_na.fillna(df_na.mean())"
   ]
  },
  {
   "cell_type": "code",
   "execution_count": 36,
   "id": "07580180-8dd0-40c0-b249-853d87be1414",
   "metadata": {},
   "outputs": [
    {
     "name": "stderr",
     "output_type": "stream",
     "text": [
      "C:\\Users\\USER\\AppData\\Local\\Temp\\ipykernel_12356\\518582698.py:1: FutureWarning: DataFrame.fillna with 'method' is deprecated and will raise in a future version. Use obj.ffill() or obj.bfill() instead.\n",
      "  df_na.fillna(method='bfill')\n"
     ]
    },
    {
     "data": {
      "text/html": [
       "<div>\n",
       "<style scoped>\n",
       "    .dataframe tbody tr th:only-of-type {\n",
       "        vertical-align: middle;\n",
       "    }\n",
       "\n",
       "    .dataframe tbody tr th {\n",
       "        vertical-align: top;\n",
       "    }\n",
       "\n",
       "    .dataframe thead th {\n",
       "        text-align: right;\n",
       "    }\n",
       "</style>\n",
       "<table border=\"1\" class=\"dataframe\">\n",
       "  <thead>\n",
       "    <tr style=\"text-align: right;\">\n",
       "      <th></th>\n",
       "      <th>Bitcoin</th>\n",
       "      <th>Ether</th>\n",
       "    </tr>\n",
       "    <tr>\n",
       "      <th>Timestamp</th>\n",
       "      <th></th>\n",
       "      <th></th>\n",
       "    </tr>\n",
       "  </thead>\n",
       "  <tbody>\n",
       "    <tr>\n",
       "      <th>2017-12-01</th>\n",
       "      <td>10883.912000</td>\n",
       "      <td>461.58</td>\n",
       "    </tr>\n",
       "    <tr>\n",
       "      <th>2017-12-02</th>\n",
       "      <td>11071.368333</td>\n",
       "      <td>457.96</td>\n",
       "    </tr>\n",
       "    <tr>\n",
       "      <th>2017-12-03</th>\n",
       "      <td>11332.622000</td>\n",
       "      <td>462.81</td>\n",
       "    </tr>\n",
       "    <tr>\n",
       "      <th>2017-12-04</th>\n",
       "      <td>11584.830000</td>\n",
       "      <td>466.93</td>\n",
       "    </tr>\n",
       "    <tr>\n",
       "      <th>2017-12-05</th>\n",
       "      <td>11878.433333</td>\n",
       "      <td>453.96</td>\n",
       "    </tr>\n",
       "    <tr>\n",
       "      <th>2017-12-06</th>\n",
       "      <td>13540.980000</td>\n",
       "      <td>422.48</td>\n",
       "    </tr>\n",
       "    <tr>\n",
       "      <th>2017-12-07</th>\n",
       "      <td>16501.971667</td>\n",
       "      <td>421.15</td>\n",
       "    </tr>\n",
       "    <tr>\n",
       "      <th>2017-12-08</th>\n",
       "      <td>16007.436667</td>\n",
       "      <td>513.29</td>\n",
       "    </tr>\n",
       "    <tr>\n",
       "      <th>2017-12-09</th>\n",
       "      <td>15142.834152</td>\n",
       "      <td>513.29</td>\n",
       "    </tr>\n",
       "    <tr>\n",
       "      <th>2017-12-10</th>\n",
       "      <td>14869.805000</td>\n",
       "      <td>513.29</td>\n",
       "    </tr>\n",
       "    <tr>\n",
       "      <th>2017-12-11</th>\n",
       "      <td>16762.116667</td>\n",
       "      <td>513.29</td>\n",
       "    </tr>\n",
       "    <tr>\n",
       "      <th>2017-12-12</th>\n",
       "      <td>17276.393333</td>\n",
       "      <td>656.52</td>\n",
       "    </tr>\n",
       "    <tr>\n",
       "      <th>2017-12-13</th>\n",
       "      <td>16808.366667</td>\n",
       "      <td>699.09</td>\n",
       "    </tr>\n",
       "    <tr>\n",
       "      <th>2017-12-14</th>\n",
       "      <td>16678.892000</td>\n",
       "      <td>693.58</td>\n",
       "    </tr>\n",
       "    <tr>\n",
       "      <th>2017-12-15</th>\n",
       "      <td>17771.900000</td>\n",
       "      <td>684.27</td>\n",
       "    </tr>\n",
       "  </tbody>\n",
       "</table>\n",
       "</div>"
      ],
      "text/plain": [
       "                 Bitcoin   Ether\n",
       "Timestamp                       \n",
       "2017-12-01  10883.912000  461.58\n",
       "2017-12-02  11071.368333  457.96\n",
       "2017-12-03  11332.622000  462.81\n",
       "2017-12-04  11584.830000  466.93\n",
       "2017-12-05  11878.433333  453.96\n",
       "2017-12-06  13540.980000  422.48\n",
       "2017-12-07  16501.971667  421.15\n",
       "2017-12-08  16007.436667  513.29\n",
       "2017-12-09  15142.834152  513.29\n",
       "2017-12-10  14869.805000  513.29\n",
       "2017-12-11  16762.116667  513.29\n",
       "2017-12-12  17276.393333  656.52\n",
       "2017-12-13  16808.366667  699.09\n",
       "2017-12-14  16678.892000  693.58\n",
       "2017-12-15  17771.900000  684.27"
      ]
     },
     "execution_count": 36,
     "metadata": {},
     "output_type": "execute_result"
    }
   ],
   "source": [
    "df_na.fillna(method='bfill')"
   ]
  },
  {
   "cell_type": "code",
   "execution_count": 37,
   "id": "21318775-5106-40d1-a39c-66a89f2bcf3c",
   "metadata": {},
   "outputs": [
    {
     "data": {
      "text/html": [
       "<div>\n",
       "<style scoped>\n",
       "    .dataframe tbody tr th:only-of-type {\n",
       "        vertical-align: middle;\n",
       "    }\n",
       "\n",
       "    .dataframe tbody tr th {\n",
       "        vertical-align: top;\n",
       "    }\n",
       "\n",
       "    .dataframe thead th {\n",
       "        text-align: right;\n",
       "    }\n",
       "</style>\n",
       "<table border=\"1\" class=\"dataframe\">\n",
       "  <thead>\n",
       "    <tr style=\"text-align: right;\">\n",
       "      <th></th>\n",
       "      <th>Bitcoin</th>\n",
       "      <th>Ether</th>\n",
       "    </tr>\n",
       "    <tr>\n",
       "      <th>Timestamp</th>\n",
       "      <th></th>\n",
       "      <th></th>\n",
       "    </tr>\n",
       "  </thead>\n",
       "  <tbody>\n",
       "    <tr>\n",
       "      <th>2017-12-01</th>\n",
       "      <td>10883.912000</td>\n",
       "      <td>461.58</td>\n",
       "    </tr>\n",
       "    <tr>\n",
       "      <th>2017-12-02</th>\n",
       "      <td>11071.368333</td>\n",
       "      <td>457.96</td>\n",
       "    </tr>\n",
       "    <tr>\n",
       "      <th>2017-12-03</th>\n",
       "      <td>11332.622000</td>\n",
       "      <td>462.81</td>\n",
       "    </tr>\n",
       "    <tr>\n",
       "      <th>2017-12-04</th>\n",
       "      <td>11584.830000</td>\n",
       "      <td>466.93</td>\n",
       "    </tr>\n",
       "    <tr>\n",
       "      <th>2017-12-05</th>\n",
       "      <td>11878.433333</td>\n",
       "      <td>453.96</td>\n",
       "    </tr>\n",
       "    <tr>\n",
       "      <th>2017-12-06</th>\n",
       "      <td>13540.980000</td>\n",
       "      <td>422.48</td>\n",
       "    </tr>\n",
       "    <tr>\n",
       "      <th>2017-12-07</th>\n",
       "      <td>16501.971667</td>\n",
       "      <td>421.15</td>\n",
       "    </tr>\n",
       "    <tr>\n",
       "      <th>2017-12-08</th>\n",
       "      <td>16007.436667</td>\n",
       "      <td>513.29</td>\n",
       "    </tr>\n",
       "    <tr>\n",
       "      <th>2017-12-09</th>\n",
       "      <td>15142.834152</td>\n",
       "      <td>513.29</td>\n",
       "    </tr>\n",
       "    <tr>\n",
       "      <th>2017-12-10</th>\n",
       "      <td>14869.805000</td>\n",
       "      <td>513.29</td>\n",
       "    </tr>\n",
       "    <tr>\n",
       "      <th>2017-12-11</th>\n",
       "      <td>16762.116667</td>\n",
       "      <td>513.29</td>\n",
       "    </tr>\n",
       "    <tr>\n",
       "      <th>2017-12-12</th>\n",
       "      <td>17276.393333</td>\n",
       "      <td>656.52</td>\n",
       "    </tr>\n",
       "    <tr>\n",
       "      <th>2017-12-13</th>\n",
       "      <td>16808.366667</td>\n",
       "      <td>699.09</td>\n",
       "    </tr>\n",
       "    <tr>\n",
       "      <th>2017-12-14</th>\n",
       "      <td>16678.892000</td>\n",
       "      <td>693.58</td>\n",
       "    </tr>\n",
       "    <tr>\n",
       "      <th>2017-12-15</th>\n",
       "      <td>17771.900000</td>\n",
       "      <td>684.27</td>\n",
       "    </tr>\n",
       "  </tbody>\n",
       "</table>\n",
       "</div>"
      ],
      "text/plain": [
       "                 Bitcoin   Ether\n",
       "Timestamp                       \n",
       "2017-12-01  10883.912000  461.58\n",
       "2017-12-02  11071.368333  457.96\n",
       "2017-12-03  11332.622000  462.81\n",
       "2017-12-04  11584.830000  466.93\n",
       "2017-12-05  11878.433333  453.96\n",
       "2017-12-06  13540.980000  422.48\n",
       "2017-12-07  16501.971667  421.15\n",
       "2017-12-08  16007.436667  513.29\n",
       "2017-12-09  15142.834152  513.29\n",
       "2017-12-10  14869.805000  513.29\n",
       "2017-12-11  16762.116667  513.29\n",
       "2017-12-12  17276.393333  656.52\n",
       "2017-12-13  16808.366667  699.09\n",
       "2017-12-14  16678.892000  693.58\n",
       "2017-12-15  17771.900000  684.27"
      ]
     },
     "execution_count": 37,
     "metadata": {},
     "output_type": "execute_result"
    }
   ],
   "source": [
    "df_na.bfill()"
   ]
  },
  {
   "cell_type": "code",
   "execution_count": 38,
   "id": "06229ea9-f5be-43a8-9a08-9bb0a8c11e23",
   "metadata": {},
   "outputs": [
    {
     "data": {
      "text/html": [
       "<div>\n",
       "<style scoped>\n",
       "    .dataframe tbody tr th:only-of-type {\n",
       "        vertical-align: middle;\n",
       "    }\n",
       "\n",
       "    .dataframe tbody tr th {\n",
       "        vertical-align: top;\n",
       "    }\n",
       "\n",
       "    .dataframe thead th {\n",
       "        text-align: right;\n",
       "    }\n",
       "</style>\n",
       "<table border=\"1\" class=\"dataframe\">\n",
       "  <thead>\n",
       "    <tr style=\"text-align: right;\">\n",
       "      <th></th>\n",
       "      <th>Bitcoin</th>\n",
       "      <th>Ether</th>\n",
       "    </tr>\n",
       "    <tr>\n",
       "      <th>Timestamp</th>\n",
       "      <th></th>\n",
       "      <th></th>\n",
       "    </tr>\n",
       "  </thead>\n",
       "  <tbody>\n",
       "    <tr>\n",
       "      <th>2017-12-01</th>\n",
       "      <td>10883.912000</td>\n",
       "      <td>461.58</td>\n",
       "    </tr>\n",
       "    <tr>\n",
       "      <th>2017-12-02</th>\n",
       "      <td>11071.368333</td>\n",
       "      <td>457.96</td>\n",
       "    </tr>\n",
       "    <tr>\n",
       "      <th>2017-12-03</th>\n",
       "      <td>11332.622000</td>\n",
       "      <td>462.81</td>\n",
       "    </tr>\n",
       "    <tr>\n",
       "      <th>2017-12-04</th>\n",
       "      <td>11584.830000</td>\n",
       "      <td>466.93</td>\n",
       "    </tr>\n",
       "    <tr>\n",
       "      <th>2017-12-05</th>\n",
       "      <td>11878.433333</td>\n",
       "      <td>453.96</td>\n",
       "    </tr>\n",
       "    <tr>\n",
       "      <th>2017-12-06</th>\n",
       "      <td>13540.980000</td>\n",
       "      <td>422.48</td>\n",
       "    </tr>\n",
       "    <tr>\n",
       "      <th>2017-12-07</th>\n",
       "      <td>16501.971667</td>\n",
       "      <td>421.15</td>\n",
       "    </tr>\n",
       "    <tr>\n",
       "      <th>2017-12-08</th>\n",
       "      <td>16007.436667</td>\n",
       "      <td>421.15</td>\n",
       "    </tr>\n",
       "    <tr>\n",
       "      <th>2017-12-09</th>\n",
       "      <td>15142.834152</td>\n",
       "      <td>421.15</td>\n",
       "    </tr>\n",
       "    <tr>\n",
       "      <th>2017-12-10</th>\n",
       "      <td>14869.805000</td>\n",
       "      <td>421.15</td>\n",
       "    </tr>\n",
       "    <tr>\n",
       "      <th>2017-12-11</th>\n",
       "      <td>16762.116667</td>\n",
       "      <td>513.29</td>\n",
       "    </tr>\n",
       "    <tr>\n",
       "      <th>2017-12-12</th>\n",
       "      <td>17276.393333</td>\n",
       "      <td>656.52</td>\n",
       "    </tr>\n",
       "    <tr>\n",
       "      <th>2017-12-13</th>\n",
       "      <td>16808.366667</td>\n",
       "      <td>699.09</td>\n",
       "    </tr>\n",
       "    <tr>\n",
       "      <th>2017-12-14</th>\n",
       "      <td>16678.892000</td>\n",
       "      <td>693.58</td>\n",
       "    </tr>\n",
       "    <tr>\n",
       "      <th>2017-12-15</th>\n",
       "      <td>17771.900000</td>\n",
       "      <td>684.27</td>\n",
       "    </tr>\n",
       "  </tbody>\n",
       "</table>\n",
       "</div>"
      ],
      "text/plain": [
       "                 Bitcoin   Ether\n",
       "Timestamp                       \n",
       "2017-12-01  10883.912000  461.58\n",
       "2017-12-02  11071.368333  457.96\n",
       "2017-12-03  11332.622000  462.81\n",
       "2017-12-04  11584.830000  466.93\n",
       "2017-12-05  11878.433333  453.96\n",
       "2017-12-06  13540.980000  422.48\n",
       "2017-12-07  16501.971667  421.15\n",
       "2017-12-08  16007.436667  421.15\n",
       "2017-12-09  15142.834152  421.15\n",
       "2017-12-10  14869.805000  421.15\n",
       "2017-12-11  16762.116667  513.29\n",
       "2017-12-12  17276.393333  656.52\n",
       "2017-12-13  16808.366667  699.09\n",
       "2017-12-14  16678.892000  693.58\n",
       "2017-12-15  17771.900000  684.27"
      ]
     },
     "execution_count": 38,
     "metadata": {},
     "output_type": "execute_result"
    }
   ],
   "source": [
    "df_na.ffill()"
   ]
  },
  {
   "cell_type": "code",
   "execution_count": 39,
   "id": "273e8cf6-48c6-4c8c-a520-bb2c189517da",
   "metadata": {},
   "outputs": [
    {
     "data": {
      "text/html": [
       "<div>\n",
       "<style scoped>\n",
       "    .dataframe tbody tr th:only-of-type {\n",
       "        vertical-align: middle;\n",
       "    }\n",
       "\n",
       "    .dataframe tbody tr th {\n",
       "        vertical-align: top;\n",
       "    }\n",
       "\n",
       "    .dataframe thead th {\n",
       "        text-align: right;\n",
       "    }\n",
       "</style>\n",
       "<table border=\"1\" class=\"dataframe\">\n",
       "  <thead>\n",
       "    <tr style=\"text-align: right;\">\n",
       "      <th></th>\n",
       "      <th>Bitcoin</th>\n",
       "      <th>Ether</th>\n",
       "    </tr>\n",
       "    <tr>\n",
       "      <th>Timestamp</th>\n",
       "      <th></th>\n",
       "      <th></th>\n",
       "    </tr>\n",
       "  </thead>\n",
       "  <tbody>\n",
       "    <tr>\n",
       "      <th>2017-12-01</th>\n",
       "      <td>10883.912000</td>\n",
       "      <td>461.58</td>\n",
       "    </tr>\n",
       "    <tr>\n",
       "      <th>2017-12-02</th>\n",
       "      <td>11071.368333</td>\n",
       "      <td>457.96</td>\n",
       "    </tr>\n",
       "    <tr>\n",
       "      <th>2017-12-03</th>\n",
       "      <td>11332.622000</td>\n",
       "      <td>462.81</td>\n",
       "    </tr>\n",
       "    <tr>\n",
       "      <th>2017-12-04</th>\n",
       "      <td>11584.830000</td>\n",
       "      <td>466.93</td>\n",
       "    </tr>\n",
       "    <tr>\n",
       "      <th>2017-12-05</th>\n",
       "      <td>11878.433333</td>\n",
       "      <td>453.96</td>\n",
       "    </tr>\n",
       "    <tr>\n",
       "      <th>2017-12-06</th>\n",
       "      <td>13540.980000</td>\n",
       "      <td>422.48</td>\n",
       "    </tr>\n",
       "    <tr>\n",
       "      <th>2017-12-07</th>\n",
       "      <td>16501.971667</td>\n",
       "      <td>421.15</td>\n",
       "    </tr>\n",
       "    <tr>\n",
       "      <th>2017-12-08</th>\n",
       "      <td>16007.436667</td>\n",
       "      <td>NaN</td>\n",
       "    </tr>\n",
       "    <tr>\n",
       "      <th>2017-12-09</th>\n",
       "      <td>15142.834152</td>\n",
       "      <td>NaN</td>\n",
       "    </tr>\n",
       "    <tr>\n",
       "      <th>2017-12-10</th>\n",
       "      <td>14869.805000</td>\n",
       "      <td>NaN</td>\n",
       "    </tr>\n",
       "    <tr>\n",
       "      <th>2017-12-11</th>\n",
       "      <td>16762.116667</td>\n",
       "      <td>513.29</td>\n",
       "    </tr>\n",
       "    <tr>\n",
       "      <th>2017-12-12</th>\n",
       "      <td>17276.393333</td>\n",
       "      <td>656.52</td>\n",
       "    </tr>\n",
       "    <tr>\n",
       "      <th>2017-12-13</th>\n",
       "      <td>16808.366667</td>\n",
       "      <td>699.09</td>\n",
       "    </tr>\n",
       "    <tr>\n",
       "      <th>2017-12-14</th>\n",
       "      <td>16678.892000</td>\n",
       "      <td>693.58</td>\n",
       "    </tr>\n",
       "    <tr>\n",
       "      <th>2017-12-15</th>\n",
       "      <td>17771.900000</td>\n",
       "      <td>684.27</td>\n",
       "    </tr>\n",
       "  </tbody>\n",
       "</table>\n",
       "</div>"
      ],
      "text/plain": [
       "                 Bitcoin   Ether\n",
       "Timestamp                       \n",
       "2017-12-01  10883.912000  461.58\n",
       "2017-12-02  11071.368333  457.96\n",
       "2017-12-03  11332.622000  462.81\n",
       "2017-12-04  11584.830000  466.93\n",
       "2017-12-05  11878.433333  453.96\n",
       "2017-12-06  13540.980000  422.48\n",
       "2017-12-07  16501.971667  421.15\n",
       "2017-12-08  16007.436667     NaN\n",
       "2017-12-09  15142.834152     NaN\n",
       "2017-12-10  14869.805000     NaN\n",
       "2017-12-11  16762.116667  513.29\n",
       "2017-12-12  17276.393333  656.52\n",
       "2017-12-13  16808.366667  699.09\n",
       "2017-12-14  16678.892000  693.58\n",
       "2017-12-15  17771.900000  684.27"
      ]
     },
     "execution_count": 39,
     "metadata": {},
     "output_type": "execute_result"
    }
   ],
   "source": [
    "df_na"
   ]
  },
  {
   "cell_type": "code",
   "execution_count": 45,
   "id": "58b46b2a-2b18-428c-b175-5eed857d5293",
   "metadata": {},
   "outputs": [],
   "source": [
    "df.fillna(df.loc['2017-12-07': '2017-12-11'].mean(), inplace=True)"
   ]
  },
  {
   "cell_type": "code",
   "execution_count": 46,
   "id": "1690b08c-1726-4693-8d9c-f2811d73b4f0",
   "metadata": {},
   "outputs": [
    {
     "data": {
      "text/plain": [
       "<Axes: xlabel='Timestamp'>"
      ]
     },
     "execution_count": 46,
     "metadata": {},
     "output_type": "execute_result"
    },
    {
     "data": {
      "image/png": "[encoded data removed]",
      "text/plain": [
       "<Figure size 1500x800 with 1 Axes>"
      ]
     },
     "metadata": {},
     "output_type": "display_data"
    }
   ],
   "source": [
    "df.plot(figsize=(15, 8))"
   ]
  },
  {
   "cell_type": "code",
   "execution_count": 47,
   "id": "e4704787-e656-465d-adf9-3d3959b426d9",
   "metadata": {},
   "outputs": [
    {
     "data": {
      "text/plain": [
       "<Axes: xlabel='Timestamp'>"
      ]
     },
     "execution_count": 47,
     "metadata": {},
     "output_type": "execute_result"
    },
    {
     "data": {
      "image/png": "[encoded data removed]",
      "text/plain": [
       "<Figure size 640x480 with 1 Axes>"
      ]
     },
     "metadata": {},
     "output_type": "display_data"
    }
   ],
   "source": [
    "df.loc['2017-12-25': '2018-01-01'].plot()"
   ]
  },
  {
   "cell_type": "code",
   "execution_count": 48,
   "id": "5c1b134a-31a5-4917-9e84-9f25a9cffff2",
   "metadata": {},
   "outputs": [
    {
     "data": {
      "text/html": [
       "<div>\n",
       "<style scoped>\n",
       "    .dataframe tbody tr th:only-of-type {\n",
       "        vertical-align: middle;\n",
       "    }\n",
       "\n",
       "    .dataframe tbody tr th {\n",
       "        vertical-align: top;\n",
       "    }\n",
       "\n",
       "    .dataframe thead th {\n",
       "        text-align: right;\n",
       "    }\n",
       "</style>\n",
       "<table border=\"1\" class=\"dataframe\">\n",
       "  <thead>\n",
       "    <tr style=\"text-align: right;\">\n",
       "      <th></th>\n",
       "      <th>Bitcoin</th>\n",
       "      <th>Ether</th>\n",
       "    </tr>\n",
       "    <tr>\n",
       "      <th>Timestamp</th>\n",
       "      <th></th>\n",
       "      <th></th>\n",
       "    </tr>\n",
       "  </thead>\n",
       "  <tbody>\n",
       "    <tr>\n",
       "      <th>2017-12-25</th>\n",
       "      <td>14119.028333</td>\n",
       "      <td>723.14</td>\n",
       "    </tr>\n",
       "    <tr>\n",
       "      <th>2017-12-26</th>\n",
       "      <td>15999.048333</td>\n",
       "      <td>753.40</td>\n",
       "    </tr>\n",
       "    <tr>\n",
       "      <th>2017-12-27</th>\n",
       "      <td>15589.321667</td>\n",
       "      <td>739.94</td>\n",
       "    </tr>\n",
       "    <tr>\n",
       "      <th>2017-12-28</th>\n",
       "      <td>143805.816667</td>\n",
       "      <td>7166.90</td>\n",
       "    </tr>\n",
       "    <tr>\n",
       "      <th>2017-12-29</th>\n",
       "      <td>14640.140000</td>\n",
       "      <td>739.60</td>\n",
       "    </tr>\n",
       "    <tr>\n",
       "      <th>2017-12-30</th>\n",
       "      <td>13215.574000</td>\n",
       "      <td>692.99</td>\n",
       "    </tr>\n",
       "    <tr>\n",
       "      <th>2017-12-31</th>\n",
       "      <td>14165.575000</td>\n",
       "      <td>741.13</td>\n",
       "    </tr>\n",
       "    <tr>\n",
       "      <th>2018-01-01</th>\n",
       "      <td>13812.186667</td>\n",
       "      <td>756.20</td>\n",
       "    </tr>\n",
       "  </tbody>\n",
       "</table>\n",
       "</div>"
      ],
      "text/plain": [
       "                  Bitcoin    Ether\n",
       "Timestamp                         \n",
       "2017-12-25   14119.028333   723.14\n",
       "2017-12-26   15999.048333   753.40\n",
       "2017-12-27   15589.321667   739.94\n",
       "2017-12-28  143805.816667  7166.90\n",
       "2017-12-29   14640.140000   739.60\n",
       "2017-12-30   13215.574000   692.99\n",
       "2017-12-31   14165.575000   741.13\n",
       "2018-01-01   13812.186667   756.20"
      ]
     },
     "execution_count": 48,
     "metadata": {},
     "output_type": "execute_result"
    }
   ],
   "source": [
    "df.loc['2017-12-25': '2018-01-01']"
   ]
  },
  {
   "cell_type": "code",
   "execution_count": 49,
   "id": "d3211e62-c9b4-477e-9cac-bca155260bdc",
   "metadata": {},
   "outputs": [
    {
     "data": {
      "text/plain": [
       "<Axes: xlabel='Timestamp'>"
      ]
     },
     "execution_count": 49,
     "metadata": {},
     "output_type": "execute_result"
    },
    {
     "data": {
      "image/png": "[encoded data removed]",
      "text/plain": [
       "<Figure size 640x480 with 1 Axes>"
      ]
     },
     "metadata": {},
     "output_type": "display_data"
    }
   ],
   "source": [
    "df.loc['2018-03-01': '2018-03-07'].plot()"
   ]
  },
  {
   "cell_type": "code",
   "execution_count": 50,
   "id": "ffcb6f96-0e79-4a0f-bf3e-d877885a09a2",
   "metadata": {},
   "outputs": [
    {
     "data": {
      "text/html": [
       "<div>\n",
       "<style scoped>\n",
       "    .dataframe tbody tr th:only-of-type {\n",
       "        vertical-align: middle;\n",
       "    }\n",
       "\n",
       "    .dataframe tbody tr th {\n",
       "        vertical-align: top;\n",
       "    }\n",
       "\n",
       "    .dataframe thead th {\n",
       "        text-align: right;\n",
       "    }\n",
       "</style>\n",
       "<table border=\"1\" class=\"dataframe\">\n",
       "  <thead>\n",
       "    <tr style=\"text-align: right;\">\n",
       "      <th></th>\n",
       "      <th>Bitcoin</th>\n",
       "      <th>Ether</th>\n",
       "    </tr>\n",
       "    <tr>\n",
       "      <th>Timestamp</th>\n",
       "      <th></th>\n",
       "      <th></th>\n",
       "    </tr>\n",
       "  </thead>\n",
       "  <tbody>\n",
       "    <tr>\n",
       "      <th>2018-03-01</th>\n",
       "      <td>11009.381667</td>\n",
       "      <td>869.87</td>\n",
       "    </tr>\n",
       "    <tr>\n",
       "      <th>2018-03-02</th>\n",
       "      <td>11055.815000</td>\n",
       "      <td>855.60</td>\n",
       "    </tr>\n",
       "    <tr>\n",
       "      <th>2018-03-03</th>\n",
       "      <td>11326.948333</td>\n",
       "      <td>855.65</td>\n",
       "    </tr>\n",
       "    <tr>\n",
       "      <th>2018-03-04</th>\n",
       "      <td>114301.816667</td>\n",
       "      <td>8648.30</td>\n",
       "    </tr>\n",
       "    <tr>\n",
       "      <th>2018-03-05</th>\n",
       "      <td>11595.540000</td>\n",
       "      <td>849.42</td>\n",
       "    </tr>\n",
       "    <tr>\n",
       "      <th>2018-03-06</th>\n",
       "      <td>10763.198333</td>\n",
       "      <td>815.69</td>\n",
       "    </tr>\n",
       "    <tr>\n",
       "      <th>2018-03-07</th>\n",
       "      <td>10118.058000</td>\n",
       "      <td>751.13</td>\n",
       "    </tr>\n",
       "  </tbody>\n",
       "</table>\n",
       "</div>"
      ],
      "text/plain": [
       "                  Bitcoin    Ether\n",
       "Timestamp                         \n",
       "2018-03-01   11009.381667   869.87\n",
       "2018-03-02   11055.815000   855.60\n",
       "2018-03-03   11326.948333   855.65\n",
       "2018-03-04  114301.816667  8648.30\n",
       "2018-03-05   11595.540000   849.42\n",
       "2018-03-06   10763.198333   815.69\n",
       "2018-03-07   10118.058000   751.13"
      ]
     },
     "execution_count": 50,
     "metadata": {},
     "output_type": "execute_result"
    }
   ],
   "source": [
    "df.loc['2018-03-01': '2018-03-07']"
   ]
  },
  {
   "cell_type": "code",
   "execution_count": 51,
   "id": "0e0dc1c7-d540-4e0c-a444-53f7ec4d653b",
   "metadata": {},
   "outputs": [],
   "source": [
    "df_clear = df.copy()"
   ]
  },
  {
   "cell_type": "code",
   "execution_count": 52,
   "id": "8fcbd9b7-b392-4175-ba27-411d34b9c46c",
   "metadata": {},
   "outputs": [],
   "source": [
    "df_clear.loc['2017-12-28'] = df_clear.loc['2017-12-28'] / 10"
   ]
  },
  {
   "cell_type": "code",
   "execution_count": 53,
   "id": "98462711-505c-43cf-8816-119f7ea55248",
   "metadata": {},
   "outputs": [],
   "source": [
    "df_clear.loc['2018-03-04'] = df_clear.loc['2018-03-04'] / 10"
   ]
  },
  {
   "cell_type": "code",
   "execution_count": 54,
   "id": "c0342953-c17d-4ece-bd2d-e2ee718b88d8",
   "metadata": {},
   "outputs": [
    {
     "data": {
      "text/plain": [
       "<Axes: xlabel='Timestamp'>"
      ]
     },
     "execution_count": 54,
     "metadata": {},
     "output_type": "execute_result"
    },
    {
     "data": {
      "image/png": "[encoded data removed]",
      "text/plain": [
       "<Figure size 1500x800 with 1 Axes>"
      ]
     },
     "metadata": {},
     "output_type": "display_data"
    }
   ],
   "source": [
    "df_clear.plot(figsize=(15, 8))"
   ]
  },
  {
   "cell_type": "code",
   "execution_count": 55,
   "id": "b8572608-d798-49ab-a753-e65d9293a14e",
   "metadata": {},
   "outputs": [
    {
     "data": {
      "text/plain": [
       "Bitcoin    6996.004022\n",
       "Ether       469.230411\n",
       "dtype: float64"
      ]
     },
     "execution_count": 55,
     "metadata": {},
     "output_type": "execute_result"
    }
   ],
   "source": [
    "df.mean()"
   ]
  },
  {
   "cell_type": "code",
   "execution_count": 56,
   "id": "eaf01efb-80ce-4f3a-9abd-05c2c5bc8129",
   "metadata": {},
   "outputs": [
    {
     "data": {
      "text/plain": [
       "Bitcoin    6359.574241\n",
       "Ether       430.234027\n",
       "dtype: float64"
      ]
     },
     "execution_count": 56,
     "metadata": {},
     "output_type": "execute_result"
    }
   ],
   "source": [
    "df_clear.mean()"
   ]
  },
  {
   "cell_type": "code",
   "execution_count": 57,
   "id": "0657f265-15cc-43d4-a4d8-f58db27ba2da",
   "metadata": {},
   "outputs": [
    {
     "data": {
      "text/plain": [
       "<seaborn.axisgrid.FacetGrid at 0x1a4b29fb3e0>"
      ]
     },
     "execution_count": 57,
     "metadata": {},
     "output_type": "execute_result"
    },
    {
     "data": {
      "image/png": "[encoded data removed]",
      "text/plain": [
       "<Figure size 500x500 with 1 Axes>"
      ]
     },
     "metadata": {},
     "output_type": "display_data"
    }
   ],
   "source": [
    "sns.displot(df_clear.Bitcoin, kind='kde', fill=True, rug=True)"
   ]
  },
  {
   "cell_type": "code",
   "execution_count": 58,
   "id": "20fad3c9-71e3-4a67-9038-cc2b8b7677b1",
   "metadata": {},
   "outputs": [
    {
     "data": {
      "text/plain": [
       "<seaborn.axisgrid.FacetGrid at 0x1a4b2d0e6f0>"
      ]
     },
     "execution_count": 58,
     "metadata": {},
     "output_type": "execute_result"
    },
    {
     "data": {
      "image/png": "[encoded data removed]",
      "text/plain": [
       "<Figure size 500x500 with 1 Axes>"
      ]
     },
     "metadata": {},
     "output_type": "display_data"
    }
   ],
   "source": [
    "sns.displot(np.log(df_clear.Bitcoin), kind='kde', fill=True, rug=True)"
   ]
  },
  {
   "cell_type": "code",
   "execution_count": 59,
   "id": "08469dc8-4c96-4462-ae05-311216aab688",
   "metadata": {},
   "outputs": [
    {
     "data": {
      "text/plain": [
       "<seaborn.axisgrid.FacetGrid at 0x1a4b2d31b50>"
      ]
     },
     "execution_count": 59,
     "metadata": {},
     "output_type": "execute_result"
    },
    {
     "data": {
      "image/png": "[encoded data removed]",
      "text/plain": [
       "<Figure size 500x500 with 1 Axes>"
      ]
     },
     "metadata": {},
     "output_type": "display_data"
    }
   ],
   "source": [
    "sns.displot(df_clear.Ether, kind='kde', fill=True, rug=True)"
   ]
  },
  {
   "cell_type": "code",
   "execution_count": 60,
   "id": "3bd07a06-904d-4ce5-8609-072314d960f5",
   "metadata": {},
   "outputs": [
    {
     "data": {
      "text/plain": [
       "<seaborn.axisgrid.FacetGrid at 0x1a4b3259df0>"
      ]
     },
     "execution_count": 60,
     "metadata": {},
     "output_type": "execute_result"
    },
    {
     "data": {
      "image/png": "[encoded data removed]",
      "text/plain": [
       "<Figure size 500x500 with 1 Axes>"
      ]
     },
     "metadata": {},
     "output_type": "display_data"
    }
   ],
   "source": [
    "sns.displot(np.log(df_clear.Ether), kind='kde', fill=True, rug=True)"
   ]
  },
  {
   "cell_type": "code",
   "execution_count": 61,
   "id": "82b0382c-4a67-4349-9a08-a0e2e86da5de",
   "metadata": {},
   "outputs": [
    {
     "data": {
      "text/plain": [
       "<seaborn.axisgrid.JointGrid at 0x1a4b3317cb0>"
      ]
     },
     "execution_count": 61,
     "metadata": {},
     "output_type": "execute_result"
    },
    {
     "data": {
      "image/png": "[encoded data removed]",
      "text/plain": [
       "<Figure size 600x600 with 3 Axes>"
      ]
     },
     "metadata": {},
     "output_type": "display_data"
    }
   ],
   "source": [
    "sns.jointplot(df_clear, x='Ether', y='Bitcoin')"
   ]
  },
  {
   "cell_type": "markdown",
   "id": "52012173-539e-4fdc-bbbe-3452c19391fb",
   "metadata": {},
   "source": [
    "## Dispersion"
   ]
  },
  {
   "cell_type": "markdown",
   "id": "63aeff8e-18da-4b65-9da8-90d3d645fbc3",
   "metadata": {},
   "source": [
    "**range**"
   ]
  },
  {
   "cell_type": "code",
   "execution_count": 62,
   "id": "42b464f8-9d61-4a98-9ad5-17bc76246cc6",
   "metadata": {},
   "outputs": [
    {
     "data": {
      "text/plain": [
       "Bitcoin    142706.647542\n",
       "Ether        8605.990000\n",
       "dtype: float64"
      ]
     },
     "execution_count": 62,
     "metadata": {},
     "output_type": "execute_result"
    }
   ],
   "source": [
    "df.max() - df.min()"
   ]
  },
  {
   "cell_type": "code",
   "execution_count": 63,
   "id": "b04c99c5-8079-423f-8525-f37cdf13e30c",
   "metadata": {},
   "outputs": [
    {
     "data": {
      "text/plain": [
       "Bitcoin    18399.514208\n",
       "Ether       1342.710000\n",
       "dtype: float64"
      ]
     },
     "execution_count": 63,
     "metadata": {},
     "output_type": "execute_result"
    }
   ],
   "source": [
    "df_clear.max() - df_clear.min()"
   ]
  },
  {
   "cell_type": "markdown",
   "id": "89645c92-2f49-4e45-b2fd-28b752601dac",
   "metadata": {},
   "source": [
    "**Var & Std**"
   ]
  },
  {
   "cell_type": "code",
   "execution_count": 66,
   "id": "ebd87f41-b8e2-426e-bed1-f52a7cdc4903",
   "metadata": {},
   "outputs": [
    {
     "data": {
      "text/plain": [
       "Bitcoin    103766537.8\n",
       "Ether         402197.5\n",
       "dtype: float64"
      ]
     },
     "execution_count": 66,
     "metadata": {},
     "output_type": "execute_result"
    }
   ],
   "source": [
    "df.var().round(1)"
   ]
  },
  {
   "cell_type": "code",
   "execution_count": 67,
   "id": "d818276f-eac3-4729-960c-021dcb79c0e8",
   "metadata": {},
   "outputs": [
    {
     "data": {
      "text/plain": [
       "Bitcoin    20510743.8\n",
       "Ether         94248.9\n",
       "dtype: float64"
      ]
     },
     "execution_count": 67,
     "metadata": {},
     "output_type": "execute_result"
    }
   ],
   "source": [
    "df_clear.var().round(1)"
   ]
  },
  {
   "cell_type": "code",
   "execution_count": 68,
   "id": "aef86242-af0b-49f1-8774-8641f46815e4",
   "metadata": {},
   "outputs": [
    {
     "data": {
      "text/plain": [
       "Bitcoin    10186.586168\n",
       "Ether        634.190444\n",
       "dtype: float64"
      ]
     },
     "execution_count": 68,
     "metadata": {},
     "output_type": "execute_result"
    }
   ],
   "source": [
    "df.std()"
   ]
  },
  {
   "cell_type": "code",
   "execution_count": 69,
   "id": "46e77c27-0eff-4c48-a796-776ba503e5d5",
   "metadata": {},
   "outputs": [
    {
     "data": {
      "text/plain": [
       "Bitcoin    4528.878870\n",
       "Ether       306.999896\n",
       "dtype: float64"
      ]
     },
     "execution_count": 69,
     "metadata": {},
     "output_type": "execute_result"
    }
   ],
   "source": [
    "df_clear.std()"
   ]
  },
  {
   "cell_type": "markdown",
   "id": "e000e9ca-8d06-44d3-ac11-89d954a2b3cc",
   "metadata": {},
   "source": [
    "**IQR**"
   ]
  },
  {
   "cell_type": "code",
   "execution_count": 70,
   "id": "0766cd66-addd-42c5-bc19-5e2e4338cca3",
   "metadata": {},
   "outputs": [
    {
     "data": {
      "text/plain": [
       "Bitcoin    6597.494148\n",
       "Ether       415.580000\n",
       "dtype: float64"
      ]
     },
     "execution_count": 70,
     "metadata": {},
     "output_type": "execute_result"
    }
   ],
   "source": [
    "df.quantile(.75) - df.quantile(.25)"
   ]
  },
  {
   "cell_type": "code",
   "execution_count": 71,
   "id": "576293a6-8349-4e69-9c10-582402553189",
   "metadata": {},
   "outputs": [
    {
     "data": {
      "text/plain": [
       "Bitcoin    6597.494148\n",
       "Ether       415.580000\n",
       "dtype: float64"
      ]
     },
     "execution_count": 71,
     "metadata": {},
     "output_type": "execute_result"
    }
   ],
   "source": [
    "df_clear.quantile(.75) - df_clear.quantile(.25)"
   ]
  },
  {
   "cell_type": "markdown",
   "id": "fc01373e-7cc7-40f3-a3c4-0d18f83dbb1b",
   "metadata": {},
   "source": [
    "## Z-score Analysis"
   ]
  },
  {
   "cell_type": "code",
   "execution_count": 72,
   "id": "34e8ca1d-03a8-4005-94db-0f2c844336c9",
   "metadata": {},
   "outputs": [],
   "source": [
    "upper_limit = df.Bitcoin.mean() + 2 * df.Bitcoin.std()\n",
    "lower_limit = df.Bitcoin.mean() - 2 * df.Bitcoin.std()"
   ]
  },
  {
   "cell_type": "code",
   "execution_count": 74,
   "id": "8d34bccf-3658-4389-9751-7a8e32bb6d3c",
   "metadata": {},
   "outputs": [
    {
     "data": {
      "text/plain": [
       "<matplotlib.lines.Line2D at 0x1a4b2db1730>"
      ]
     },
     "execution_count": 74,
     "metadata": {},
     "output_type": "execute_result"
    },
    {
     "data": {
      "image/png": "[encoded data removed]",
      "text/plain": [
       "<Figure size 1200x700 with 1 Axes>"
      ]
     },
     "metadata": {},
     "output_type": "display_data"
    }
   ],
   "source": [
    "fig, ax = plt.subplots(figsize=(12, 7))\n",
    "\n",
    "sns.histplot(df.Bitcoin, kde=True, element='step', ax=ax)\n",
    "ax.axvline(upper_limit, c='r')\n",
    "ax.axvline(lower_limit, c='r')"
   ]
  },
  {
   "cell_type": "code",
   "execution_count": 75,
   "id": "a2a171ff-2036-4721-b086-fc84eb08d460",
   "metadata": {},
   "outputs": [
    {
     "data": {
      "text/plain": [
       "6597.494147619047"
      ]
     },
     "execution_count": 75,
     "metadata": {},
     "output_type": "execute_result"
    }
   ],
   "source": [
    "iqr = df.Bitcoin.quantile(.75) - df.Bitcoin.quantile(.25)\n",
    "iqr"
   ]
  },
  {
   "cell_type": "code",
   "execution_count": 76,
   "id": "44364174-907c-47ed-b6ec-061e4cce1bea",
   "metadata": {},
   "outputs": [],
   "source": [
    "upper_limit = df.Bitcoin.mean() + 2 * iqr\n",
    "lower_limit = df.Bitcoin.mean() - 2 * iqr"
   ]
  },
  {
   "cell_type": "code",
   "execution_count": 77,
   "id": "1c863f3d-a29e-43db-9460-bf30eae82c77",
   "metadata": {},
   "outputs": [
    {
     "data": {
      "text/plain": [
       "<matplotlib.lines.Line2D at 0x1a4b20d7140>"
      ]
     },
     "execution_count": 77,
     "metadata": {},
     "output_type": "execute_result"
    },
    {
     "data": {
      "image/png": "[encoded data removed]",
      "text/plain": [
       "<Figure size 1200x700 with 1 Axes>"
      ]
     },
     "metadata": {},
     "output_type": "display_data"
    }
   ],
   "source": [
    "fig, ax = plt.subplots(figsize=(12, 7))\n",
    "\n",
    "sns.histplot(df.Bitcoin, kde=True, element='step', ax=ax)\n",
    "ax.axvline(upper_limit, c='r')\n",
    "ax.axvline(lower_limit, c='r')"
   ]
  },
  {
   "cell_type": "code",
   "execution_count": 78,
   "id": "930128d5-c9e3-4dc1-8650-b8ca812c0763",
   "metadata": {},
   "outputs": [],
   "source": [
    "upper_limit = df.Bitcoin.mean() + 2 * df.Bitcoin.std()\n",
    "lower_limit = df.Bitcoin.mean() - 2 * df.Bitcoin.std()"
   ]
  },
  {
   "cell_type": "code",
   "execution_count": 79,
   "id": "57df04d1-d0b1-4e22-80ad-2e386764e74a",
   "metadata": {},
   "outputs": [
    {
     "data": {
      "text/plain": [
       "<Axes: xlabel='Timestamp'>"
      ]
     },
     "execution_count": 79,
     "metadata": {},
     "output_type": "execute_result"
    },
    {
     "data": {
      "image/png": "[encoded data removed]",
      "text/plain": [
       "<Figure size 1500x800 with 1 Axes>"
      ]
     },
     "metadata": {},
     "output_type": "display_data"
    }
   ],
   "source": [
    "df[df.Bitcoin < upper_limit].plot(figsize=(15, 8))"
   ]
  },
  {
   "cell_type": "markdown",
   "id": "f18497fe-31c1-4862-b2c4-d991e2c816f4",
   "metadata": {},
   "source": [
    "# Example 2"
   ]
  },
  {
   "cell_type": "code",
   "execution_count": 2,
   "id": "98f2aa7e-d0d5-40c7-b9a2-ff5b65bc5bf7",
   "metadata": {},
   "outputs": [],
   "source": [
    "df = pd.read_csv('unicorn_startups.csv')"
   ]
  },
  {
   "cell_type": "code",
   "execution_count": 3,
   "id": "0506855a-8cc9-4206-af86-c196de4f71bb",
   "metadata": {},
   "outputs": [
    {
     "data": {
      "text/html": [
       "<div>\n",
       "<style scoped>\n",
       "    .dataframe tbody tr th:only-of-type {\n",
       "        vertical-align: middle;\n",
       "    }\n",
       "\n",
       "    .dataframe tbody tr th {\n",
       "        vertical-align: top;\n",
       "    }\n",
       "\n",
       "    .dataframe thead th {\n",
       "        text-align: right;\n",
       "    }\n",
       "</style>\n",
       "<table border=\"1\" class=\"dataframe\">\n",
       "  <thead>\n",
       "    <tr style=\"text-align: right;\">\n",
       "      <th></th>\n",
       "      <th>Company</th>\n",
       "      <th>Valuation ($B)</th>\n",
       "      <th>Date Joined</th>\n",
       "      <th>Country</th>\n",
       "      <th>City</th>\n",
       "      <th>Industry</th>\n",
       "      <th>Investors</th>\n",
       "    </tr>\n",
       "  </thead>\n",
       "  <tbody>\n",
       "    <tr>\n",
       "      <th>0</th>\n",
       "      <td>ByteDance</td>\n",
       "      <td>$140</td>\n",
       "      <td>4/7/2017</td>\n",
       "      <td>China</td>\n",
       "      <td>Beijing</td>\n",
       "      <td>Artificial intelligence</td>\n",
       "      <td>Sequoia Capital China, SIG Asia Investments, S...</td>\n",
       "    </tr>\n",
       "    <tr>\n",
       "      <th>1</th>\n",
       "      <td>SpaceX</td>\n",
       "      <td>$127</td>\n",
       "      <td>12/1/2012</td>\n",
       "      <td>United States</td>\n",
       "      <td>Hawthorne</td>\n",
       "      <td>Other</td>\n",
       "      <td>Founders Fund, Draper Fisher Jurvetson, Rothen...</td>\n",
       "    </tr>\n",
       "    <tr>\n",
       "      <th>2</th>\n",
       "      <td>SHEIN</td>\n",
       "      <td>$100</td>\n",
       "      <td>7/3/2018</td>\n",
       "      <td>China</td>\n",
       "      <td>Shenzhen</td>\n",
       "      <td>E-commerce &amp; direct-to-consumer</td>\n",
       "      <td>Tiger Global Management, Sequoia Capital China...</td>\n",
       "    </tr>\n",
       "    <tr>\n",
       "      <th>3</th>\n",
       "      <td>Stripe</td>\n",
       "      <td>$95</td>\n",
       "      <td>1/23/2014</td>\n",
       "      <td>United States</td>\n",
       "      <td>San Francisco</td>\n",
       "      <td>Fintech</td>\n",
       "      <td>Khosla Ventures, LowercaseCapital, capitalG</td>\n",
       "    </tr>\n",
       "    <tr>\n",
       "      <th>4</th>\n",
       "      <td>Canva</td>\n",
       "      <td>$40</td>\n",
       "      <td>1/8/2018</td>\n",
       "      <td>Australia</td>\n",
       "      <td>Surry Hills</td>\n",
       "      <td>Internet software &amp; services</td>\n",
       "      <td>Sequoia Capital China, Blackbird Ventures, Mat...</td>\n",
       "    </tr>\n",
       "  </tbody>\n",
       "</table>\n",
       "</div>"
      ],
      "text/plain": [
       "     Company Valuation ($B) Date Joined        Country           City  \\\n",
       "0  ByteDance           $140    4/7/2017          China        Beijing   \n",
       "1     SpaceX           $127   12/1/2012  United States      Hawthorne   \n",
       "2      SHEIN           $100    7/3/2018          China       Shenzhen   \n",
       "3     Stripe            $95   1/23/2014  United States  San Francisco   \n",
       "4      Canva            $40    1/8/2018      Australia    Surry Hills   \n",
       "\n",
       "                          Industry  \\\n",
       "0          Artificial intelligence   \n",
       "1                            Other   \n",
       "2  E-commerce & direct-to-consumer   \n",
       "3                          Fintech   \n",
       "4     Internet software & services   \n",
       "\n",
       "                                           Investors  \n",
       "0  Sequoia Capital China, SIG Asia Investments, S...  \n",
       "1  Founders Fund, Draper Fisher Jurvetson, Rothen...  \n",
       "2  Tiger Global Management, Sequoia Capital China...  \n",
       "3        Khosla Ventures, LowercaseCapital, capitalG  \n",
       "4  Sequoia Capital China, Blackbird Ventures, Mat...  "
      ]
     },
     "execution_count": 3,
     "metadata": {},
     "output_type": "execute_result"
    }
   ],
   "source": [
    "df.head()"
   ]
  },
  {
   "cell_type": "code",
   "execution_count": 4,
   "id": "00af52cf-f914-4a3a-b543-d5180651196f",
   "metadata": {},
   "outputs": [
    {
     "name": "stdout",
     "output_type": "stream",
     "text": [
      "<class 'pandas.core.frame.DataFrame'>\n",
      "RangeIndex: 1186 entries, 0 to 1185\n",
      "Data columns (total 7 columns):\n",
      " #   Column          Non-Null Count  Dtype \n",
      "---  ------          --------------  ----- \n",
      " 0   Company         1186 non-null   object\n",
      " 1   Valuation ($B)  1186 non-null   object\n",
      " 2   Date Joined     1186 non-null   object\n",
      " 3   Country         1186 non-null   object\n",
      " 4   City            1186 non-null   object\n",
      " 5   Industry        1186 non-null   object\n",
      " 6   Investors       1168 non-null   object\n",
      "dtypes: object(7)\n",
      "memory usage: 65.0+ KB\n"
     ]
    }
   ],
   "source": [
    "df.info()"
   ]
  },
  {
   "cell_type": "code",
   "execution_count": 5,
   "id": "38ee8605-eee9-47a4-a440-7a054fcf8169",
   "metadata": {},
   "outputs": [],
   "source": [
    "df['Date Joined'] = pd.to_datetime(df['Date Joined'])"
   ]
  },
  {
   "cell_type": "code",
   "execution_count": 6,
   "id": "2da34a8a-ee78-4556-b98c-bd36e053f39f",
   "metadata": {},
   "outputs": [],
   "source": [
    "df['Valuation ($B)'] = df['Valuation ($B)'].str.strip('$').astype('float')"
   ]
  },
  {
   "cell_type": "code",
   "execution_count": 7,
   "id": "11ad7017-cfab-4fd4-a263-0da5e2b8ddda",
   "metadata": {},
   "outputs": [
    {
     "name": "stdout",
     "output_type": "stream",
     "text": [
      "<class 'pandas.core.frame.DataFrame'>\n",
      "RangeIndex: 1186 entries, 0 to 1185\n",
      "Data columns (total 7 columns):\n",
      " #   Column          Non-Null Count  Dtype         \n",
      "---  ------          --------------  -----         \n",
      " 0   Company         1186 non-null   object        \n",
      " 1   Valuation ($B)  1186 non-null   float64       \n",
      " 2   Date Joined     1186 non-null   datetime64[ns]\n",
      " 3   Country         1186 non-null   object        \n",
      " 4   City            1186 non-null   object        \n",
      " 5   Industry        1186 non-null   object        \n",
      " 6   Investors       1168 non-null   object        \n",
      "dtypes: datetime64[ns](1), float64(1), object(5)\n",
      "memory usage: 65.0+ KB\n"
     ]
    }
   ],
   "source": [
    "df.info()"
   ]
  },
  {
   "cell_type": "code",
   "execution_count": 8,
   "id": "7d66ce05-d279-4f4e-a8aa-627aeda49303",
   "metadata": {},
   "outputs": [
    {
     "data": {
      "text/html": [
       "<div>\n",
       "<style scoped>\n",
       "    .dataframe tbody tr th:only-of-type {\n",
       "        vertical-align: middle;\n",
       "    }\n",
       "\n",
       "    .dataframe tbody tr th {\n",
       "        vertical-align: top;\n",
       "    }\n",
       "\n",
       "    .dataframe thead th {\n",
       "        text-align: right;\n",
       "    }\n",
       "</style>\n",
       "<table border=\"1\" class=\"dataframe\">\n",
       "  <thead>\n",
       "    <tr style=\"text-align: right;\">\n",
       "      <th></th>\n",
       "      <th>Company</th>\n",
       "      <th>Valuation ($B)</th>\n",
       "      <th>Date Joined</th>\n",
       "      <th>Country</th>\n",
       "      <th>City</th>\n",
       "      <th>Industry</th>\n",
       "      <th>Investors</th>\n",
       "    </tr>\n",
       "  </thead>\n",
       "  <tbody>\n",
       "    <tr>\n",
       "      <th>0</th>\n",
       "      <td>ByteDance</td>\n",
       "      <td>140.0</td>\n",
       "      <td>2017-04-07</td>\n",
       "      <td>China</td>\n",
       "      <td>Beijing</td>\n",
       "      <td>Artificial intelligence</td>\n",
       "      <td>Sequoia Capital China, SIG Asia Investments, S...</td>\n",
       "    </tr>\n",
       "    <tr>\n",
       "      <th>1</th>\n",
       "      <td>SpaceX</td>\n",
       "      <td>127.0</td>\n",
       "      <td>2012-12-01</td>\n",
       "      <td>United States</td>\n",
       "      <td>Hawthorne</td>\n",
       "      <td>Other</td>\n",
       "      <td>Founders Fund, Draper Fisher Jurvetson, Rothen...</td>\n",
       "    </tr>\n",
       "    <tr>\n",
       "      <th>2</th>\n",
       "      <td>SHEIN</td>\n",
       "      <td>100.0</td>\n",
       "      <td>2018-07-03</td>\n",
       "      <td>China</td>\n",
       "      <td>Shenzhen</td>\n",
       "      <td>E-commerce &amp; direct-to-consumer</td>\n",
       "      <td>Tiger Global Management, Sequoia Capital China...</td>\n",
       "    </tr>\n",
       "    <tr>\n",
       "      <th>3</th>\n",
       "      <td>Stripe</td>\n",
       "      <td>95.0</td>\n",
       "      <td>2014-01-23</td>\n",
       "      <td>United States</td>\n",
       "      <td>San Francisco</td>\n",
       "      <td>Fintech</td>\n",
       "      <td>Khosla Ventures, LowercaseCapital, capitalG</td>\n",
       "    </tr>\n",
       "    <tr>\n",
       "      <th>4</th>\n",
       "      <td>Canva</td>\n",
       "      <td>40.0</td>\n",
       "      <td>2018-01-08</td>\n",
       "      <td>Australia</td>\n",
       "      <td>Surry Hills</td>\n",
       "      <td>Internet software &amp; services</td>\n",
       "      <td>Sequoia Capital China, Blackbird Ventures, Mat...</td>\n",
       "    </tr>\n",
       "  </tbody>\n",
       "</table>\n",
       "</div>"
      ],
      "text/plain": [
       "     Company  Valuation ($B) Date Joined        Country           City  \\\n",
       "0  ByteDance           140.0  2017-04-07          China        Beijing   \n",
       "1     SpaceX           127.0  2012-12-01  United States      Hawthorne   \n",
       "2      SHEIN           100.0  2018-07-03          China       Shenzhen   \n",
       "3     Stripe            95.0  2014-01-23  United States  San Francisco   \n",
       "4      Canva            40.0  2018-01-08      Australia    Surry Hills   \n",
       "\n",
       "                          Industry  \\\n",
       "0          Artificial intelligence   \n",
       "1                            Other   \n",
       "2  E-commerce & direct-to-consumer   \n",
       "3                          Fintech   \n",
       "4     Internet software & services   \n",
       "\n",
       "                                           Investors  \n",
       "0  Sequoia Capital China, SIG Asia Investments, S...  \n",
       "1  Founders Fund, Draper Fisher Jurvetson, Rothen...  \n",
       "2  Tiger Global Management, Sequoia Capital China...  \n",
       "3        Khosla Ventures, LowercaseCapital, capitalG  \n",
       "4  Sequoia Capital China, Blackbird Ventures, Mat...  "
      ]
     },
     "execution_count": 8,
     "metadata": {},
     "output_type": "execute_result"
    }
   ],
   "source": [
    "df.head()"
   ]
  },
  {
   "cell_type": "code",
   "execution_count": 9,
   "id": "0970781d-0452-4255-9b20-d0fc49e6b646",
   "metadata": {},
   "outputs": [],
   "source": [
    "cities = df.City.unique()\n",
    "cities.sort()"
   ]
  },
  {
   "cell_type": "code",
   "execution_count": 10,
   "id": "a20b1a47-c4ce-4b47-bc79-3483e4408040",
   "metadata": {},
   "outputs": [
    {
     "data": {
      "text/plain": [
       "1186"
      ]
     },
     "execution_count": 10,
     "metadata": {},
     "output_type": "execute_result"
    }
   ],
   "source": [
    "len(df)"
   ]
  },
  {
   "cell_type": "code",
   "execution_count": 11,
   "id": "93c77384-44c1-421a-9d6a-f259bc142062",
   "metadata": {},
   "outputs": [
    {
     "data": {
      "text/plain": [
       "array([' Berlin', 'Aarhus', 'Aberdeen', 'Alameda', 'Alanta', 'Alexandria',\n",
       "       'Altrincham', 'Ambler', 'Amsterdam', 'Andheri', 'Arlington',\n",
       "       'Artificial intelligence', 'Atlanta', 'Austin', 'Bangalore',\n",
       "       'Bangkok', 'Banyeres de Mariola', 'Barcelona', 'Beijing',\n",
       "       'Bejjing', 'Bellevue', 'Bellingham', 'Bend', 'Bengaluru',\n",
       "       'Bengaluru  ', 'Berkeley', 'Berkeley Heights', 'Berlin',\n",
       "       'Bethesda', 'Boca Raton', 'Bogota', 'Boise', 'Boston', 'Boulder',\n",
       "       'Brisbane', 'Bristol', 'Brookline', 'Brooklyn', 'Bruchsal',\n",
       "       'Brussels', 'Bryanston', 'Buenos Aires', 'Burlingame',\n",
       "       'Burlington', 'Burnaby', 'Cambridge', 'Campinas', 'Carlsbad',\n",
       "       'Carson City', 'Cary', 'Cedar Park', 'Central', 'Changsha',\n",
       "       'Changzhou', 'Charlotte', 'Chatham', 'Chemnitz', 'Chengdu',\n",
       "       'Chennai', 'Cheung Sha Wan', 'Chicago', 'Chongqing', 'Cincinnati',\n",
       "       'Colchester', 'Colorado Springs', 'Columbia', 'Columbus',\n",
       "       'Copenhagen', 'Crewe', 'Croix', 'Culver City', 'Curitiba', 'DC',\n",
       "       'Dakar', 'Dallas', 'Denver', 'Detroit', 'Dongguan', 'Draper',\n",
       "       'Dubai', 'Dublin', 'Duderstadt', 'E-commerce & direct-to-consumer',\n",
       "       'Eden Prairie', 'El Segundo', 'Encinitas', 'Englewood',\n",
       "       'Englewood Cliffs', 'Espoo', 'Evry', 'Faridabad', 'Fintech',\n",
       "       'Fort Lee', 'Fort Mill', 'Foster City', 'Framingham', 'Fremont',\n",
       "       'Geneva', 'Ghent', \"Giv'atayim\", 'Glendale', 'Gloucester',\n",
       "       'Goleta', 'Greenwood Village', 'Guangzhou', 'Guiyang', 'Gurgaon',\n",
       "       'Gurugram', 'Hamilton', 'Hangzhou', 'Hanover', 'Hawthorne',\n",
       "       'Hayward', 'Hefei', 'Helsinki', 'Herndon', 'Herzliya',\n",
       "       'Ho Chi Minh City', 'Hoboken', 'Hong Kong', 'Houston', 'Hunan',\n",
       "       'Hyderabad', 'Inglewood', 'Internet software & services', 'Irvine',\n",
       "       'Irving', 'Islandia', 'Istanbul', 'Jacksonville', 'Jaipur',\n",
       "       'Jakarta', 'Jakdrta', 'Jeju-do', 'Jersey City', 'Jerusalem',\n",
       "       'Jiangsu', 'Juarez', 'Kilkenny', 'Kirkland', 'Kista', 'Kitchener',\n",
       "       'Kowloon', 'La Plaine Saint-Denis', 'Lagos', 'Las Vegas',\n",
       "       'Lausanne', 'Leawood', 'Lehi', 'Lerma de Villada', 'Leudelange',\n",
       "       'Lincoln', 'London', 'Long Beach', 'Los Altos', 'Los Angeles',\n",
       "       'Louisville', 'Louvain-la-Neuve', 'Luohe', 'Lysaker', 'Madison',\n",
       "       'Madrid', 'Maharashtra', 'Manila', 'Marina del Rey', 'McLean',\n",
       "       'Melbourne', 'Menlo Park', 'Mexico City', 'Miami', 'Midrand',\n",
       "       'Milan', 'Milpitas', 'Mississauga', 'Mobile & telecommunications',\n",
       "       'Monterrey', 'Montpellier', 'Montreal', 'Morrisville',\n",
       "       'Mountain Vie ', 'Mountain View', 'Mumbai', 'Munich', 'Munik',\n",
       "       'Nanjing', 'Nashville', 'Netanya', 'New Delhi', 'New York',\n",
       "       'New York  ', 'New-York', 'New-york', 'Noida', 'Northbrook',\n",
       "       'Oakland', 'Orlando', 'Osasco', 'Oslo', 'Ottawa', 'Oulu',\n",
       "       'Palo Alto', 'Parana', 'Paris', 'Pariss', 'Pennsauken',\n",
       "       'Petah Tikva', 'Peterborough', 'Pflugerville', 'Philadelphia',\n",
       "       'Pittsburgh', 'Plantation', 'Pleasanton', 'Polo alto', 'Portland',\n",
       "       'Portola Valley', 'Prague', 'Prilly', 'Princeton', 'Pune',\n",
       "       'Qingdao', 'Quincy', 'Quito', \"Ra'anana\", 'Raleigh', 'Ramat Gan',\n",
       "       'Redmond', 'Redwood City', 'Richmond', 'Roseville', 'Roubaix',\n",
       "       'SAN FRANCISCO', 'Sacramento', 'Salt Lake City', 'San  Jose',\n",
       "       'San Carlos', 'San Diego', 'San Francisco', 'San Francisko ',\n",
       "       'San Francisso', 'San Jose', 'San Mateo', 'San Paulo', 'San Ramon',\n",
       "       'San francisco ', 'Santa Barbara', 'Santa Clara', 'Santa Cruz',\n",
       "       'Santa Monica', 'Santiago', 'Sao Paulo', 'Sarasota',\n",
       "       'Schaffhausen', 'Scottsdale', 'Seattle', 'Selangor', 'Seongnam-Si',\n",
       "       'Seoul', 'Seul', 'Shanghai', 'Shenzhen', 'Sherman Oaks',\n",
       "       'Solihull', 'Somerville', 'South Burlington', 'South Jordan',\n",
       "       'South San Francisco', 'Stockholm', 'Sunnyvale',\n",
       "       'Supply chain, logistics, & delivery', 'Surry Hills', 'Suzhou',\n",
       "       'Sveta Nedelja', 'Sydney', 'Taguig City', 'Tallinn', 'Tampa',\n",
       "       'Tel  Aviv', 'Tel Aviv', 'Telaviv', 'Thane', 'Tirat Carmel',\n",
       "       'Tokyo', 'Toronto', 'Torrance', 'Tsuruoka', 'Tustin',\n",
       "       'Unterfoehring', 'Uttar Pradesh', 'Vancouver', 'Venice',\n",
       "       'Victoria', 'Vienna', 'Vilnius', 'Vodnjan', 'Walpole', 'Waltham',\n",
       "       'Washington', 'Washington DC', 'Waterloo', 'Westerville',\n",
       "       'Wilmington', 'Wuhan', 'Wuxi', 'Yehud', 'Zephyr Cove', 'Zhuhai',\n",
       "       'Zurich', 'bengaluru', 'boston', 'london'], dtype=object)"
      ]
     },
     "execution_count": 11,
     "metadata": {},
     "output_type": "execute_result"
    }
   ],
   "source": [
    "cities"
   ]
  },
  {
   "cell_type": "code",
   "execution_count": 12,
   "id": "30dfbc4e-d93d-4c11-b766-6dedeee26a9b",
   "metadata": {},
   "outputs": [
    {
     "data": {
      "text/html": [
       "<div>\n",
       "<style scoped>\n",
       "    .dataframe tbody tr th:only-of-type {\n",
       "        vertical-align: middle;\n",
       "    }\n",
       "\n",
       "    .dataframe tbody tr th {\n",
       "        vertical-align: top;\n",
       "    }\n",
       "\n",
       "    .dataframe thead th {\n",
       "        text-align: right;\n",
       "    }\n",
       "</style>\n",
       "<table border=\"1\" class=\"dataframe\">\n",
       "  <thead>\n",
       "    <tr style=\"text-align: right;\">\n",
       "      <th></th>\n",
       "      <th>Company</th>\n",
       "      <th>Valuation ($B)</th>\n",
       "      <th>Date Joined</th>\n",
       "      <th>Country</th>\n",
       "      <th>City</th>\n",
       "      <th>Industry</th>\n",
       "      <th>Investors</th>\n",
       "    </tr>\n",
       "  </thead>\n",
       "  <tbody>\n",
       "    <tr>\n",
       "      <th>10</th>\n",
       "      <td>FTX</td>\n",
       "      <td>32.00</td>\n",
       "      <td>2021-07-20</td>\n",
       "      <td>Bahamas</td>\n",
       "      <td>Fintech</td>\n",
       "      <td>Sequoia Capital, Thoma Bravo, Softbank</td>\n",
       "      <td>NaN</td>\n",
       "    </tr>\n",
       "    <tr>\n",
       "      <th>242</th>\n",
       "      <td>HyalRoute</td>\n",
       "      <td>3.50</td>\n",
       "      <td>2020-05-26</td>\n",
       "      <td>Singapore</td>\n",
       "      <td>Mobile &amp; telecommunications</td>\n",
       "      <td>Kuang-Chi</td>\n",
       "      <td>NaN</td>\n",
       "    </tr>\n",
       "    <tr>\n",
       "      <th>316</th>\n",
       "      <td>Amber Group</td>\n",
       "      <td>3.00</td>\n",
       "      <td>2021-06-21</td>\n",
       "      <td>Hong Kong</td>\n",
       "      <td>Fintech</td>\n",
       "      <td>Tiger Global Management, Tiger Brokers, DCM Ve...</td>\n",
       "      <td>NaN</td>\n",
       "    </tr>\n",
       "    <tr>\n",
       "      <th>346</th>\n",
       "      <td>Moglix</td>\n",
       "      <td>2.60</td>\n",
       "      <td>2021-05-17</td>\n",
       "      <td>Singapore</td>\n",
       "      <td>E-commerce &amp; direct-to-consumer</td>\n",
       "      <td>Jungle Ventures, Accel, Venture Highway</td>\n",
       "      <td>NaN</td>\n",
       "    </tr>\n",
       "    <tr>\n",
       "      <th>371</th>\n",
       "      <td>Coda Payments</td>\n",
       "      <td>2.50</td>\n",
       "      <td>2022-04-15</td>\n",
       "      <td>Singapore</td>\n",
       "      <td>Fintech</td>\n",
       "      <td>GIC. Apis Partners, Insight Partners</td>\n",
       "      <td>NaN</td>\n",
       "    </tr>\n",
       "    <tr>\n",
       "      <th>482</th>\n",
       "      <td>Advance Intelligence Group</td>\n",
       "      <td>2.00</td>\n",
       "      <td>2021-09-23</td>\n",
       "      <td>Singapore</td>\n",
       "      <td>Artificial intelligence</td>\n",
       "      <td>Vision Plus Capital, GSR Ventures, ZhenFund</td>\n",
       "      <td>NaN</td>\n",
       "    </tr>\n",
       "    <tr>\n",
       "      <th>495</th>\n",
       "      <td>Trax</td>\n",
       "      <td>2.00</td>\n",
       "      <td>2019-07-22</td>\n",
       "      <td>Singapore</td>\n",
       "      <td>Artificial intelligence</td>\n",
       "      <td>Hopu Investment Management, Boyu Capital, DC T...</td>\n",
       "      <td>NaN</td>\n",
       "    </tr>\n",
       "    <tr>\n",
       "      <th>865</th>\n",
       "      <td>Carousell</td>\n",
       "      <td>1.10</td>\n",
       "      <td>2021-09-15</td>\n",
       "      <td>Singapore</td>\n",
       "      <td>E-commerce &amp; direct-to-consumer</td>\n",
       "      <td>500 Global, Rakuten Ventures, Golden Gate Vent...</td>\n",
       "      <td>NaN</td>\n",
       "    </tr>\n",
       "    <tr>\n",
       "      <th>917</th>\n",
       "      <td>LinkSure Network</td>\n",
       "      <td>1.00</td>\n",
       "      <td>2015-01-01</td>\n",
       "      <td>China</td>\n",
       "      <td>Shanghai</td>\n",
       "      <td>Mobile &amp; telecommunications</td>\n",
       "      <td>NaN</td>\n",
       "    </tr>\n",
       "    <tr>\n",
       "      <th>941</th>\n",
       "      <td>WeLab</td>\n",
       "      <td>1.00</td>\n",
       "      <td>2017-11-08</td>\n",
       "      <td>Hong Kong</td>\n",
       "      <td>Fintech</td>\n",
       "      <td>Sequoia Capital China, ING, Alibaba Entreprene...</td>\n",
       "      <td>NaN</td>\n",
       "    </tr>\n",
       "    <tr>\n",
       "      <th>1000</th>\n",
       "      <td>PatSnap</td>\n",
       "      <td>1.00</td>\n",
       "      <td>2021-03-16</td>\n",
       "      <td>Singapore</td>\n",
       "      <td>Internet software &amp; services</td>\n",
       "      <td>Sequoia Capital China, Shunwei Capital Partner...</td>\n",
       "      <td>NaN</td>\n",
       "    </tr>\n",
       "    <tr>\n",
       "      <th>1027</th>\n",
       "      <td>Matrixport</td>\n",
       "      <td>1.05</td>\n",
       "      <td>2021-06-01</td>\n",
       "      <td>Singapore</td>\n",
       "      <td>Fintech</td>\n",
       "      <td>Dragonfly Captial, Qiming Venture Partners, DS...</td>\n",
       "      <td>NaN</td>\n",
       "    </tr>\n",
       "    <tr>\n",
       "      <th>1032</th>\n",
       "      <td>Carro</td>\n",
       "      <td>1.00</td>\n",
       "      <td>2021-06-14</td>\n",
       "      <td>Singapore</td>\n",
       "      <td>E-commerce &amp; direct-to-consumer</td>\n",
       "      <td>SingTel Innov8, Alpha JWC Ventures, Golden Gat...</td>\n",
       "      <td>NaN</td>\n",
       "    </tr>\n",
       "    <tr>\n",
       "      <th>1044</th>\n",
       "      <td>bolttech</td>\n",
       "      <td>1.00</td>\n",
       "      <td>2021-07-01</td>\n",
       "      <td>Singapore</td>\n",
       "      <td>Fintech</td>\n",
       "      <td>Mundi Ventures, Doqling Capital Partners, Acti...</td>\n",
       "      <td>NaN</td>\n",
       "    </tr>\n",
       "    <tr>\n",
       "      <th>1054</th>\n",
       "      <td>NIUM</td>\n",
       "      <td>1.00</td>\n",
       "      <td>2021-07-13</td>\n",
       "      <td>Singapore</td>\n",
       "      <td>Fintech</td>\n",
       "      <td>Vertex Ventures SE Asia, Global Founders Capit...</td>\n",
       "      <td>NaN</td>\n",
       "    </tr>\n",
       "    <tr>\n",
       "      <th>1065</th>\n",
       "      <td>Cider</td>\n",
       "      <td>1.00</td>\n",
       "      <td>2021-09-02</td>\n",
       "      <td>Hong Kong</td>\n",
       "      <td>E-commerce &amp; direct-to-consumer</td>\n",
       "      <td>Andreessen Horowitz, DST Global, IDG Capital</td>\n",
       "      <td>NaN</td>\n",
       "    </tr>\n",
       "    <tr>\n",
       "      <th>1077</th>\n",
       "      <td>Ninja Van</td>\n",
       "      <td>1.00</td>\n",
       "      <td>2021-09-27</td>\n",
       "      <td>Singapore</td>\n",
       "      <td>Supply chain, logistics, &amp; delivery</td>\n",
       "      <td>B Capital Group, Monk's Hill Ventures, Dynamic...</td>\n",
       "      <td>NaN</td>\n",
       "    </tr>\n",
       "    <tr>\n",
       "      <th>1129</th>\n",
       "      <td>ONE</td>\n",
       "      <td>1.00</td>\n",
       "      <td>2021-12-08</td>\n",
       "      <td>Singapore</td>\n",
       "      <td>Internet software &amp; services</td>\n",
       "      <td>Temasek, Guggenheim Investments, Qatar Investm...</td>\n",
       "      <td>NaN</td>\n",
       "    </tr>\n",
       "  </tbody>\n",
       "</table>\n",
       "</div>"
      ],
      "text/plain": [
       "                         Company  Valuation ($B) Date Joined    Country  \\\n",
       "10                           FTX           32.00  2021-07-20    Bahamas   \n",
       "242                    HyalRoute            3.50  2020-05-26  Singapore   \n",
       "316                  Amber Group            3.00  2021-06-21  Hong Kong   \n",
       "346                       Moglix            2.60  2021-05-17  Singapore   \n",
       "371                Coda Payments            2.50  2022-04-15  Singapore   \n",
       "482   Advance Intelligence Group            2.00  2021-09-23  Singapore   \n",
       "495                         Trax            2.00  2019-07-22  Singapore   \n",
       "865                    Carousell            1.10  2021-09-15  Singapore   \n",
       "917             LinkSure Network            1.00  2015-01-01      China   \n",
       "941                        WeLab            1.00  2017-11-08  Hong Kong   \n",
       "1000                     PatSnap            1.00  2021-03-16  Singapore   \n",
       "1027                  Matrixport            1.05  2021-06-01  Singapore   \n",
       "1032                       Carro            1.00  2021-06-14  Singapore   \n",
       "1044                    bolttech            1.00  2021-07-01  Singapore   \n",
       "1054                        NIUM            1.00  2021-07-13  Singapore   \n",
       "1065                       Cider            1.00  2021-09-02  Hong Kong   \n",
       "1077                   Ninja Van            1.00  2021-09-27  Singapore   \n",
       "1129                         ONE            1.00  2021-12-08  Singapore   \n",
       "\n",
       "                                     City  \\\n",
       "10                                Fintech   \n",
       "242           Mobile & telecommunications   \n",
       "316                               Fintech   \n",
       "346       E-commerce & direct-to-consumer   \n",
       "371                               Fintech   \n",
       "482               Artificial intelligence   \n",
       "495               Artificial intelligence   \n",
       "865       E-commerce & direct-to-consumer   \n",
       "917                              Shanghai   \n",
       "941                               Fintech   \n",
       "1000         Internet software & services   \n",
       "1027                              Fintech   \n",
       "1032      E-commerce & direct-to-consumer   \n",
       "1044                              Fintech   \n",
       "1054                              Fintech   \n",
       "1065      E-commerce & direct-to-consumer   \n",
       "1077  Supply chain, logistics, & delivery   \n",
       "1129         Internet software & services   \n",
       "\n",
       "                                               Industry Investors  \n",
       "10               Sequoia Capital, Thoma Bravo, Softbank       NaN  \n",
       "242                                           Kuang-Chi       NaN  \n",
       "316   Tiger Global Management, Tiger Brokers, DCM Ve...       NaN  \n",
       "346             Jungle Ventures, Accel, Venture Highway       NaN  \n",
       "371                GIC. Apis Partners, Insight Partners       NaN  \n",
       "482         Vision Plus Capital, GSR Ventures, ZhenFund       NaN  \n",
       "495   Hopu Investment Management, Boyu Capital, DC T...       NaN  \n",
       "865   500 Global, Rakuten Ventures, Golden Gate Vent...       NaN  \n",
       "917                         Mobile & telecommunications       NaN  \n",
       "941   Sequoia Capital China, ING, Alibaba Entreprene...       NaN  \n",
       "1000  Sequoia Capital China, Shunwei Capital Partner...       NaN  \n",
       "1027  Dragonfly Captial, Qiming Venture Partners, DS...       NaN  \n",
       "1032  SingTel Innov8, Alpha JWC Ventures, Golden Gat...       NaN  \n",
       "1044  Mundi Ventures, Doqling Capital Partners, Acti...       NaN  \n",
       "1054  Vertex Ventures SE Asia, Global Founders Capit...       NaN  \n",
       "1065       Andreessen Horowitz, DST Global, IDG Capital       NaN  \n",
       "1077  B Capital Group, Monk's Hill Ventures, Dynamic...       NaN  \n",
       "1129  Temasek, Guggenheim Investments, Qatar Investm...       NaN  "
      ]
     },
     "execution_count": 12,
     "metadata": {},
     "output_type": "execute_result"
    }
   ],
   "source": [
    "df[df.Investors.isna()]"
   ]
  },
  {
   "cell_type": "code",
   "execution_count": 13,
   "id": "d12f0b47-fcac-49f9-b55a-374000e4eb39",
   "metadata": {},
   "outputs": [],
   "source": [
    "wrong_city_id = df[df.Investors.isna()].drop(917).index"
   ]
  },
  {
   "cell_type": "code",
   "execution_count": 14,
   "id": "cec934e0-8ed1-470c-a1d8-09493d22e999",
   "metadata": {},
   "outputs": [
    {
     "data": {
      "text/plain": [
       "Index([  10,  242,  316,  346,  371,  482,  495,  865,  941, 1000, 1027, 1032,\n",
       "       1044, 1054, 1065, 1077, 1129],\n",
       "      dtype='int64')"
      ]
     },
     "execution_count": 14,
     "metadata": {},
     "output_type": "execute_result"
    }
   ],
   "source": [
    "wrong_city_id"
   ]
  },
  {
   "cell_type": "code",
   "execution_count": 15,
   "id": "5aa4dfcf-a829-484c-ab69-58d225dab6ae",
   "metadata": {},
   "outputs": [],
   "source": [
    "df2 = df.copy()"
   ]
  },
  {
   "cell_type": "code",
   "execution_count": 16,
   "id": "da981826-1a19-44aa-b329-843d5e9c27b7",
   "metadata": {},
   "outputs": [],
   "source": [
    "df2.loc[wrong_city_id, 'Investors'] = df2.loc[wrong_city_id, 'Industry']\n",
    "df2.loc[wrong_city_id, 'Industry'] = df2.loc[wrong_city_id, 'City']\n",
    "df2.loc[wrong_city_id, 'City'] = df2.loc[wrong_city_id, 'Country']"
   ]
  },
  {
   "cell_type": "code",
   "execution_count": 17,
   "id": "14aa2c89-14c2-4699-8002-bb790fe169f7",
   "metadata": {},
   "outputs": [
    {
     "data": {
      "text/html": [
       "<div>\n",
       "<style scoped>\n",
       "    .dataframe tbody tr th:only-of-type {\n",
       "        vertical-align: middle;\n",
       "    }\n",
       "\n",
       "    .dataframe tbody tr th {\n",
       "        vertical-align: top;\n",
       "    }\n",
       "\n",
       "    .dataframe thead th {\n",
       "        text-align: right;\n",
       "    }\n",
       "</style>\n",
       "<table border=\"1\" class=\"dataframe\">\n",
       "  <thead>\n",
       "    <tr style=\"text-align: right;\">\n",
       "      <th></th>\n",
       "      <th>Company</th>\n",
       "      <th>Valuation ($B)</th>\n",
       "      <th>Date Joined</th>\n",
       "      <th>Country</th>\n",
       "      <th>City</th>\n",
       "      <th>Industry</th>\n",
       "      <th>Investors</th>\n",
       "    </tr>\n",
       "  </thead>\n",
       "  <tbody>\n",
       "    <tr>\n",
       "      <th>10</th>\n",
       "      <td>FTX</td>\n",
       "      <td>32.00</td>\n",
       "      <td>2021-07-20</td>\n",
       "      <td>Bahamas</td>\n",
       "      <td>Bahamas</td>\n",
       "      <td>Fintech</td>\n",
       "      <td>Sequoia Capital, Thoma Bravo, Softbank</td>\n",
       "    </tr>\n",
       "    <tr>\n",
       "      <th>242</th>\n",
       "      <td>HyalRoute</td>\n",
       "      <td>3.50</td>\n",
       "      <td>2020-05-26</td>\n",
       "      <td>Singapore</td>\n",
       "      <td>Singapore</td>\n",
       "      <td>Mobile &amp; telecommunications</td>\n",
       "      <td>Kuang-Chi</td>\n",
       "    </tr>\n",
       "    <tr>\n",
       "      <th>316</th>\n",
       "      <td>Amber Group</td>\n",
       "      <td>3.00</td>\n",
       "      <td>2021-06-21</td>\n",
       "      <td>Hong Kong</td>\n",
       "      <td>Hong Kong</td>\n",
       "      <td>Fintech</td>\n",
       "      <td>Tiger Global Management, Tiger Brokers, DCM Ve...</td>\n",
       "    </tr>\n",
       "    <tr>\n",
       "      <th>346</th>\n",
       "      <td>Moglix</td>\n",
       "      <td>2.60</td>\n",
       "      <td>2021-05-17</td>\n",
       "      <td>Singapore</td>\n",
       "      <td>Singapore</td>\n",
       "      <td>E-commerce &amp; direct-to-consumer</td>\n",
       "      <td>Jungle Ventures, Accel, Venture Highway</td>\n",
       "    </tr>\n",
       "    <tr>\n",
       "      <th>371</th>\n",
       "      <td>Coda Payments</td>\n",
       "      <td>2.50</td>\n",
       "      <td>2022-04-15</td>\n",
       "      <td>Singapore</td>\n",
       "      <td>Singapore</td>\n",
       "      <td>Fintech</td>\n",
       "      <td>GIC. Apis Partners, Insight Partners</td>\n",
       "    </tr>\n",
       "    <tr>\n",
       "      <th>482</th>\n",
       "      <td>Advance Intelligence Group</td>\n",
       "      <td>2.00</td>\n",
       "      <td>2021-09-23</td>\n",
       "      <td>Singapore</td>\n",
       "      <td>Singapore</td>\n",
       "      <td>Artificial intelligence</td>\n",
       "      <td>Vision Plus Capital, GSR Ventures, ZhenFund</td>\n",
       "    </tr>\n",
       "    <tr>\n",
       "      <th>495</th>\n",
       "      <td>Trax</td>\n",
       "      <td>2.00</td>\n",
       "      <td>2019-07-22</td>\n",
       "      <td>Singapore</td>\n",
       "      <td>Singapore</td>\n",
       "      <td>Artificial intelligence</td>\n",
       "      <td>Hopu Investment Management, Boyu Capital, DC T...</td>\n",
       "    </tr>\n",
       "    <tr>\n",
       "      <th>865</th>\n",
       "      <td>Carousell</td>\n",
       "      <td>1.10</td>\n",
       "      <td>2021-09-15</td>\n",
       "      <td>Singapore</td>\n",
       "      <td>Singapore</td>\n",
       "      <td>E-commerce &amp; direct-to-consumer</td>\n",
       "      <td>500 Global, Rakuten Ventures, Golden Gate Vent...</td>\n",
       "    </tr>\n",
       "    <tr>\n",
       "      <th>941</th>\n",
       "      <td>WeLab</td>\n",
       "      <td>1.00</td>\n",
       "      <td>2017-11-08</td>\n",
       "      <td>Hong Kong</td>\n",
       "      <td>Hong Kong</td>\n",
       "      <td>Fintech</td>\n",
       "      <td>Sequoia Capital China, ING, Alibaba Entreprene...</td>\n",
       "    </tr>\n",
       "    <tr>\n",
       "      <th>1000</th>\n",
       "      <td>PatSnap</td>\n",
       "      <td>1.00</td>\n",
       "      <td>2021-03-16</td>\n",
       "      <td>Singapore</td>\n",
       "      <td>Singapore</td>\n",
       "      <td>Internet software &amp; services</td>\n",
       "      <td>Sequoia Capital China, Shunwei Capital Partner...</td>\n",
       "    </tr>\n",
       "    <tr>\n",
       "      <th>1027</th>\n",
       "      <td>Matrixport</td>\n",
       "      <td>1.05</td>\n",
       "      <td>2021-06-01</td>\n",
       "      <td>Singapore</td>\n",
       "      <td>Singapore</td>\n",
       "      <td>Fintech</td>\n",
       "      <td>Dragonfly Captial, Qiming Venture Partners, DS...</td>\n",
       "    </tr>\n",
       "    <tr>\n",
       "      <th>1032</th>\n",
       "      <td>Carro</td>\n",
       "      <td>1.00</td>\n",
       "      <td>2021-06-14</td>\n",
       "      <td>Singapore</td>\n",
       "      <td>Singapore</td>\n",
       "      <td>E-commerce &amp; direct-to-consumer</td>\n",
       "      <td>SingTel Innov8, Alpha JWC Ventures, Golden Gat...</td>\n",
       "    </tr>\n",
       "    <tr>\n",
       "      <th>1044</th>\n",
       "      <td>bolttech</td>\n",
       "      <td>1.00</td>\n",
       "      <td>2021-07-01</td>\n",
       "      <td>Singapore</td>\n",
       "      <td>Singapore</td>\n",
       "      <td>Fintech</td>\n",
       "      <td>Mundi Ventures, Doqling Capital Partners, Acti...</td>\n",
       "    </tr>\n",
       "    <tr>\n",
       "      <th>1054</th>\n",
       "      <td>NIUM</td>\n",
       "      <td>1.00</td>\n",
       "      <td>2021-07-13</td>\n",
       "      <td>Singapore</td>\n",
       "      <td>Singapore</td>\n",
       "      <td>Fintech</td>\n",
       "      <td>Vertex Ventures SE Asia, Global Founders Capit...</td>\n",
       "    </tr>\n",
       "    <tr>\n",
       "      <th>1065</th>\n",
       "      <td>Cider</td>\n",
       "      <td>1.00</td>\n",
       "      <td>2021-09-02</td>\n",
       "      <td>Hong Kong</td>\n",
       "      <td>Hong Kong</td>\n",
       "      <td>E-commerce &amp; direct-to-consumer</td>\n",
       "      <td>Andreessen Horowitz, DST Global, IDG Capital</td>\n",
       "    </tr>\n",
       "    <tr>\n",
       "      <th>1077</th>\n",
       "      <td>Ninja Van</td>\n",
       "      <td>1.00</td>\n",
       "      <td>2021-09-27</td>\n",
       "      <td>Singapore</td>\n",
       "      <td>Singapore</td>\n",
       "      <td>Supply chain, logistics, &amp; delivery</td>\n",
       "      <td>B Capital Group, Monk's Hill Ventures, Dynamic...</td>\n",
       "    </tr>\n",
       "    <tr>\n",
       "      <th>1129</th>\n",
       "      <td>ONE</td>\n",
       "      <td>1.00</td>\n",
       "      <td>2021-12-08</td>\n",
       "      <td>Singapore</td>\n",
       "      <td>Singapore</td>\n",
       "      <td>Internet software &amp; services</td>\n",
       "      <td>Temasek, Guggenheim Investments, Qatar Investm...</td>\n",
       "    </tr>\n",
       "  </tbody>\n",
       "</table>\n",
       "</div>"
      ],
      "text/plain": [
       "                         Company  Valuation ($B) Date Joined    Country  \\\n",
       "10                           FTX           32.00  2021-07-20    Bahamas   \n",
       "242                    HyalRoute            3.50  2020-05-26  Singapore   \n",
       "316                  Amber Group            3.00  2021-06-21  Hong Kong   \n",
       "346                       Moglix            2.60  2021-05-17  Singapore   \n",
       "371                Coda Payments            2.50  2022-04-15  Singapore   \n",
       "482   Advance Intelligence Group            2.00  2021-09-23  Singapore   \n",
       "495                         Trax            2.00  2019-07-22  Singapore   \n",
       "865                    Carousell            1.10  2021-09-15  Singapore   \n",
       "941                        WeLab            1.00  2017-11-08  Hong Kong   \n",
       "1000                     PatSnap            1.00  2021-03-16  Singapore   \n",
       "1027                  Matrixport            1.05  2021-06-01  Singapore   \n",
       "1032                       Carro            1.00  2021-06-14  Singapore   \n",
       "1044                    bolttech            1.00  2021-07-01  Singapore   \n",
       "1054                        NIUM            1.00  2021-07-13  Singapore   \n",
       "1065                       Cider            1.00  2021-09-02  Hong Kong   \n",
       "1077                   Ninja Van            1.00  2021-09-27  Singapore   \n",
       "1129                         ONE            1.00  2021-12-08  Singapore   \n",
       "\n",
       "           City                             Industry  \\\n",
       "10      Bahamas                              Fintech   \n",
       "242   Singapore          Mobile & telecommunications   \n",
       "316   Hong Kong                              Fintech   \n",
       "346   Singapore      E-commerce & direct-to-consumer   \n",
       "371   Singapore                              Fintech   \n",
       "482   Singapore              Artificial intelligence   \n",
       "495   Singapore              Artificial intelligence   \n",
       "865   Singapore      E-commerce & direct-to-consumer   \n",
       "941   Hong Kong                              Fintech   \n",
       "1000  Singapore         Internet software & services   \n",
       "1027  Singapore                              Fintech   \n",
       "1032  Singapore      E-commerce & direct-to-consumer   \n",
       "1044  Singapore                              Fintech   \n",
       "1054  Singapore                              Fintech   \n",
       "1065  Hong Kong      E-commerce & direct-to-consumer   \n",
       "1077  Singapore  Supply chain, logistics, & delivery   \n",
       "1129  Singapore         Internet software & services   \n",
       "\n",
       "                                              Investors  \n",
       "10               Sequoia Capital, Thoma Bravo, Softbank  \n",
       "242                                           Kuang-Chi  \n",
       "316   Tiger Global Management, Tiger Brokers, DCM Ve...  \n",
       "346             Jungle Ventures, Accel, Venture Highway  \n",
       "371                GIC. Apis Partners, Insight Partners  \n",
       "482         Vision Plus Capital, GSR Ventures, ZhenFund  \n",
       "495   Hopu Investment Management, Boyu Capital, DC T...  \n",
       "865   500 Global, Rakuten Ventures, Golden Gate Vent...  \n",
       "941   Sequoia Capital China, ING, Alibaba Entreprene...  \n",
       "1000  Sequoia Capital China, Shunwei Capital Partner...  \n",
       "1027  Dragonfly Captial, Qiming Venture Partners, DS...  \n",
       "1032  SingTel Innov8, Alpha JWC Ventures, Golden Gat...  \n",
       "1044  Mundi Ventures, Doqling Capital Partners, Acti...  \n",
       "1054  Vertex Ventures SE Asia, Global Founders Capit...  \n",
       "1065       Andreessen Horowitz, DST Global, IDG Capital  \n",
       "1077  B Capital Group, Monk's Hill Ventures, Dynamic...  \n",
       "1129  Temasek, Guggenheim Investments, Qatar Investm...  "
      ]
     },
     "execution_count": 17,
     "metadata": {},
     "output_type": "execute_result"
    }
   ],
   "source": [
    "df2.iloc[wrong_city_id]"
   ]
  },
  {
   "cell_type": "code",
   "execution_count": 18,
   "id": "49259cf9-3d28-4bdc-9ecb-01107c116814",
   "metadata": {},
   "outputs": [],
   "source": [
    "df = df2"
   ]
  },
  {
   "cell_type": "code",
   "execution_count": 19,
   "id": "ef2f8af1-d2af-46b8-aafc-d60720173050",
   "metadata": {},
   "outputs": [
    {
     "data": {
      "text/plain": [
       "310"
      ]
     },
     "execution_count": 19,
     "metadata": {},
     "output_type": "execute_result"
    }
   ],
   "source": [
    "len(cities)"
   ]
  },
  {
   "cell_type": "code",
   "execution_count": 20,
   "id": "5fe67eb5-1b4b-4702-813a-3585898c1569",
   "metadata": {},
   "outputs": [],
   "source": [
    "def get_uniques(col='City'):\n",
    "    unq = df[col].unique()\n",
    "    unq.sort()\n",
    "    return unq"
   ]
  },
  {
   "cell_type": "code",
   "execution_count": 21,
   "id": "843fb02f-ecc5-4a3d-9082-881fbc89ab2f",
   "metadata": {},
   "outputs": [
    {
     "data": {
      "text/plain": [
       "306"
      ]
     },
     "execution_count": 21,
     "metadata": {},
     "output_type": "execute_result"
    }
   ],
   "source": [
    "len(get_uniques())"
   ]
  },
  {
   "cell_type": "code",
   "execution_count": 22,
   "id": "6a718d76-0602-4d50-a14c-3acea4209165",
   "metadata": {},
   "outputs": [],
   "source": [
    "df.City = df.City.str.title().str.strip()"
   ]
  },
  {
   "cell_type": "code",
   "execution_count": 23,
   "id": "b731b8c6-c8e5-4876-a73d-8fadba0333c2",
   "metadata": {},
   "outputs": [
    {
     "data": {
      "text/plain": [
       "297"
      ]
     },
     "execution_count": 23,
     "metadata": {},
     "output_type": "execute_result"
    }
   ],
   "source": [
    "len(get_uniques())"
   ]
  },
  {
   "cell_type": "code",
   "execution_count": 24,
   "id": "05c848cb-c701-4c06-a82f-368c3e85c61b",
   "metadata": {},
   "outputs": [
    {
     "data": {
      "text/plain": [
       "array(['Aarhus', 'Aberdeen', 'Alameda', 'Alanta', 'Alexandria',\n",
       "       'Altrincham', 'Ambler', 'Amsterdam', 'Andheri', 'Arlington',\n",
       "       'Atlanta', 'Austin', 'Bahamas', 'Bangalore', 'Bangkok',\n",
       "       'Banyeres De Mariola', 'Barcelona', 'Beijing', 'Bejjing',\n",
       "       'Bellevue', 'Bellingham', 'Bend', 'Bengaluru', 'Berkeley',\n",
       "       'Berkeley Heights', 'Berlin', 'Bethesda', 'Boca Raton', 'Bogota',\n",
       "       'Boise', 'Boston', 'Boulder', 'Brisbane', 'Bristol', 'Brookline',\n",
       "       'Brooklyn', 'Bruchsal', 'Brussels', 'Bryanston', 'Buenos Aires',\n",
       "       'Burlingame', 'Burlington', 'Burnaby', 'Cambridge', 'Campinas',\n",
       "       'Carlsbad', 'Carson City', 'Cary', 'Cedar Park', 'Central',\n",
       "       'Changsha', 'Changzhou', 'Charlotte', 'Chatham', 'Chemnitz',\n",
       "       'Chengdu', 'Chennai', 'Cheung Sha Wan', 'Chicago', 'Chongqing',\n",
       "       'Cincinnati', 'Colchester', 'Colorado Springs', 'Columbia',\n",
       "       'Columbus', 'Copenhagen', 'Crewe', 'Croix', 'Culver City',\n",
       "       'Curitiba', 'Dakar', 'Dallas', 'Dc', 'Denver', 'Detroit',\n",
       "       'Dongguan', 'Draper', 'Dubai', 'Dublin', 'Duderstadt',\n",
       "       'Eden Prairie', 'El Segundo', 'Encinitas', 'Englewood',\n",
       "       'Englewood Cliffs', 'Espoo', 'Evry', 'Faridabad', 'Fort Lee',\n",
       "       'Fort Mill', 'Foster City', 'Framingham', 'Fremont', 'Geneva',\n",
       "       'Ghent', \"Giv'Atayim\", 'Glendale', 'Gloucester', 'Goleta',\n",
       "       'Greenwood Village', 'Guangzhou', 'Guiyang', 'Gurgaon', 'Gurugram',\n",
       "       'Hamilton', 'Hangzhou', 'Hanover', 'Hawthorne', 'Hayward', 'Hefei',\n",
       "       'Helsinki', 'Herndon', 'Herzliya', 'Ho Chi Minh City', 'Hoboken',\n",
       "       'Hong Kong', 'Houston', 'Hunan', 'Hyderabad', 'Inglewood',\n",
       "       'Irvine', 'Irving', 'Islandia', 'Istanbul', 'Jacksonville',\n",
       "       'Jaipur', 'Jakarta', 'Jakdrta', 'Jeju-Do', 'Jersey City',\n",
       "       'Jerusalem', 'Jiangsu', 'Juarez', 'Kilkenny', 'Kirkland', 'Kista',\n",
       "       'Kitchener', 'Kowloon', 'La Plaine Saint-Denis', 'Lagos',\n",
       "       'Las Vegas', 'Lausanne', 'Leawood', 'Lehi', 'Lerma De Villada',\n",
       "       'Leudelange', 'Lincoln', 'London', 'Long Beach', 'Los Altos',\n",
       "       'Los Angeles', 'Louisville', 'Louvain-La-Neuve', 'Luohe',\n",
       "       'Lysaker', 'Madison', 'Madrid', 'Maharashtra', 'Manila',\n",
       "       'Marina Del Rey', 'Mclean', 'Melbourne', 'Menlo Park',\n",
       "       'Mexico City', 'Miami', 'Midrand', 'Milan', 'Milpitas',\n",
       "       'Mississauga', 'Monterrey', 'Montpellier', 'Montreal',\n",
       "       'Morrisville', 'Mountain Vie', 'Mountain View', 'Mumbai', 'Munich',\n",
       "       'Munik', 'Nanjing', 'Nashville', 'Netanya', 'New Delhi',\n",
       "       'New York', 'New-York', 'Noida', 'Northbrook', 'Oakland',\n",
       "       'Orlando', 'Osasco', 'Oslo', 'Ottawa', 'Oulu', 'Palo Alto',\n",
       "       'Parana', 'Paris', 'Pariss', 'Pennsauken', 'Petah Tikva',\n",
       "       'Peterborough', 'Pflugerville', 'Philadelphia', 'Pittsburgh',\n",
       "       'Plantation', 'Pleasanton', 'Polo Alto', 'Portland',\n",
       "       'Portola Valley', 'Prague', 'Prilly', 'Princeton', 'Pune',\n",
       "       'Qingdao', 'Quincy', 'Quito', \"Ra'Anana\", 'Raleigh', 'Ramat Gan',\n",
       "       'Redmond', 'Redwood City', 'Richmond', 'Roseville', 'Roubaix',\n",
       "       'Sacramento', 'Salt Lake City', 'San  Jose', 'San Carlos',\n",
       "       'San Diego', 'San Francisco', 'San Francisko', 'San Francisso',\n",
       "       'San Jose', 'San Mateo', 'San Paulo', 'San Ramon', 'Santa Barbara',\n",
       "       'Santa Clara', 'Santa Cruz', 'Santa Monica', 'Santiago',\n",
       "       'Sao Paulo', 'Sarasota', 'Schaffhausen', 'Scottsdale', 'Seattle',\n",
       "       'Selangor', 'Seongnam-Si', 'Seoul', 'Seul', 'Shanghai', 'Shenzhen',\n",
       "       'Sherman Oaks', 'Singapore', 'Solihull', 'Somerville',\n",
       "       'South Burlington', 'South Jordan', 'South San Francisco',\n",
       "       'Stockholm', 'Sunnyvale', 'Surry Hills', 'Suzhou', 'Sveta Nedelja',\n",
       "       'Sydney', 'Taguig City', 'Tallinn', 'Tampa', 'Tel  Aviv',\n",
       "       'Tel Aviv', 'Telaviv', 'Thane', 'Tirat Carmel', 'Tokyo', 'Toronto',\n",
       "       'Torrance', 'Tsuruoka', 'Tustin', 'Unterfoehring', 'Uttar Pradesh',\n",
       "       'Vancouver', 'Venice', 'Victoria', 'Vienna', 'Vilnius', 'Vodnjan',\n",
       "       'Walpole', 'Waltham', 'Washington', 'Washington Dc', 'Waterloo',\n",
       "       'Westerville', 'Wilmington', 'Wuhan', 'Wuxi', 'Yehud',\n",
       "       'Zephyr Cove', 'Zhuhai', 'Zurich'], dtype=object)"
      ]
     },
     "execution_count": 24,
     "metadata": {},
     "output_type": "execute_result"
    }
   ],
   "source": [
    "get_uniques()"
   ]
  },
  {
   "cell_type": "code",
   "execution_count": 25,
   "id": "7831f2cf-ea1e-40b8-8f9d-535c2fa18b3e",
   "metadata": {},
   "outputs": [],
   "source": [
    "from thefuzz import fuzz, process"
   ]
  },
  {
   "cell_type": "code",
   "execution_count": 26,
   "id": "6de582d2-8c80-4169-8f49-a4d28e9ad8e9",
   "metadata": {},
   "outputs": [],
   "source": [
    "cities = get_uniques()"
   ]
  },
  {
   "cell_type": "code",
   "execution_count": 27,
   "id": "0dd0a7e0-68a7-4bb4-850c-c4ae43ae2f7e",
   "metadata": {},
   "outputs": [
    {
     "data": {
      "text/plain": [
       "[('San Francisco', 100),\n",
       " ('San Francisko', 92),\n",
       " ('San Francisso', 92),\n",
       " ('South San Francisco', 81),\n",
       " ('San Ramon', 64),\n",
       " ('Sarasota', 57),\n",
       " ('Santa Monica', 56),\n",
       " ('San Diego', 55),\n",
       " ('San Mateo', 55),\n",
       " ('San Paulo', 55)]"
      ]
     },
     "execution_count": 27,
     "metadata": {},
     "output_type": "execute_result"
    }
   ],
   "source": [
    "process.extract('San Francisco', cities, limit=10, scorer=fuzz.ratio)"
   ]
  },
  {
   "cell_type": "code",
   "execution_count": 28,
   "id": "022af4ae-657a-4872-ab24-957ee2e77d77",
   "metadata": {},
   "outputs": [
    {
     "data": {
      "text/plain": [
       "[('Tel Aviv', 100),\n",
       " ('Tel  Aviv', 94),\n",
       " ('Telaviv', 93),\n",
       " ('Menlo Park', 44),\n",
       " ('Berlin', 43),\n",
       " ('Foster City', 42),\n",
       " ('Montpellier', 42),\n",
       " ('Petah Tikva', 42),\n",
       " ('Westerville', 42),\n",
       " ('Atlanta', 40)]"
      ]
     },
     "execution_count": 28,
     "metadata": {},
     "output_type": "execute_result"
    }
   ],
   "source": [
    "process.extract('Tel Aviv', cities, limit=10, scorer=fuzz.ratio)"
   ]
  },
  {
   "cell_type": "code",
   "execution_count": 119,
   "id": "3fffe26d-ba5b-419f-9b5f-4eb995290e17",
   "metadata": {},
   "outputs": [
    {
     "data": {
      "text/plain": [
       "[('New York', 100),\n",
       " ('New-York', 100),\n",
       " ('Englewood', 47),\n",
       " ('Inglewood', 47),\n",
       " ('New Delhi', 47),\n",
       " ('Cedar Park', 44),\n",
       " ('Menlo Park', 44),\n",
       " ('Northbrook', 44),\n",
       " ('Denver', 43),\n",
       " ('Sydney', 43)]"
      ]
     },
     "execution_count": 119,
     "metadata": {},
     "output_type": "execute_result"
    }
   ],
   "source": [
    "process.extract('New-York', cities, limit=10, scorer=fuzz.ratio)"
   ]
  },
  {
   "cell_type": "code",
   "execution_count": 30,
   "id": "11860341-09b0-460d-ac7f-5def44ff4a7f",
   "metadata": {},
   "outputs": [
    {
     "data": {
      "text/plain": [
       "City\n",
       "San Francisco    166\n",
       "New York         109\n",
       "Beijing           61\n",
       "Shanghai          46\n",
       "London            36\n",
       "                ... \n",
       "Bogota             3\n",
       "Waltham            3\n",
       "Istanbul           3\n",
       "Culver City        3\n",
       "Burlingame         3\n",
       "Name: count, Length: 67, dtype: int64"
      ]
     },
     "execution_count": 30,
     "metadata": {},
     "output_type": "execute_result"
    }
   ],
   "source": [
    "cities_counted = df.City.value_counts()\n",
    "cities_counted[cities_counted > 2]"
   ]
  },
  {
   "cell_type": "code",
   "execution_count": 40,
   "id": "0528595b-45e3-47f9-8e06-08e9efd2bc89",
   "metadata": {},
   "outputs": [],
   "source": [
    "def replace_matches(df, column, min_ratio=90):\n",
    "    valid_values = df[column].value_counts()\n",
    "    valid_values = valid_values[valid_values > 2].index\n",
    "    strings = df[column].unique()\n",
    "\n",
    "    for vv in valid_values:\n",
    "        matches = process.extract(vv, strings, limit=10, scorer=fuzz.ratio)\n",
    "        close_matches = [match[0] for match in matches if match[1] >= min_ratio]\n",
    "        rows_with_matches = df[column].isin(close_matches)\n",
    "        df.loc[rows_with_matches, column] = vv"
   ]
  },
  {
   "cell_type": "code",
   "execution_count": 41,
   "id": "c809b3a8-a17f-4dfb-8fd5-38960cb0d8af",
   "metadata": {},
   "outputs": [
    {
     "data": {
      "text/plain": [
       "297"
      ]
     },
     "execution_count": 41,
     "metadata": {},
     "output_type": "execute_result"
    }
   ],
   "source": [
    "cities.size"
   ]
  },
  {
   "cell_type": "code",
   "execution_count": 42,
   "id": "3a31fdd5-95f8-4d4a-9043-e4f3b31006d9",
   "metadata": {},
   "outputs": [],
   "source": [
    "replace_matches(df, 'City')"
   ]
  },
  {
   "cell_type": "code",
   "execution_count": 43,
   "id": "a66a0033-9cee-4954-bf57-013dda2f1fef",
   "metadata": {},
   "outputs": [],
   "source": [
    "cities = get_uniques()"
   ]
  },
  {
   "cell_type": "code",
   "execution_count": 44,
   "id": "103fde26-ff65-4346-86d3-64844daba7b4",
   "metadata": {},
   "outputs": [
    {
     "data": {
      "text/plain": [
       "287"
      ]
     },
     "execution_count": 44,
     "metadata": {},
     "output_type": "execute_result"
    }
   ],
   "source": [
    "cities.size"
   ]
  },
  {
   "cell_type": "code",
   "execution_count": 45,
   "id": "386f6da9-29be-4bf1-a8e5-9f62d1bd3914",
   "metadata": {},
   "outputs": [
    {
     "data": {
      "text/plain": [
       "array(['Aarhus', 'Aberdeen', 'Alameda', 'Alexandria', 'Altrincham',\n",
       "       'Ambler', 'Amsterdam', 'Andheri', 'Arlington', 'Atlanta', 'Austin',\n",
       "       'Bahamas', 'Bangalore', 'Bangkok', 'Banyeres De Mariola',\n",
       "       'Barcelona', 'Beijing', 'Bejjing', 'Bellevue', 'Bellingham',\n",
       "       'Bend', 'Bengaluru', 'Berkeley', 'Berkeley Heights', 'Berlin',\n",
       "       'Bethesda', 'Boca Raton', 'Bogota', 'Boise', 'Boston', 'Boulder',\n",
       "       'Brisbane', 'Bristol', 'Brookline', 'Brooklyn', 'Bruchsal',\n",
       "       'Brussels', 'Bryanston', 'Buenos Aires', 'Burlingame',\n",
       "       'Burlington', 'Burnaby', 'Cambridge', 'Campinas', 'Carlsbad',\n",
       "       'Carson City', 'Cary', 'Cedar Park', 'Central', 'Changsha',\n",
       "       'Charlotte', 'Chatham', 'Chemnitz', 'Chengdu', 'Chennai',\n",
       "       'Cheung Sha Wan', 'Chicago', 'Chongqing', 'Cincinnati',\n",
       "       'Colchester', 'Colorado Springs', 'Columbia', 'Columbus',\n",
       "       'Copenhagen', 'Crewe', 'Croix', 'Culver City', 'Curitiba', 'Dakar',\n",
       "       'Dallas', 'Dc', 'Denver', 'Detroit', 'Dongguan', 'Draper', 'Dubai',\n",
       "       'Dublin', 'Duderstadt', 'Eden Prairie', 'El Segundo', 'Encinitas',\n",
       "       'Englewood', 'Englewood Cliffs', 'Espoo', 'Evry', 'Faridabad',\n",
       "       'Fort Lee', 'Fort Mill', 'Foster City', 'Framingham', 'Fremont',\n",
       "       'Geneva', 'Ghent', \"Giv'Atayim\", 'Glendale', 'Gloucester',\n",
       "       'Goleta', 'Greenwood Village', 'Guangzhou', 'Guiyang', 'Gurgaon',\n",
       "       'Gurugram', 'Hamilton', 'Hangzhou', 'Hanover', 'Hawthorne',\n",
       "       'Hayward', 'Hefei', 'Helsinki', 'Herndon', 'Herzliya',\n",
       "       'Ho Chi Minh City', 'Hoboken', 'Hong Kong', 'Houston', 'Hunan',\n",
       "       'Hyderabad', 'Inglewood', 'Irvine', 'Irving', 'Islandia',\n",
       "       'Istanbul', 'Jacksonville', 'Jaipur', 'Jakarta', 'Jakdrta',\n",
       "       'Jeju-Do', 'Jersey City', 'Jerusalem', 'Jiangsu', 'Juarez',\n",
       "       'Kilkenny', 'Kirkland', 'Kista', 'Kitchener', 'Kowloon',\n",
       "       'La Plaine Saint-Denis', 'Lagos', 'Las Vegas', 'Lausanne',\n",
       "       'Leawood', 'Lehi', 'Lerma De Villada', 'Leudelange', 'Lincoln',\n",
       "       'London', 'Long Beach', 'Los Altos', 'Los Angeles', 'Louisville',\n",
       "       'Louvain-La-Neuve', 'Luohe', 'Lysaker', 'Madison', 'Madrid',\n",
       "       'Maharashtra', 'Manila', 'Marina Del Rey', 'Mclean', 'Melbourne',\n",
       "       'Menlo Park', 'Mexico City', 'Miami', 'Midrand', 'Milan',\n",
       "       'Milpitas', 'Mississauga', 'Monterrey', 'Montpellier', 'Montreal',\n",
       "       'Morrisville', 'Mountain View', 'Mumbai', 'Munich', 'Munik',\n",
       "       'Nanjing', 'Nashville', 'Netanya', 'New Delhi', 'New York',\n",
       "       'Noida', 'Northbrook', 'Oakland', 'Orlando', 'Osasco', 'Oslo',\n",
       "       'Ottawa', 'Oulu', 'Palo Alto', 'Parana', 'Paris', 'Pennsauken',\n",
       "       'Petah Tikva', 'Peterborough', 'Pflugerville', 'Philadelphia',\n",
       "       'Pittsburgh', 'Plantation', 'Pleasanton', 'Polo Alto', 'Portland',\n",
       "       'Portola Valley', 'Prague', 'Prilly', 'Princeton', 'Pune',\n",
       "       'Qingdao', 'Quincy', 'Quito', \"Ra'Anana\", 'Raleigh', 'Ramat Gan',\n",
       "       'Redmond', 'Redwood City', 'Richmond', 'Roseville', 'Roubaix',\n",
       "       'Sacramento', 'Salt Lake City', 'San Carlos', 'San Diego',\n",
       "       'San Francisco', 'San Jose', 'San Mateo', 'San Paulo', 'San Ramon',\n",
       "       'Santa Barbara', 'Santa Clara', 'Santa Cruz', 'Santa Monica',\n",
       "       'Santiago', 'Sao Paulo', 'Sarasota', 'Schaffhausen', 'Scottsdale',\n",
       "       'Seattle', 'Selangor', 'Seongnam-Si', 'Seoul', 'Seul', 'Shanghai',\n",
       "       'Shenzhen', 'Sherman Oaks', 'Singapore', 'Solihull', 'Somerville',\n",
       "       'South Burlington', 'South Jordan', 'South San Francisco',\n",
       "       'Stockholm', 'Sunnyvale', 'Surry Hills', 'Suzhou', 'Sveta Nedelja',\n",
       "       'Sydney', 'Taguig City', 'Tallinn', 'Tampa', 'Tel Aviv', 'Thane',\n",
       "       'Tirat Carmel', 'Tokyo', 'Toronto', 'Torrance', 'Tsuruoka',\n",
       "       'Tustin', 'Unterfoehring', 'Uttar Pradesh', 'Vancouver', 'Venice',\n",
       "       'Victoria', 'Vienna', 'Vilnius', 'Vodnjan', 'Walpole', 'Waltham',\n",
       "       'Washington', 'Washington Dc', 'Waterloo', 'Westerville',\n",
       "       'Wilmington', 'Wuhan', 'Wuxi', 'Yehud', 'Zephyr Cove', 'Zhuhai',\n",
       "       'Zurich'], dtype=object)"
      ]
     },
     "execution_count": 45,
     "metadata": {},
     "output_type": "execute_result"
    }
   ],
   "source": [
    "cities"
   ]
  },
  {
   "cell_type": "code",
   "execution_count": 46,
   "id": "3aca92f5-06f2-405d-a87d-bafd91153cca",
   "metadata": {},
   "outputs": [],
   "source": [
    "replace_matches(df, 'City', 85)"
   ]
  },
  {
   "cell_type": "code",
   "execution_count": 47,
   "id": "c1b1bbf9-2309-4245-ab96-a989755a7643",
   "metadata": {},
   "outputs": [],
   "source": [
    "cities = get_uniques()"
   ]
  },
  {
   "cell_type": "code",
   "execution_count": 48,
   "id": "b0d2a4fc-3237-43ba-9c25-5b345494750c",
   "metadata": {},
   "outputs": [
    {
     "data": {
      "text/plain": [
       "282"
      ]
     },
     "execution_count": 48,
     "metadata": {},
     "output_type": "execute_result"
    }
   ],
   "source": [
    "cities.size"
   ]
  }
 ],
 "metadata": {
  "kernelspec": {
   "display_name": "Python 3 (ipykernel)",
   "language": "python",
   "name": "python3"
  },
  "language_info": {
   "codemirror_mode": {
    "name": "ipython",
    "version": 3
   },
   "file_extension": ".py",
   "mimetype": "text/x-python",
   "name": "python",
   "nbconvert_exporter": "python",
   "pygments_lexer": "ipython3",
   "version": "3.12.1"
  }
 },
 "nbformat": 4,
 "nbformat_minor": 5
}
