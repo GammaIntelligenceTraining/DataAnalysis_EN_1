{
 "cells": [
  {
   "cell_type": "code",
   "execution_count": 1,
   "id": "f68bec87-d30a-4d0f-87c1-74b6db7381c8",
   "metadata": {},
   "outputs": [],
   "source": [
    "import numpy as np"
   ]
  },
  {
   "cell_type": "code",
   "execution_count": 2,
   "id": "5140acae-76bd-4a7c-bd3c-9516fdc28555",
   "metadata": {},
   "outputs": [
    {
     "ename": "NameError",
     "evalue": "name 'sin' is not defined",
     "output_type": "error",
     "traceback": [
      "\u001b[1;31m---------------------------------------------------------------------------\u001b[0m",
      "\u001b[1;31mNameError\u001b[0m                                 Traceback (most recent call last)",
      "Cell \u001b[1;32mIn[2], line 1\u001b[0m\n\u001b[1;32m----> 1\u001b[0m \u001b[43msin\u001b[49m(pi)\n",
      "\u001b[1;31mNameError\u001b[0m: name 'sin' is not defined"
     ]
    }
   ],
   "source": [
    "sin(pi)"
   ]
  },
  {
   "cell_type": "code",
   "execution_count": 3,
   "id": "6a109a90-588c-4b89-8695-f3819fc1e0a7",
   "metadata": {},
   "outputs": [
    {
     "data": {
      "text/plain": [
       "1.2246467991473532e-16"
      ]
     },
     "execution_count": 3,
     "metadata": {},
     "output_type": "execute_result"
    }
   ],
   "source": [
    "np.sin(np.pi)"
   ]
  },
  {
   "cell_type": "code",
   "execution_count": 4,
   "id": "a01f1d5e-dda8-427b-a044-1120da72c42e",
   "metadata": {},
   "outputs": [],
   "source": [
    "x = 1"
   ]
  },
  {
   "cell_type": "code",
   "execution_count": 5,
   "id": "57f2a4eb-c232-4872-9ec2-5f6f05852d28",
   "metadata": {},
   "outputs": [],
   "source": [
    "from sys import getsizeof"
   ]
  },
  {
   "cell_type": "code",
   "execution_count": 6,
   "id": "00b28f94-fb72-404b-ae18-6ac3a13bf8de",
   "metadata": {},
   "outputs": [
    {
     "data": {
      "text/plain": [
       "28"
      ]
     },
     "execution_count": 6,
     "metadata": {},
     "output_type": "execute_result"
    }
   ],
   "source": [
    "getsizeof(x)"
   ]
  },
  {
   "cell_type": "code",
   "execution_count": 7,
   "id": "07e368c5-fb56-4456-9899-44070c1a223f",
   "metadata": {},
   "outputs": [],
   "source": [
    "y = np.int32(1)"
   ]
  },
  {
   "cell_type": "code",
   "execution_count": 8,
   "id": "880f0fb8-1599-4e57-aba6-30497333e766",
   "metadata": {},
   "outputs": [
    {
     "data": {
      "text/plain": [
       "4"
      ]
     },
     "execution_count": 8,
     "metadata": {},
     "output_type": "execute_result"
    }
   ],
   "source": [
    "y.itemsize"
   ]
  },
  {
   "cell_type": "code",
   "execution_count": 9,
   "id": "85f6da87-55d6-447f-a9c7-3b34594875da",
   "metadata": {},
   "outputs": [],
   "source": [
    "y = np.int8(1)"
   ]
  },
  {
   "cell_type": "code",
   "execution_count": 10,
   "id": "0d63dd3b-baa6-4f79-9359-dd74aab83ef0",
   "metadata": {},
   "outputs": [
    {
     "data": {
      "text/plain": [
       "1"
      ]
     },
     "execution_count": 10,
     "metadata": {},
     "output_type": "execute_result"
    }
   ],
   "source": [
    "y.itemsize"
   ]
  },
  {
   "cell_type": "markdown",
   "id": "e44c1f07-d6b4-404c-969b-16a41b752bfa",
   "metadata": {},
   "source": [
    "# Create and indexing of an Array"
   ]
  },
  {
   "cell_type": "code",
   "execution_count": 11,
   "id": "c8eb8538-189b-4ffa-bef3-6c5475723c16",
   "metadata": {},
   "outputs": [
    {
     "data": {
      "text/plain": [
       "array([1, 2, 3, 4, 5, 6, 7])"
      ]
     },
     "execution_count": 11,
     "metadata": {},
     "output_type": "execute_result"
    }
   ],
   "source": [
    "a = np.array([1, 2, 3, 4, 5, 6, 7])\n",
    "a"
   ]
  },
  {
   "cell_type": "code",
   "execution_count": 12,
   "id": "0db58fce-46a7-4c6d-aff8-5fd384aa6ff1",
   "metadata": {},
   "outputs": [
    {
     "data": {
      "text/plain": [
       "1"
      ]
     },
     "execution_count": 12,
     "metadata": {},
     "output_type": "execute_result"
    }
   ],
   "source": [
    "a[0]"
   ]
  },
  {
   "cell_type": "code",
   "execution_count": 13,
   "id": "861a9aff-93ee-4624-99f3-12fa0e1dff35",
   "metadata": {},
   "outputs": [
    {
     "data": {
      "text/plain": [
       "7"
      ]
     },
     "execution_count": 13,
     "metadata": {},
     "output_type": "execute_result"
    }
   ],
   "source": [
    "a[-1]"
   ]
  },
  {
   "cell_type": "code",
   "execution_count": 14,
   "id": "a02d4c35-f810-4a87-9367-2ffae8037a48",
   "metadata": {},
   "outputs": [
    {
     "data": {
      "text/plain": [
       "array([2, 3, 4])"
      ]
     },
     "execution_count": 14,
     "metadata": {},
     "output_type": "execute_result"
    }
   ],
   "source": [
    "a[1:4]"
   ]
  },
  {
   "cell_type": "code",
   "execution_count": 15,
   "id": "4b49c2fd-47bc-48d7-9339-441b26c457b4",
   "metadata": {},
   "outputs": [
    {
     "data": {
      "text/plain": [
       "array([3, 5, 7])"
      ]
     },
     "execution_count": 15,
     "metadata": {},
     "output_type": "execute_result"
    }
   ],
   "source": [
    "a[2::2]"
   ]
  },
  {
   "cell_type": "code",
   "execution_count": 16,
   "id": "e70679b0-6d74-47a5-b6a8-a455d5a1d4e0",
   "metadata": {},
   "outputs": [
    {
     "data": {
      "text/plain": [
       "array([7, 6, 5, 4, 3, 2, 1])"
      ]
     },
     "execution_count": 16,
     "metadata": {},
     "output_type": "execute_result"
    }
   ],
   "source": [
    "a[::-1]"
   ]
  },
  {
   "cell_type": "markdown",
   "id": "65624de3-4137-437f-a42a-3a089ab664c8",
   "metadata": {},
   "source": [
    "**fancy indexing**"
   ]
  },
  {
   "cell_type": "code",
   "execution_count": 17,
   "id": "50804afa-c568-4f6e-ac98-2d0e677bebfb",
   "metadata": {},
   "outputs": [
    {
     "data": {
      "text/plain": [
       "array([1, 2, 3, 4, 5, 6, 7])"
      ]
     },
     "execution_count": 17,
     "metadata": {},
     "output_type": "execute_result"
    }
   ],
   "source": [
    "a"
   ]
  },
  {
   "cell_type": "code",
   "execution_count": 18,
   "id": "ab134b54-4400-4971-8127-4cdf7c8405b1",
   "metadata": {},
   "outputs": [
    {
     "data": {
      "text/plain": [
       "array([4, 7, 2, 4, 7, 2])"
      ]
     },
     "execution_count": 18,
     "metadata": {},
     "output_type": "execute_result"
    }
   ],
   "source": [
    "a[[3, 6, 1, 3, -1, 1]]"
   ]
  },
  {
   "cell_type": "code",
   "execution_count": 19,
   "id": "d0cda60b-3d7b-4509-af2f-cbfa3cbcae40",
   "metadata": {},
   "outputs": [
    {
     "data": {
      "text/plain": [
       "array([1, 1, 2, 1, 1])"
      ]
     },
     "execution_count": 19,
     "metadata": {},
     "output_type": "execute_result"
    }
   ],
   "source": [
    "a[[0,0,1,0,0]]"
   ]
  },
  {
   "cell_type": "code",
   "execution_count": 20,
   "id": "c88ac890-912f-4270-92e1-f2a2c33f1b06",
   "metadata": {},
   "outputs": [],
   "source": [
    "lst = [5, 1, 3, -2]"
   ]
  },
  {
   "cell_type": "code",
   "execution_count": 21,
   "id": "cc7c6226-3632-4f35-817d-f913788ffd16",
   "metadata": {},
   "outputs": [
    {
     "data": {
      "text/plain": [
       "array([6, 2, 4, 6])"
      ]
     },
     "execution_count": 21,
     "metadata": {},
     "output_type": "execute_result"
    }
   ],
   "source": [
    "a[lst]"
   ]
  },
  {
   "cell_type": "code",
   "execution_count": 22,
   "id": "4ca830ef-260a-4a31-957c-8bd5a87cd1a1",
   "metadata": {},
   "outputs": [],
   "source": [
    "a[0] = 10"
   ]
  },
  {
   "cell_type": "code",
   "execution_count": 23,
   "id": "65885733-7628-4fbd-84cb-2382ba7dc80c",
   "metadata": {},
   "outputs": [
    {
     "data": {
      "text/plain": [
       "array([10,  2,  3,  4,  5,  6,  7])"
      ]
     },
     "execution_count": 23,
     "metadata": {},
     "output_type": "execute_result"
    }
   ],
   "source": [
    "a"
   ]
  },
  {
   "cell_type": "code",
   "execution_count": 24,
   "id": "777efbae-eb3a-449c-819d-710a3fe547a0",
   "metadata": {},
   "outputs": [
    {
     "ename": "ValueError",
     "evalue": "could not broadcast input array from shape (2,) into shape (3,)",
     "output_type": "error",
     "traceback": [
      "\u001b[1;31m---------------------------------------------------------------------------\u001b[0m",
      "\u001b[1;31mValueError\u001b[0m                                Traceback (most recent call last)",
      "Cell \u001b[1;32mIn[24], line 1\u001b[0m\n\u001b[1;32m----> 1\u001b[0m \u001b[43ma\u001b[49m\u001b[43m[\u001b[49m\u001b[38;5;241;43m2\u001b[39;49m\u001b[43m:\u001b[49m\u001b[38;5;241;43m5\u001b[39;49m\u001b[43m]\u001b[49m \u001b[38;5;241m=\u001b[39m [\u001b[38;5;241m11\u001b[39m, \u001b[38;5;241m12\u001b[39m]\n",
      "\u001b[1;31mValueError\u001b[0m: could not broadcast input array from shape (2,) into shape (3,)"
     ]
    }
   ],
   "source": [
    "a[2:5] = [11, 12]"
   ]
  },
  {
   "cell_type": "code",
   "execution_count": 25,
   "id": "eb692e57-cbc4-414e-ba29-fb0181f7574e",
   "metadata": {},
   "outputs": [],
   "source": [
    "a[2:5] = [11, 12, 13]"
   ]
  },
  {
   "cell_type": "code",
   "execution_count": 26,
   "id": "565a3cc5-c10c-40c2-b84f-d95403801830",
   "metadata": {},
   "outputs": [
    {
     "data": {
      "text/plain": [
       "array([10,  2, 11, 12, 13,  6,  7])"
      ]
     },
     "execution_count": 26,
     "metadata": {},
     "output_type": "execute_result"
    }
   ],
   "source": [
    "a"
   ]
  },
  {
   "cell_type": "code",
   "execution_count": 27,
   "id": "f24736c2-406f-4ce1-9c00-8af3e9f35a53",
   "metadata": {},
   "outputs": [],
   "source": [
    "a[2:5] = -1"
   ]
  },
  {
   "cell_type": "code",
   "execution_count": 28,
   "id": "123f832a-afe8-4c42-8d87-7e8a66435f6b",
   "metadata": {},
   "outputs": [
    {
     "data": {
      "text/plain": [
       "array([10,  2, -1, -1, -1,  6,  7])"
      ]
     },
     "execution_count": 28,
     "metadata": {},
     "output_type": "execute_result"
    }
   ],
   "source": [
    "a"
   ]
  },
  {
   "cell_type": "markdown",
   "id": "2b87456b-a47e-493c-af6c-111c883c65c0",
   "metadata": {},
   "source": [
    "# Data types"
   ]
  },
  {
   "cell_type": "code",
   "execution_count": 29,
   "id": "fc1a7389-b029-42a7-831b-59262d65fa27",
   "metadata": {},
   "outputs": [
    {
     "data": {
      "text/plain": [
       "array([10,  2, -1, -1, -1,  6,  7])"
      ]
     },
     "execution_count": 29,
     "metadata": {},
     "output_type": "execute_result"
    }
   ],
   "source": [
    "a"
   ]
  },
  {
   "cell_type": "code",
   "execution_count": 30,
   "id": "537fb8cb-e4c4-4958-8afc-63efa9e6dddb",
   "metadata": {},
   "outputs": [
    {
     "data": {
      "text/plain": [
       "dtype('int32')"
      ]
     },
     "execution_count": 30,
     "metadata": {},
     "output_type": "execute_result"
    }
   ],
   "source": [
    "a.dtype"
   ]
  },
  {
   "cell_type": "code",
   "execution_count": 31,
   "id": "1c74097b-5d8e-4bca-b622-87210b3028c4",
   "metadata": {},
   "outputs": [
    {
     "name": "stdout",
     "output_type": "stream",
     "text": [
      "['1' 'True' '2.5' '5j' 'hi']\n",
      "<U64\n"
     ]
    }
   ],
   "source": [
    "arr = np.array([1, True, 2.5, 5j, 'hi'])\n",
    "print(arr)\n",
    "print(arr.dtype)"
   ]
  },
  {
   "cell_type": "code",
   "execution_count": 32,
   "id": "e3811553-d04b-4e0d-a97d-007a8511b7f2",
   "metadata": {},
   "outputs": [
    {
     "data": {
      "text/plain": [
       "'<built-in function sum>'"
      ]
     },
     "execution_count": 32,
     "metadata": {},
     "output_type": "execute_result"
    }
   ],
   "source": [
    "str(sum)"
   ]
  },
  {
   "cell_type": "code",
   "execution_count": 33,
   "id": "8bc064f2-3532-4e35-ae82-dd25047b6586",
   "metadata": {},
   "outputs": [],
   "source": [
    "a = np.array([1, 2, 3, 4], dtype='int16')"
   ]
  },
  {
   "cell_type": "code",
   "execution_count": 34,
   "id": "6a5a9ae7-6430-4854-adab-9cb18c3d960d",
   "metadata": {},
   "outputs": [
    {
     "data": {
      "text/plain": [
       "array([1, 2, 3, 4], dtype=int16)"
      ]
     },
     "execution_count": 34,
     "metadata": {},
     "output_type": "execute_result"
    }
   ],
   "source": [
    "a"
   ]
  },
  {
   "cell_type": "code",
   "execution_count": 35,
   "id": "bd1231d3-a5d3-452c-9483-a9465759e1da",
   "metadata": {},
   "outputs": [
    {
     "name": "stderr",
     "output_type": "stream",
     "text": [
      "C:\\Users\\USER\\AppData\\Local\\Temp\\ipykernel_12844\\1588550573.py:1: DeprecationWarning: NumPy will stop allowing conversion of out-of-bound Python integers to integer arrays.  The conversion of 500 to int8 will fail in the future.\n",
      "For the old behavior, usually:\n",
      "    np.array(value).astype(dtype)\n",
      "will give the desired result (the cast overflows).\n",
      "  np.array([1, 5, 500, 5000], dtype='int8')\n",
      "C:\\Users\\USER\\AppData\\Local\\Temp\\ipykernel_12844\\1588550573.py:1: DeprecationWarning: NumPy will stop allowing conversion of out-of-bound Python integers to integer arrays.  The conversion of 5000 to int8 will fail in the future.\n",
      "For the old behavior, usually:\n",
      "    np.array(value).astype(dtype)\n",
      "will give the desired result (the cast overflows).\n",
      "  np.array([1, 5, 500, 5000], dtype='int8')\n"
     ]
    },
    {
     "data": {
      "text/plain": [
       "array([   1,    5,  -12, -120], dtype=int8)"
      ]
     },
     "execution_count": 35,
     "metadata": {},
     "output_type": "execute_result"
    }
   ],
   "source": [
    "np.array([1, 5, 500, 5000], dtype='int8')"
   ]
  },
  {
   "cell_type": "code",
   "execution_count": 36,
   "id": "746982d3-caa7-489a-9f41-38cf5ba77054",
   "metadata": {},
   "outputs": [
    {
     "data": {
      "text/plain": [
       "array([   1,    5,  500, 5000], dtype=int16)"
      ]
     },
     "execution_count": 36,
     "metadata": {},
     "output_type": "execute_result"
    }
   ],
   "source": [
    "np.array([1, 5, 500, 5000], dtype='int16')"
   ]
  },
  {
   "cell_type": "code",
   "execution_count": 37,
   "id": "fae25577-0699-4e89-9693-c8db85e46c9b",
   "metadata": {},
   "outputs": [
    {
     "data": {
      "text/plain": [
       "array([1., 2., 3., 4.], dtype=float32)"
      ]
     },
     "execution_count": 37,
     "metadata": {},
     "output_type": "execute_result"
    }
   ],
   "source": [
    "np.float32(a)"
   ]
  },
  {
   "cell_type": "code",
   "execution_count": 38,
   "id": "4be01b81-52ce-49b4-bb38-703ec1c75558",
   "metadata": {},
   "outputs": [
    {
     "data": {
      "text/plain": [
       "array([ 1,  5,  7,  9, 10], dtype=int8)"
      ]
     },
     "execution_count": 38,
     "metadata": {},
     "output_type": "execute_result"
    }
   ],
   "source": [
    "np.fromstring('1 5 7 9 10', dtype='int8', sep=' ')"
   ]
  },
  {
   "cell_type": "markdown",
   "id": "0e0ec219-f518-40a1-bf5d-443f19884e1e",
   "metadata": {},
   "source": [
    "# Multy-dimensional arrays"
   ]
  },
  {
   "cell_type": "code",
   "execution_count": 39,
   "id": "87d9d99c-aed5-42a5-b18d-d4c3a0afb1df",
   "metadata": {},
   "outputs": [
    {
     "data": {
      "text/plain": [
       "array([[ 2,  8],\n",
       "       [-3,  1],\n",
       "       [11, 12]])"
      ]
     },
     "execution_count": 39,
     "metadata": {},
     "output_type": "execute_result"
    }
   ],
   "source": [
    "arr2d = np.array([[2, 8], [-3, 1], [11, 12]])\n",
    "arr2d"
   ]
  },
  {
   "cell_type": "code",
   "execution_count": 40,
   "id": "03745b2e-ac68-4e6b-97ff-4339082cc222",
   "metadata": {},
   "outputs": [
    {
     "data": {
      "text/plain": [
       "array([[[  2,   4,  -5],\n",
       "        [ -2,   5,   7],\n",
       "        [  1,   2,   3]],\n",
       "\n",
       "       [[  0,   9,   7],\n",
       "        [-50,  12,  44],\n",
       "        [  9,  17, -21]],\n",
       "\n",
       "       [[ -7,  14,   7],\n",
       "        [ -2,   6,   4],\n",
       "        [  5,   3,   1]]])"
      ]
     },
     "execution_count": 40,
     "metadata": {},
     "output_type": "execute_result"
    }
   ],
   "source": [
    "arr3d = np.array([ [ [2, 4, -5] , [-2, 5, 7], [1, 2, 3] ],\n",
    "         [ [0 ,9, 7], [-50, 12, 44], [9, 17, -21] ],\n",
    "         [ [-7, 14, 7], [-2, 6, 4], [5, 3, 1] ] ])\n",
    "arr3d"
   ]
  },
  {
   "cell_type": "code",
   "execution_count": 41,
   "id": "58ab7b9f-0a77-4494-8a04-eb6499757e16",
   "metadata": {},
   "outputs": [
    {
     "data": {
      "text/plain": [
       "2"
      ]
     },
     "execution_count": 41,
     "metadata": {},
     "output_type": "execute_result"
    }
   ],
   "source": [
    "arr2d.ndim"
   ]
  },
  {
   "cell_type": "code",
   "execution_count": 42,
   "id": "9d90041d-2d16-46ca-bf7c-f190e8f0220f",
   "metadata": {},
   "outputs": [
    {
     "data": {
      "text/plain": [
       "3"
      ]
     },
     "execution_count": 42,
     "metadata": {},
     "output_type": "execute_result"
    }
   ],
   "source": [
    "arr3d.ndim"
   ]
  },
  {
   "cell_type": "code",
   "execution_count": 43,
   "id": "eac10a53-370b-46da-ab0d-ce5ec3640cf0",
   "metadata": {},
   "outputs": [
    {
     "data": {
      "text/plain": [
       "(3, 2)"
      ]
     },
     "execution_count": 43,
     "metadata": {},
     "output_type": "execute_result"
    }
   ],
   "source": [
    "arr2d.shape"
   ]
  },
  {
   "cell_type": "code",
   "execution_count": 44,
   "id": "a01082e0-afd7-472c-bc70-44eef6654f11",
   "metadata": {},
   "outputs": [
    {
     "data": {
      "text/plain": [
       "(3, 3, 3)"
      ]
     },
     "execution_count": 44,
     "metadata": {},
     "output_type": "execute_result"
    }
   ],
   "source": [
    "arr3d.shape"
   ]
  },
  {
   "cell_type": "code",
   "execution_count": 45,
   "id": "1def6c24-df9e-46d5-b1dd-ffd6d595b947",
   "metadata": {},
   "outputs": [
    {
     "data": {
      "text/plain": [
       "6"
      ]
     },
     "execution_count": 45,
     "metadata": {},
     "output_type": "execute_result"
    }
   ],
   "source": [
    "arr2d.size"
   ]
  },
  {
   "cell_type": "code",
   "execution_count": 46,
   "id": "0cf48693-0bcb-410c-aa66-4b3a7cc87cfc",
   "metadata": {},
   "outputs": [
    {
     "data": {
      "text/plain": [
       "27"
      ]
     },
     "execution_count": 46,
     "metadata": {},
     "output_type": "execute_result"
    }
   ],
   "source": [
    "arr3d.size"
   ]
  },
  {
   "cell_type": "code",
   "execution_count": 47,
   "id": "1c13a4ca-b93c-4eef-9ce2-8203ff2c4a6d",
   "metadata": {},
   "outputs": [
    {
     "data": {
      "text/plain": [
       "4"
      ]
     },
     "execution_count": 47,
     "metadata": {},
     "output_type": "execute_result"
    }
   ],
   "source": [
    "arr3d.itemsize"
   ]
  },
  {
   "cell_type": "code",
   "execution_count": 48,
   "id": "305d3789-fd5e-4a68-a31f-ae7ae59d2f24",
   "metadata": {},
   "outputs": [
    {
     "data": {
      "text/plain": [
       "108"
      ]
     },
     "execution_count": 48,
     "metadata": {},
     "output_type": "execute_result"
    }
   ],
   "source": [
    "arr3d.itemsize * arr3d.size"
   ]
  },
  {
   "cell_type": "markdown",
   "id": "61e7915a-e5a7-4546-a563-58e160276d5c",
   "metadata": {},
   "source": [
    "### Indexing and slicing"
   ]
  },
  {
   "cell_type": "code",
   "execution_count": 49,
   "id": "d9ded5bb-c369-4023-8812-be779209498e",
   "metadata": {},
   "outputs": [
    {
     "data": {
      "text/plain": [
       "array([[ 2,  8],\n",
       "       [-3,  1],\n",
       "       [11, 12]])"
      ]
     },
     "execution_count": 49,
     "metadata": {},
     "output_type": "execute_result"
    }
   ],
   "source": [
    "arr2d"
   ]
  },
  {
   "cell_type": "code",
   "execution_count": 50,
   "id": "0df48f9c-9bb7-4d80-87a2-e2920688c896",
   "metadata": {},
   "outputs": [
    {
     "data": {
      "text/plain": [
       "2"
      ]
     },
     "execution_count": 50,
     "metadata": {},
     "output_type": "execute_result"
    }
   ],
   "source": [
    "arr2d[0, 0]"
   ]
  },
  {
   "cell_type": "code",
   "execution_count": 51,
   "id": "4b8b5669-5988-49a3-83eb-568a25a3b76c",
   "metadata": {},
   "outputs": [
    {
     "data": {
      "text/plain": [
       "array([[[  2,   4,  -5],\n",
       "        [ -2,   5,   7],\n",
       "        [  1,   2,   3]],\n",
       "\n",
       "       [[  0,   9,   7],\n",
       "        [-50,  12,  44],\n",
       "        [  9,  17, -21]],\n",
       "\n",
       "       [[ -7,  14,   7],\n",
       "        [ -2,   6,   4],\n",
       "        [  5,   3,   1]]])"
      ]
     },
     "execution_count": 51,
     "metadata": {},
     "output_type": "execute_result"
    }
   ],
   "source": [
    "arr3d"
   ]
  },
  {
   "cell_type": "code",
   "execution_count": 52,
   "id": "11dad432-a897-4786-98f0-56b7bb3df8d0",
   "metadata": {},
   "outputs": [
    {
     "data": {
      "text/plain": [
       "5"
      ]
     },
     "execution_count": 52,
     "metadata": {},
     "output_type": "execute_result"
    }
   ],
   "source": [
    "arr3d[0, 1, 1]"
   ]
  },
  {
   "cell_type": "code",
   "execution_count": 53,
   "id": "1794a650-fc38-4bf5-a860-13e02e198e45",
   "metadata": {},
   "outputs": [
    {
     "data": {
      "text/plain": [
       "5"
      ]
     },
     "execution_count": 53,
     "metadata": {},
     "output_type": "execute_result"
    }
   ],
   "source": [
    "arr3d[0][1][1]"
   ]
  },
  {
   "cell_type": "code",
   "execution_count": 54,
   "id": "ee718af8-c8cb-4f12-b6c4-1d62c5a7a647",
   "metadata": {},
   "outputs": [
    {
     "data": {
      "text/plain": [
       "array([[ -2,   5,   7],\n",
       "       [-50,  12,  44],\n",
       "       [ -2,   6,   4]])"
      ]
     },
     "execution_count": 54,
     "metadata": {},
     "output_type": "execute_result"
    }
   ],
   "source": [
    "arr3d[:, 1, :]"
   ]
  },
  {
   "cell_type": "code",
   "execution_count": 55,
   "id": "b640eb5d-488e-4205-99cb-4c2f78c02c8b",
   "metadata": {},
   "outputs": [
    {
     "data": {
      "text/plain": [
       "array([[  0,   7],\n",
       "       [  9, -21]])"
      ]
     },
     "execution_count": 55,
     "metadata": {},
     "output_type": "execute_result"
    }
   ],
   "source": [
    "arr3d[1, ::2, ::2]"
   ]
  },
  {
   "cell_type": "code",
   "execution_count": 56,
   "id": "c6522f1a-12d2-4532-a556-4d5b9c0f4d47",
   "metadata": {},
   "outputs": [
    {
     "data": {
      "text/plain": [
       "array([[[  2,   4,  -5],\n",
       "        [ -2,   5,   7],\n",
       "        [  1,   2,   3]],\n",
       "\n",
       "       [[  0,   9,   7],\n",
       "        [-50,  12,  44],\n",
       "        [  9,  17, -21]],\n",
       "\n",
       "       [[ -7,  14,   7],\n",
       "        [ -2,   6,   4],\n",
       "        [  5,   3,   1]]])"
      ]
     },
     "execution_count": 56,
     "metadata": {},
     "output_type": "execute_result"
    }
   ],
   "source": [
    "arr3d"
   ]
  },
  {
   "cell_type": "code",
   "execution_count": 57,
   "id": "5ae4ae93-4258-4498-88ef-6553ed98e1ad",
   "metadata": {},
   "outputs": [],
   "source": [
    "arr3d[:, :, 1] = 7"
   ]
  },
  {
   "cell_type": "code",
   "execution_count": 58,
   "id": "e7830e0a-ca21-42a2-91db-2caa04f51e99",
   "metadata": {},
   "outputs": [
    {
     "data": {
      "text/plain": [
       "array([[[  2,   7,  -5],\n",
       "        [ -2,   7,   7],\n",
       "        [  1,   7,   3]],\n",
       "\n",
       "       [[  0,   7,   7],\n",
       "        [-50,   7,  44],\n",
       "        [  9,   7, -21]],\n",
       "\n",
       "       [[ -7,   7,   7],\n",
       "        [ -2,   7,   4],\n",
       "        [  5,   7,   1]]])"
      ]
     },
     "execution_count": 58,
     "metadata": {},
     "output_type": "execute_result"
    }
   ],
   "source": [
    "arr3d"
   ]
  },
  {
   "cell_type": "markdown",
   "id": "e3cb805d-1aab-43a1-afaf-9006e34a0d7e",
   "metadata": {},
   "source": [
    "# Create filled arrays"
   ]
  },
  {
   "cell_type": "code",
   "execution_count": 59,
   "id": "93cfa723-4108-4df9-b2f9-46f82024db02",
   "metadata": {},
   "outputs": [
    {
     "data": {
      "text/plain": [
       "array([0., 0., 0., 0., 0., 0., 0., 0., 0., 0.])"
      ]
     },
     "execution_count": 59,
     "metadata": {},
     "output_type": "execute_result"
    }
   ],
   "source": [
    "np.zeros(10)"
   ]
  },
  {
   "cell_type": "code",
   "execution_count": 60,
   "id": "a1f95ae0-aea2-4749-8269-3896bfd28554",
   "metadata": {},
   "outputs": [
    {
     "data": {
      "text/plain": [
       "array([[0., 0., 0., 0., 0.],\n",
       "       [0., 0., 0., 0., 0.],\n",
       "       [0., 0., 0., 0., 0.]])"
      ]
     },
     "execution_count": 60,
     "metadata": {},
     "output_type": "execute_result"
    }
   ],
   "source": [
    "np.zeros((3, 5))"
   ]
  },
  {
   "cell_type": "code",
   "execution_count": 61,
   "id": "2acd64a5-dca4-47d8-967b-e43edcab1cb7",
   "metadata": {},
   "outputs": [
    {
     "data": {
      "text/plain": [
       "array([[['1', '1', '1', '1', '1'],\n",
       "        ['1', '1', '1', '1', '1'],\n",
       "        ['1', '1', '1', '1', '1']],\n",
       "\n",
       "       [['1', '1', '1', '1', '1'],\n",
       "        ['1', '1', '1', '1', '1'],\n",
       "        ['1', '1', '1', '1', '1']]], dtype='<U32')"
      ]
     },
     "execution_count": 61,
     "metadata": {},
     "output_type": "execute_result"
    }
   ],
   "source": [
    "np.ones((2, 3, 5), dtype='<U32')"
   ]
  },
  {
   "cell_type": "code",
   "execution_count": 62,
   "id": "cd467fe7-97f2-4481-93c2-6b6b4c1fda8a",
   "metadata": {},
   "outputs": [
    {
     "data": {
      "text/plain": [
       "array([[[[3.14159265, 3.14159265, 3.14159265, 3.14159265],\n",
       "         [3.14159265, 3.14159265, 3.14159265, 3.14159265],\n",
       "         [3.14159265, 3.14159265, 3.14159265, 3.14159265]],\n",
       "\n",
       "        [[3.14159265, 3.14159265, 3.14159265, 3.14159265],\n",
       "         [3.14159265, 3.14159265, 3.14159265, 3.14159265],\n",
       "         [3.14159265, 3.14159265, 3.14159265, 3.14159265]]],\n",
       "\n",
       "\n",
       "       [[[3.14159265, 3.14159265, 3.14159265, 3.14159265],\n",
       "         [3.14159265, 3.14159265, 3.14159265, 3.14159265],\n",
       "         [3.14159265, 3.14159265, 3.14159265, 3.14159265]],\n",
       "\n",
       "        [[3.14159265, 3.14159265, 3.14159265, 3.14159265],\n",
       "         [3.14159265, 3.14159265, 3.14159265, 3.14159265],\n",
       "         [3.14159265, 3.14159265, 3.14159265, 3.14159265]]],\n",
       "\n",
       "\n",
       "       [[[3.14159265, 3.14159265, 3.14159265, 3.14159265],\n",
       "         [3.14159265, 3.14159265, 3.14159265, 3.14159265],\n",
       "         [3.14159265, 3.14159265, 3.14159265, 3.14159265]],\n",
       "\n",
       "        [[3.14159265, 3.14159265, 3.14159265, 3.14159265],\n",
       "         [3.14159265, 3.14159265, 3.14159265, 3.14159265],\n",
       "         [3.14159265, 3.14159265, 3.14159265, 3.14159265]]]])"
      ]
     },
     "execution_count": 62,
     "metadata": {},
     "output_type": "execute_result"
    }
   ],
   "source": [
    "np.full((3, 2, 3, 4), np.pi)"
   ]
  },
  {
   "cell_type": "code",
   "execution_count": 63,
   "id": "8874d043-2714-4cd5-b220-b4dfbed79f4f",
   "metadata": {},
   "outputs": [
    {
     "data": {
      "text/plain": [
       "array([[1., 0., 0., 0., 0.],\n",
       "       [0., 1., 0., 0., 0.],\n",
       "       [0., 0., 1., 0., 0.],\n",
       "       [0., 0., 0., 1., 0.],\n",
       "       [0., 0., 0., 0., 1.]])"
      ]
     },
     "execution_count": 63,
     "metadata": {},
     "output_type": "execute_result"
    }
   ],
   "source": [
    "np.eye(5)"
   ]
  },
  {
   "cell_type": "code",
   "execution_count": 64,
   "id": "e60bd79b-6176-437c-be54-8d636ada7b4d",
   "metadata": {},
   "outputs": [
    {
     "data": {
      "text/plain": [
       "array([[1., 0., 0., 0.],\n",
       "       [0., 1., 0., 0.]])"
      ]
     },
     "execution_count": 64,
     "metadata": {},
     "output_type": "execute_result"
    }
   ],
   "source": [
    "np.eye(2, 4)"
   ]
  },
  {
   "cell_type": "code",
   "execution_count": 65,
   "id": "b6dbb7ba-45ad-4327-9857-014d0f33e355",
   "metadata": {},
   "outputs": [
    {
     "data": {
      "text/plain": [
       "array([[1., 0., 0., 0., 0.],\n",
       "       [1., 1., 0., 0., 0.],\n",
       "       [1., 1., 1., 0., 0.],\n",
       "       [1., 1., 1., 1., 0.],\n",
       "       [1., 1., 1., 1., 1.]])"
      ]
     },
     "execution_count": 65,
     "metadata": {},
     "output_type": "execute_result"
    }
   ],
   "source": [
    "np.tri(5)"
   ]
  },
  {
   "cell_type": "code",
   "execution_count": 66,
   "id": "6b1f13c3-11b2-4153-9c87-16fff80ea93b",
   "metadata": {},
   "outputs": [
    {
     "data": {
      "text/plain": [
       "array([[[  2,   7,  -5],\n",
       "        [ -2,   7,   7],\n",
       "        [  1,   7,   3]],\n",
       "\n",
       "       [[  0,   7,   7],\n",
       "        [-50,   7,  44],\n",
       "        [  9,   7, -21]],\n",
       "\n",
       "       [[ -7,   7,   7],\n",
       "        [ -2,   7,   4],\n",
       "        [  5,   7,   1]]])"
      ]
     },
     "execution_count": 66,
     "metadata": {},
     "output_type": "execute_result"
    }
   ],
   "source": [
    "arr3d"
   ]
  },
  {
   "cell_type": "code",
   "execution_count": 67,
   "id": "bce3a2d6-0959-4dbb-ab1f-75ad112a6fd8",
   "metadata": {},
   "outputs": [
    {
     "data": {
      "text/plain": [
       "array([[[0, 0, 0],\n",
       "        [0, 0, 0],\n",
       "        [0, 0, 0]],\n",
       "\n",
       "       [[0, 0, 0],\n",
       "        [0, 0, 0],\n",
       "        [0, 0, 0]],\n",
       "\n",
       "       [[0, 0, 0],\n",
       "        [0, 0, 0],\n",
       "        [0, 0, 0]]])"
      ]
     },
     "execution_count": 67,
     "metadata": {},
     "output_type": "execute_result"
    }
   ],
   "source": [
    "np.zeros_like(arr3d)"
   ]
  },
  {
   "cell_type": "code",
   "execution_count": 68,
   "id": "f13de471-2ede-489d-931e-dc23df96577e",
   "metadata": {},
   "outputs": [
    {
     "data": {
      "text/plain": [
       "array([[-999, -999],\n",
       "       [-999, -999],\n",
       "       [-999, -999]])"
      ]
     },
     "execution_count": 68,
     "metadata": {},
     "output_type": "execute_result"
    }
   ],
   "source": [
    "np.full_like(arr2d, -999)"
   ]
  },
  {
   "cell_type": "markdown",
   "id": "5d873c8a-e1c5-4368-aa22-f40ebad60914",
   "metadata": {},
   "source": [
    "# Range, linspace"
   ]
  },
  {
   "cell_type": "code",
   "execution_count": 69,
   "id": "eec1aebb-b9ba-4535-869e-00778fccb5eb",
   "metadata": {},
   "outputs": [
    {
     "data": {
      "text/plain": [
       "range(1, 100, 3)"
      ]
     },
     "execution_count": 69,
     "metadata": {},
     "output_type": "execute_result"
    }
   ],
   "source": [
    "range(1, 100, 3)"
   ]
  },
  {
   "cell_type": "code",
   "execution_count": 70,
   "id": "def4e11a-9fbb-472b-ad88-79e8205b1065",
   "metadata": {},
   "outputs": [
    {
     "data": {
      "text/plain": [
       "array([ 1,  4,  7, 10, 13, 16, 19, 22, 25, 28, 31, 34, 37, 40, 43, 46, 49,\n",
       "       52, 55, 58, 61, 64, 67, 70, 73, 76, 79, 82, 85, 88, 91, 94, 97])"
      ]
     },
     "execution_count": 70,
     "metadata": {},
     "output_type": "execute_result"
    }
   ],
   "source": [
    "np.arange(1, 100, 3)"
   ]
  },
  {
   "cell_type": "code",
   "execution_count": 71,
   "id": "50eca48d-ad05-4902-a52e-4867004df75b",
   "metadata": {},
   "outputs": [
    {
     "data": {
      "text/plain": [
       "array([-20, -19, -18, -17, -16, -15, -14, -13, -12, -11, -10,  -9,  -8,\n",
       "        -7,  -6,  -5,  -4,  -3,  -2,  -1,   0,   1,   2,   3,   4,   5,\n",
       "         6,   7,   8,   9,  10,  11,  12,  13,  14,  15,  16,  17,  18,\n",
       "        19], dtype=int8)"
      ]
     },
     "execution_count": 71,
     "metadata": {},
     "output_type": "execute_result"
    }
   ],
   "source": [
    "np.arange(-20, 20, dtype='int8')"
   ]
  },
  {
   "cell_type": "code",
   "execution_count": 72,
   "id": "a55521d5-0013-4f9d-b4af-e131632b6342",
   "metadata": {},
   "outputs": [
    {
     "data": {
      "text/plain": [
       "array([ 0. ,  2.5,  5. ,  7.5, 10. ])"
      ]
     },
     "execution_count": 72,
     "metadata": {},
     "output_type": "execute_result"
    }
   ],
   "source": [
    "np.linspace(0, 10, 5)"
   ]
  },
  {
   "cell_type": "code",
   "execution_count": 73,
   "id": "078b1063-708d-4c9a-91eb-43707d0e6bf1",
   "metadata": {},
   "outputs": [
    {
     "data": {
      "text/plain": [
       "array([-1.        , -0.97979798, -0.95959596, -0.93939394, -0.91919192,\n",
       "       -0.8989899 , -0.87878788, -0.85858586, -0.83838384, -0.81818182,\n",
       "       -0.7979798 , -0.77777778, -0.75757576, -0.73737374, -0.71717172,\n",
       "       -0.6969697 , -0.67676768, -0.65656566, -0.63636364, -0.61616162,\n",
       "       -0.5959596 , -0.57575758, -0.55555556, -0.53535354, -0.51515152,\n",
       "       -0.49494949, -0.47474747, -0.45454545, -0.43434343, -0.41414141,\n",
       "       -0.39393939, -0.37373737, -0.35353535, -0.33333333, -0.31313131,\n",
       "       -0.29292929, -0.27272727, -0.25252525, -0.23232323, -0.21212121,\n",
       "       -0.19191919, -0.17171717, -0.15151515, -0.13131313, -0.11111111,\n",
       "       -0.09090909, -0.07070707, -0.05050505, -0.03030303, -0.01010101,\n",
       "        0.01010101,  0.03030303,  0.05050505,  0.07070707,  0.09090909,\n",
       "        0.11111111,  0.13131313,  0.15151515,  0.17171717,  0.19191919,\n",
       "        0.21212121,  0.23232323,  0.25252525,  0.27272727,  0.29292929,\n",
       "        0.31313131,  0.33333333,  0.35353535,  0.37373737,  0.39393939,\n",
       "        0.41414141,  0.43434343,  0.45454545,  0.47474747,  0.49494949,\n",
       "        0.51515152,  0.53535354,  0.55555556,  0.57575758,  0.5959596 ,\n",
       "        0.61616162,  0.63636364,  0.65656566,  0.67676768,  0.6969697 ,\n",
       "        0.71717172,  0.73737374,  0.75757576,  0.77777778,  0.7979798 ,\n",
       "        0.81818182,  0.83838384,  0.85858586,  0.87878788,  0.8989899 ,\n",
       "        0.91919192,  0.93939394,  0.95959596,  0.97979798,  1.        ])"
      ]
     },
     "execution_count": 73,
     "metadata": {},
     "output_type": "execute_result"
    }
   ],
   "source": [
    "np.linspace(-1, 1, 100)"
   ]
  },
  {
   "cell_type": "code",
   "execution_count": 74,
   "id": "4f47eecd-6180-4ad7-acaa-5529989d2614",
   "metadata": {},
   "outputs": [
    {
     "data": {
      "text/plain": [
       "array([[-5.        ,  0.        ],\n",
       "       [-3.88888889,  2.22222222],\n",
       "       [-2.77777778,  4.44444444],\n",
       "       [-1.66666667,  6.66666667],\n",
       "       [-0.55555556,  8.88888889],\n",
       "       [ 0.55555556, 11.11111111],\n",
       "       [ 1.66666667, 13.33333333],\n",
       "       [ 2.77777778, 15.55555556],\n",
       "       [ 3.88888889, 17.77777778],\n",
       "       [ 5.        , 20.        ]])"
      ]
     },
     "execution_count": 74,
     "metadata": {},
     "output_type": "execute_result"
    }
   ],
   "source": [
    "np.linspace([-5, 0], [5, 20], 10)"
   ]
  },
  {
   "cell_type": "markdown",
   "id": "000a6e49-d625-4ff2-a4b2-090b8fcfa65b",
   "metadata": {},
   "source": [
    "# Reshape"
   ]
  },
  {
   "cell_type": "code",
   "execution_count": 75,
   "id": "28683c9a-8b03-41cd-bc20-dafc4ab01ede",
   "metadata": {},
   "outputs": [
    {
     "data": {
      "text/plain": [
       "array([0, 1, 2, 3, 4, 5, 6, 7, 8])"
      ]
     },
     "execution_count": 75,
     "metadata": {},
     "output_type": "execute_result"
    }
   ],
   "source": [
    "arr = np.arange(9)\n",
    "arr"
   ]
  },
  {
   "cell_type": "code",
   "execution_count": 76,
   "id": "45a14669-afd4-4541-a405-6a3f86028bbf",
   "metadata": {},
   "outputs": [],
   "source": [
    "arr2d = arr.reshape(3, 3)"
   ]
  },
  {
   "cell_type": "code",
   "execution_count": 77,
   "id": "a307a636-14b3-4b34-8d95-fba4c37a6ef5",
   "metadata": {},
   "outputs": [
    {
     "data": {
      "text/plain": [
       "array([[0, 1, 2],\n",
       "       [3, 4, 5],\n",
       "       [6, 7, 8]])"
      ]
     },
     "execution_count": 77,
     "metadata": {},
     "output_type": "execute_result"
    }
   ],
   "source": [
    "arr2d"
   ]
  },
  {
   "cell_type": "code",
   "execution_count": 78,
   "id": "601d5928-6e88-422e-adb4-e6a63abe1a95",
   "metadata": {},
   "outputs": [],
   "source": [
    "arr2d[1, 1] = 111"
   ]
  },
  {
   "cell_type": "code",
   "execution_count": 79,
   "id": "3a5f267a-7186-4ba7-8bee-22f495b28741",
   "metadata": {},
   "outputs": [
    {
     "data": {
      "text/plain": [
       "array([[  0,   1,   2],\n",
       "       [  3, 111,   5],\n",
       "       [  6,   7,   8]])"
      ]
     },
     "execution_count": 79,
     "metadata": {},
     "output_type": "execute_result"
    }
   ],
   "source": [
    "arr2d"
   ]
  },
  {
   "cell_type": "code",
   "execution_count": 80,
   "id": "3b6b93ea-da25-4546-80ef-529995e46038",
   "metadata": {},
   "outputs": [
    {
     "data": {
      "text/plain": [
       "array([  0,   1,   2,   3, 111,   5,   6,   7,   8])"
      ]
     },
     "execution_count": 80,
     "metadata": {},
     "output_type": "execute_result"
    }
   ],
   "source": [
    "arr"
   ]
  },
  {
   "cell_type": "code",
   "execution_count": 81,
   "id": "9c0fae8e-d39f-4e02-8962-c6e7c4ab77ed",
   "metadata": {},
   "outputs": [
    {
     "data": {
      "text/plain": [
       "array([  0,   1,   2,   3, 111,   5,   6,   7,   8])"
      ]
     },
     "execution_count": 81,
     "metadata": {},
     "output_type": "execute_result"
    }
   ],
   "source": [
    "arr2d.base"
   ]
  },
  {
   "cell_type": "code",
   "execution_count": 82,
   "id": "7d327c3c-4c0c-4c0f-a5f6-3d9d2600e5b8",
   "metadata": {},
   "outputs": [],
   "source": [
    "arr.base"
   ]
  },
  {
   "cell_type": "code",
   "execution_count": 83,
   "id": "2e4a88ed-f837-4f60-897b-4a6906a29b3a",
   "metadata": {},
   "outputs": [
    {
     "data": {
      "text/plain": [
       "array([[[-10.        ,  -9.42857143,  -8.85714286],\n",
       "        [ -8.28571429,  -7.71428571,  -7.14285714],\n",
       "        [ -6.57142857,  -6.        ,  -5.42857143],\n",
       "        [ -4.85714286,  -4.28571429,  -3.71428571]],\n",
       "\n",
       "       [[ -3.14285714,  -2.57142857,  -2.        ],\n",
       "        [ -1.42857143,  -0.85714286,  -0.28571429],\n",
       "        [  0.28571429,   0.85714286,   1.42857143],\n",
       "        [  2.        ,   2.57142857,   3.14285714]],\n",
       "\n",
       "       [[  3.71428571,   4.28571429,   4.85714286],\n",
       "        [  5.42857143,   6.        ,   6.57142857],\n",
       "        [  7.14285714,   7.71428571,   8.28571429],\n",
       "        [  8.85714286,   9.42857143,  10.        ]]])"
      ]
     },
     "execution_count": 83,
     "metadata": {},
     "output_type": "execute_result"
    }
   ],
   "source": [
    "arr3d = np.linspace(-10, 10, 36).reshape(3, 4, 3)\n",
    "arr3d"
   ]
  },
  {
   "cell_type": "code",
   "execution_count": 84,
   "id": "6a6b5891-b096-4bd5-a549-7865146d4b84",
   "metadata": {},
   "outputs": [
    {
     "data": {
      "text/plain": [
       "array([-10.        ,  -9.42857143,  -8.85714286,  -8.28571429,\n",
       "        -7.71428571,  -7.14285714,  -6.57142857,  -6.        ,\n",
       "        -5.42857143,  -4.85714286,  -4.28571429,  -3.71428571,\n",
       "        -3.14285714,  -2.57142857,  -2.        ,  -1.42857143,\n",
       "        -0.85714286,  -0.28571429,   0.28571429,   0.85714286,\n",
       "         1.42857143,   2.        ,   2.57142857,   3.14285714,\n",
       "         3.71428571,   4.28571429,   4.85714286,   5.42857143,\n",
       "         6.        ,   6.57142857,   7.14285714,   7.71428571,\n",
       "         8.28571429,   8.85714286,   9.42857143,  10.        ])"
      ]
     },
     "execution_count": 84,
     "metadata": {},
     "output_type": "execute_result"
    }
   ],
   "source": [
    "arr3d.base"
   ]
  },
  {
   "cell_type": "code",
   "execution_count": 85,
   "id": "46bca4f8-4cf5-4c47-ad73-4df9a082f30d",
   "metadata": {},
   "outputs": [
    {
     "data": {
      "text/plain": [
       "216"
      ]
     },
     "execution_count": 85,
     "metadata": {},
     "output_type": "execute_result"
    }
   ],
   "source": [
    "3*2*4*3*3"
   ]
  },
  {
   "cell_type": "code",
   "execution_count": 86,
   "id": "298b5442-5ea7-4431-8c5b-f949566a4cda",
   "metadata": {},
   "outputs": [
    {
     "data": {
      "text/plain": [
       "72"
      ]
     },
     "execution_count": 86,
     "metadata": {},
     "output_type": "execute_result"
    }
   ],
   "source": [
    "3*2*3*4"
   ]
  },
  {
   "cell_type": "code",
   "execution_count": 87,
   "id": "2a601d56-ddc8-4ee2-a50a-1e1506dbf38a",
   "metadata": {},
   "outputs": [
    {
     "data": {
      "text/plain": [
       "3.0"
      ]
     },
     "execution_count": 87,
     "metadata": {},
     "output_type": "execute_result"
    }
   ],
   "source": [
    "216 / 72"
   ]
  },
  {
   "cell_type": "code",
   "execution_count": 88,
   "id": "29da9040-18f7-4732-b160-074f50328e2e",
   "metadata": {},
   "outputs": [
    {
     "data": {
      "text/plain": [
       "array([[[[[  0,   1,   2,   3],\n",
       "          [  4,   5,   6,   7],\n",
       "          [  8,   9,  10,  11]],\n",
       "\n",
       "         [[ 12,  13,  14,  15],\n",
       "          [ 16,  17,  18,  19],\n",
       "          [ 20,  21,  22,  23]],\n",
       "\n",
       "         [[ 24,  25,  26,  27],\n",
       "          [ 28,  29,  30,  31],\n",
       "          [ 32,  33,  34,  35]]],\n",
       "\n",
       "\n",
       "        [[[ 36,  37,  38,  39],\n",
       "          [ 40,  41,  42,  43],\n",
       "          [ 44,  45,  46,  47]],\n",
       "\n",
       "         [[ 48,  49,  50,  51],\n",
       "          [ 52,  53,  54,  55],\n",
       "          [ 56,  57,  58,  59]],\n",
       "\n",
       "         [[ 60,  61,  62,  63],\n",
       "          [ 64,  65,  66,  67],\n",
       "          [ 68,  69,  70,  71]]]],\n",
       "\n",
       "\n",
       "\n",
       "       [[[[ 72,  73,  74,  75],\n",
       "          [ 76,  77,  78,  79],\n",
       "          [ 80,  81,  82,  83]],\n",
       "\n",
       "         [[ 84,  85,  86,  87],\n",
       "          [ 88,  89,  90,  91],\n",
       "          [ 92,  93,  94,  95]],\n",
       "\n",
       "         [[ 96,  97,  98,  99],\n",
       "          [100, 101, 102, 103],\n",
       "          [104, 105, 106, 107]]],\n",
       "\n",
       "\n",
       "        [[[108, 109, 110, 111],\n",
       "          [112, 113, 114, 115],\n",
       "          [116, 117, 118, 119]],\n",
       "\n",
       "         [[120, 121, 122, 123],\n",
       "          [124, 125, 126, 127],\n",
       "          [128, 129, 130, 131]],\n",
       "\n",
       "         [[132, 133, 134, 135],\n",
       "          [136, 137, 138, 139],\n",
       "          [140, 141, 142, 143]]]],\n",
       "\n",
       "\n",
       "\n",
       "       [[[[144, 145, 146, 147],\n",
       "          [148, 149, 150, 151],\n",
       "          [152, 153, 154, 155]],\n",
       "\n",
       "         [[156, 157, 158, 159],\n",
       "          [160, 161, 162, 163],\n",
       "          [164, 165, 166, 167]],\n",
       "\n",
       "         [[168, 169, 170, 171],\n",
       "          [172, 173, 174, 175],\n",
       "          [176, 177, 178, 179]]],\n",
       "\n",
       "\n",
       "        [[[180, 181, 182, 183],\n",
       "          [184, 185, 186, 187],\n",
       "          [188, 189, 190, 191]],\n",
       "\n",
       "         [[192, 193, 194, 195],\n",
       "          [196, 197, 198, 199],\n",
       "          [200, 201, 202, 203]],\n",
       "\n",
       "         [[204, 205, 206, 207],\n",
       "          [208, 209, 210, 211],\n",
       "          [212, 213, 214, 215]]]]])"
      ]
     },
     "execution_count": 88,
     "metadata": {},
     "output_type": "execute_result"
    }
   ],
   "source": [
    "arr5d = np.arange(216).reshape(3, 2, -1, 3, 4)\n",
    "arr5d"
   ]
  },
  {
   "cell_type": "code",
   "execution_count": 89,
   "id": "86af32ae-96bb-4ebd-81e2-0cc0298ff91d",
   "metadata": {
    "scrolled": true
   },
   "outputs": [
    {
     "data": {
      "text/plain": [
       "array([[[  0,   1,   2,   3],\n",
       "        [  4,   5,   6,   7],\n",
       "        [  8,   9,  10,  11],\n",
       "        [ 12,  13,  14,  15],\n",
       "        [ 16,  17,  18,  19],\n",
       "        [ 20,  21,  22,  23],\n",
       "        [ 24,  25,  26,  27],\n",
       "        [ 28,  29,  30,  31],\n",
       "        [ 32,  33,  34,  35]],\n",
       "\n",
       "       [[ 36,  37,  38,  39],\n",
       "        [ 40,  41,  42,  43],\n",
       "        [ 44,  45,  46,  47],\n",
       "        [ 48,  49,  50,  51],\n",
       "        [ 52,  53,  54,  55],\n",
       "        [ 56,  57,  58,  59],\n",
       "        [ 60,  61,  62,  63],\n",
       "        [ 64,  65,  66,  67],\n",
       "        [ 68,  69,  70,  71]],\n",
       "\n",
       "       [[ 72,  73,  74,  75],\n",
       "        [ 76,  77,  78,  79],\n",
       "        [ 80,  81,  82,  83],\n",
       "        [ 84,  85,  86,  87],\n",
       "        [ 88,  89,  90,  91],\n",
       "        [ 92,  93,  94,  95],\n",
       "        [ 96,  97,  98,  99],\n",
       "        [100, 101, 102, 103],\n",
       "        [104, 105, 106, 107]],\n",
       "\n",
       "       [[108, 109, 110, 111],\n",
       "        [112, 113, 114, 115],\n",
       "        [116, 117, 118, 119],\n",
       "        [120, 121, 122, 123],\n",
       "        [124, 125, 126, 127],\n",
       "        [128, 129, 130, 131],\n",
       "        [132, 133, 134, 135],\n",
       "        [136, 137, 138, 139],\n",
       "        [140, 141, 142, 143]],\n",
       "\n",
       "       [[144, 145, 146, 147],\n",
       "        [148, 149, 150, 151],\n",
       "        [152, 153, 154, 155],\n",
       "        [156, 157, 158, 159],\n",
       "        [160, 161, 162, 163],\n",
       "        [164, 165, 166, 167],\n",
       "        [168, 169, 170, 171],\n",
       "        [172, 173, 174, 175],\n",
       "        [176, 177, 178, 179]],\n",
       "\n",
       "       [[180, 181, 182, 183],\n",
       "        [184, 185, 186, 187],\n",
       "        [188, 189, 190, 191],\n",
       "        [192, 193, 194, 195],\n",
       "        [196, 197, 198, 199],\n",
       "        [200, 201, 202, 203],\n",
       "        [204, 205, 206, 207],\n",
       "        [208, 209, 210, 211],\n",
       "        [212, 213, 214, 215]]])"
      ]
     },
     "execution_count": 89,
     "metadata": {},
     "output_type": "execute_result"
    }
   ],
   "source": [
    "arr5d.reshape(6, -1, 4)"
   ]
  },
  {
   "cell_type": "code",
   "execution_count": 90,
   "id": "054a649d-f052-4a86-80cd-fcd5c633935c",
   "metadata": {},
   "outputs": [
    {
     "data": {
      "text/plain": [
       "array([  0,   1,   2,   3,   4,   5,   6,   7,   8,   9,  10,  11,  12,\n",
       "        13,  14,  15,  16,  17,  18,  19,  20,  21,  22,  23,  24,  25,\n",
       "        26,  27,  28,  29,  30,  31,  32,  33,  34,  35,  36,  37,  38,\n",
       "        39,  40,  41,  42,  43,  44,  45,  46,  47,  48,  49,  50,  51,\n",
       "        52,  53,  54,  55,  56,  57,  58,  59,  60,  61,  62,  63,  64,\n",
       "        65,  66,  67,  68,  69,  70,  71,  72,  73,  74,  75,  76,  77,\n",
       "        78,  79,  80,  81,  82,  83,  84,  85,  86,  87,  88,  89,  90,\n",
       "        91,  92,  93,  94,  95,  96,  97,  98,  99, 100, 101, 102, 103,\n",
       "       104, 105, 106, 107, 108, 109, 110, 111, 112, 113, 114, 115, 116,\n",
       "       117, 118, 119, 120, 121, 122, 123, 124, 125, 126, 127, 128, 129,\n",
       "       130, 131, 132, 133, 134, 135, 136, 137, 138, 139, 140, 141, 142,\n",
       "       143, 144, 145, 146, 147, 148, 149, 150, 151, 152, 153, 154, 155,\n",
       "       156, 157, 158, 159, 160, 161, 162, 163, 164, 165, 166, 167, 168,\n",
       "       169, 170, 171, 172, 173, 174, 175, 176, 177, 178, 179, 180, 181,\n",
       "       182, 183, 184, 185, 186, 187, 188, 189, 190, 191, 192, 193, 194,\n",
       "       195, 196, 197, 198, 199, 200, 201, 202, 203, 204, 205, 206, 207,\n",
       "       208, 209, 210, 211, 212, 213, 214, 215])"
      ]
     },
     "execution_count": 90,
     "metadata": {},
     "output_type": "execute_result"
    }
   ],
   "source": [
    "arr5d.reshape(-1)"
   ]
  },
  {
   "cell_type": "code",
   "execution_count": 91,
   "id": "63ee21bb-9edf-4a20-b1c8-ed221c5b492b",
   "metadata": {},
   "outputs": [
    {
     "data": {
      "text/plain": [
       "array([  0,   1,   2,   3,   4,   5,   6,   7,   8,   9,  10,  11,  12,\n",
       "        13,  14,  15,  16,  17,  18,  19,  20,  21,  22,  23,  24,  25,\n",
       "        26,  27,  28,  29,  30,  31,  32,  33,  34,  35,  36,  37,  38,\n",
       "        39,  40,  41,  42,  43,  44,  45,  46,  47,  48,  49,  50,  51,\n",
       "        52,  53,  54,  55,  56,  57,  58,  59,  60,  61,  62,  63,  64,\n",
       "        65,  66,  67,  68,  69,  70,  71,  72,  73,  74,  75,  76,  77,\n",
       "        78,  79,  80,  81,  82,  83,  84,  85,  86,  87,  88,  89,  90,\n",
       "        91,  92,  93,  94,  95,  96,  97,  98,  99, 100, 101, 102, 103,\n",
       "       104, 105, 106, 107, 108, 109, 110, 111, 112, 113, 114, 115, 116,\n",
       "       117, 118, 119, 120, 121, 122, 123, 124, 125, 126, 127, 128, 129,\n",
       "       130, 131, 132, 133, 134, 135, 136, 137, 138, 139, 140, 141, 142,\n",
       "       143, 144, 145, 146, 147, 148, 149, 150, 151, 152, 153, 154, 155,\n",
       "       156, 157, 158, 159, 160, 161, 162, 163, 164, 165, 166, 167, 168,\n",
       "       169, 170, 171, 172, 173, 174, 175, 176, 177, 178, 179, 180, 181,\n",
       "       182, 183, 184, 185, 186, 187, 188, 189, 190, 191, 192, 193, 194,\n",
       "       195, 196, 197, 198, 199, 200, 201, 202, 203, 204, 205, 206, 207,\n",
       "       208, 209, 210, 211, 212, 213, 214, 215])"
      ]
     },
     "execution_count": 91,
     "metadata": {},
     "output_type": "execute_result"
    }
   ],
   "source": [
    "arr5d.flatten()"
   ]
  },
  {
   "cell_type": "code",
   "execution_count": 92,
   "id": "8ebca973-3d77-421b-b07c-06a1a9ccd337",
   "metadata": {},
   "outputs": [
    {
     "data": {
      "text/plain": [
       "array([[ 0,  1,  2,  3],\n",
       "       [ 4,  5,  6,  7],\n",
       "       [ 8,  9, 10, 11]])"
      ]
     },
     "execution_count": 92,
     "metadata": {},
     "output_type": "execute_result"
    }
   ],
   "source": [
    "arr2d = np.arange(12).reshape(3, 4)\n",
    "arr2d"
   ]
  },
  {
   "cell_type": "code",
   "execution_count": 93,
   "id": "18d42354-9876-4bab-a967-6c6e4c07c756",
   "metadata": {},
   "outputs": [
    {
     "data": {
      "text/plain": [
       "array([[ 0,  4,  8],\n",
       "       [ 1,  5,  9],\n",
       "       [ 2,  6, 10],\n",
       "       [ 3,  7, 11]])"
      ]
     },
     "execution_count": 93,
     "metadata": {},
     "output_type": "execute_result"
    }
   ],
   "source": [
    "arr2d.T"
   ]
  },
  {
   "cell_type": "markdown",
   "id": "afeb8ac2-1106-416b-a359-06bd71151696",
   "metadata": {},
   "source": [
    "# Computation, vectorization"
   ]
  },
  {
   "cell_type": "code",
   "execution_count": 94,
   "id": "43d5534a-4fe9-4598-afb1-366b7189029c",
   "metadata": {},
   "outputs": [],
   "source": [
    "lst = [1, 2, 3]\n",
    "arr = np.array([1, 2, 3])"
   ]
  },
  {
   "cell_type": "code",
   "execution_count": 95,
   "id": "c61f8e00-425e-474a-b0ce-754bb7c077a8",
   "metadata": {},
   "outputs": [
    {
     "data": {
      "text/plain": [
       "[1, 2, 3, 1, 2, 3]"
      ]
     },
     "execution_count": 95,
     "metadata": {},
     "output_type": "execute_result"
    }
   ],
   "source": [
    "lst * 2"
   ]
  },
  {
   "cell_type": "code",
   "execution_count": 96,
   "id": "1f280cbd-4f43-4dba-b679-fc83e96c3fc5",
   "metadata": {},
   "outputs": [
    {
     "data": {
      "text/plain": [
       "array([2, 4, 6])"
      ]
     },
     "execution_count": 96,
     "metadata": {},
     "output_type": "execute_result"
    }
   ],
   "source": [
    "arr * 2"
   ]
  },
  {
   "cell_type": "code",
   "execution_count": 97,
   "id": "16d63a55-a3c5-4022-8df6-83cd1b20ce38",
   "metadata": {},
   "outputs": [
    {
     "data": {
      "text/plain": [
       "array([-1, -2, -3])"
      ]
     },
     "execution_count": 97,
     "metadata": {},
     "output_type": "execute_result"
    }
   ],
   "source": [
    "-arr"
   ]
  },
  {
   "cell_type": "code",
   "execution_count": 98,
   "id": "88cdbbc2-882f-4c05-8ac2-e3e091a81700",
   "metadata": {},
   "outputs": [
    {
     "data": {
      "text/plain": [
       "array([1, 4, 9])"
      ]
     },
     "execution_count": 98,
     "metadata": {},
     "output_type": "execute_result"
    }
   ],
   "source": [
    "arr ** 2"
   ]
  },
  {
   "cell_type": "code",
   "execution_count": 99,
   "id": "8cf59fd8-bd1a-417e-8c67-84edc1163029",
   "metadata": {},
   "outputs": [
    {
     "data": {
      "text/plain": [
       "array([1, 0, 1], dtype=int32)"
      ]
     },
     "execution_count": 99,
     "metadata": {},
     "output_type": "execute_result"
    }
   ],
   "source": [
    "arr % 2"
   ]
  },
  {
   "cell_type": "code",
   "execution_count": 100,
   "id": "45d9131d-5150-4842-ba3b-6de5861440d5",
   "metadata": {},
   "outputs": [],
   "source": [
    "arr2 = np.array([-2, 4, 7])"
   ]
  },
  {
   "cell_type": "code",
   "execution_count": 101,
   "id": "56455e2e-fce4-4e0e-b127-ca24295cfd53",
   "metadata": {},
   "outputs": [
    {
     "data": {
      "text/plain": [
       "array([1, 2, 3])"
      ]
     },
     "execution_count": 101,
     "metadata": {},
     "output_type": "execute_result"
    }
   ],
   "source": [
    "arr"
   ]
  },
  {
   "cell_type": "code",
   "execution_count": 102,
   "id": "f2845fea-7636-4a4c-9c48-eb856b8ef353",
   "metadata": {},
   "outputs": [
    {
     "data": {
      "text/plain": [
       "array([-1,  6, 10])"
      ]
     },
     "execution_count": 102,
     "metadata": {},
     "output_type": "execute_result"
    }
   ],
   "source": [
    "arr + arr2"
   ]
  },
  {
   "cell_type": "code",
   "execution_count": 103,
   "id": "a02ef4b9-92b1-434d-a759-d1551002448c",
   "metadata": {},
   "outputs": [
    {
     "data": {
      "text/plain": [
       "array([ 2, 15, 79], dtype=int32)"
      ]
     },
     "execution_count": 103,
     "metadata": {},
     "output_type": "execute_result"
    }
   ],
   "source": [
    "arr ** 4 - arr2 // 3"
   ]
  },
  {
   "cell_type": "code",
   "execution_count": 104,
   "id": "595fc56f-ed9f-4afa-9122-b055880a7427",
   "metadata": {},
   "outputs": [],
   "source": [
    "a = np.array([100])"
   ]
  },
  {
   "cell_type": "code",
   "execution_count": 105,
   "id": "2e9489c1-8ce5-4ff4-9dc5-91007c9d6b63",
   "metadata": {},
   "outputs": [
    {
     "data": {
      "text/plain": [
       "array([101, 102, 103])"
      ]
     },
     "execution_count": 105,
     "metadata": {},
     "output_type": "execute_result"
    }
   ],
   "source": [
    "arr + a"
   ]
  },
  {
   "cell_type": "code",
   "execution_count": 106,
   "id": "458470e8-59df-43d2-b5c9-d91245eacf99",
   "metadata": {},
   "outputs": [
    {
     "data": {
      "text/plain": [
       "array([4, 5, 6])"
      ]
     },
     "execution_count": 106,
     "metadata": {},
     "output_type": "execute_result"
    }
   ],
   "source": [
    "arr += 3\n",
    "arr"
   ]
  },
  {
   "cell_type": "code",
   "execution_count": 107,
   "id": "3cf8f6c8-8b3b-4a1a-a876-1ee0ed591efb",
   "metadata": {},
   "outputs": [],
   "source": [
    "arr1 = np.arange(9).reshape(3, 3)\n",
    "arr2 = np.arange(-5, 13, 2).reshape(3, 3)"
   ]
  },
  {
   "cell_type": "code",
   "execution_count": 108,
   "id": "adc91acc-6a8c-4832-8592-2ea7b79eada8",
   "metadata": {},
   "outputs": [
    {
     "data": {
      "text/plain": [
       "array([[0, 1, 2],\n",
       "       [3, 4, 5],\n",
       "       [6, 7, 8]])"
      ]
     },
     "execution_count": 108,
     "metadata": {},
     "output_type": "execute_result"
    }
   ],
   "source": [
    "arr1"
   ]
  },
  {
   "cell_type": "code",
   "execution_count": 109,
   "id": "bae4b712-70c0-43e6-95e1-a10dd2cf3b0d",
   "metadata": {},
   "outputs": [
    {
     "data": {
      "text/plain": [
       "array([[-5, -3, -1],\n",
       "       [ 1,  3,  5],\n",
       "       [ 7,  9, 11]])"
      ]
     },
     "execution_count": 109,
     "metadata": {},
     "output_type": "execute_result"
    }
   ],
   "source": [
    "arr2"
   ]
  },
  {
   "cell_type": "code",
   "execution_count": 110,
   "id": "91527722-3e33-4f70-b892-54725c1a1840",
   "metadata": {},
   "outputs": [
    {
     "data": {
      "text/plain": [
       "array([[ 0, -3, -2],\n",
       "       [ 3, 12, 25],\n",
       "       [42, 63, 88]])"
      ]
     },
     "execution_count": 110,
     "metadata": {},
     "output_type": "execute_result"
    }
   ],
   "source": [
    "arr1 * arr2"
   ]
  },
  {
   "cell_type": "markdown",
   "id": "ff247fc3-0cf0-417f-bfec-cd81351f6424",
   "metadata": {},
   "source": [
    "# Inf, NaN"
   ]
  },
  {
   "cell_type": "code",
   "execution_count": 111,
   "id": "2ef8995f-bd4d-45e3-bc14-7d403142d417",
   "metadata": {},
   "outputs": [
    {
     "ename": "ZeroDivisionError",
     "evalue": "division by zero",
     "output_type": "error",
     "traceback": [
      "\u001b[1;31m---------------------------------------------------------------------------\u001b[0m",
      "\u001b[1;31mZeroDivisionError\u001b[0m                         Traceback (most recent call last)",
      "Cell \u001b[1;32mIn[111], line 1\u001b[0m\n\u001b[1;32m----> 1\u001b[0m \u001b[38;5;241;43m1\u001b[39;49m\u001b[43m \u001b[49m\u001b[38;5;241;43m/\u001b[39;49m\u001b[43m \u001b[49m\u001b[38;5;241;43m0\u001b[39;49m\n",
      "\u001b[1;31mZeroDivisionError\u001b[0m: division by zero"
     ]
    }
   ],
   "source": [
    "1 / 0"
   ]
  },
  {
   "cell_type": "code",
   "execution_count": 112,
   "id": "3f0ba8e7-7409-403c-93fe-7f9a4b0645e1",
   "metadata": {},
   "outputs": [
    {
     "name": "stderr",
     "output_type": "stream",
     "text": [
      "C:\\Users\\USER\\AppData\\Local\\Temp\\ipykernel_12844\\791203568.py:2: RuntimeWarning: divide by zero encountered in divide\n",
      "  a / 0\n"
     ]
    },
    {
     "data": {
      "text/plain": [
       "array([inf, inf, inf, inf])"
      ]
     },
     "execution_count": 112,
     "metadata": {},
     "output_type": "execute_result"
    }
   ],
   "source": [
    "a = np.array([1, 2, 3, 4])\n",
    "a / 0"
   ]
  },
  {
   "cell_type": "code",
   "execution_count": 113,
   "id": "5cf6d02f-4fba-4491-9722-be28cc78982d",
   "metadata": {},
   "outputs": [
    {
     "data": {
      "text/plain": [
       "float"
      ]
     },
     "execution_count": 113,
     "metadata": {},
     "output_type": "execute_result"
    }
   ],
   "source": [
    "type(np.inf)"
   ]
  },
  {
   "cell_type": "code",
   "execution_count": 114,
   "id": "1dea9c34-3bf6-4baf-ae4d-d25536863c07",
   "metadata": {},
   "outputs": [
    {
     "data": {
      "text/plain": [
       "inf"
      ]
     },
     "execution_count": 114,
     "metadata": {},
     "output_type": "execute_result"
    }
   ],
   "source": [
    "np.inf + 10000000000000000000000"
   ]
  },
  {
   "cell_type": "code",
   "execution_count": 115,
   "id": "66b89db1-c597-476f-a1c3-f43dc46ce793",
   "metadata": {},
   "outputs": [
    {
     "data": {
      "text/plain": [
       "inf"
      ]
     },
     "execution_count": 115,
     "metadata": {},
     "output_type": "execute_result"
    }
   ],
   "source": [
    "np.inf ** 9999999"
   ]
  },
  {
   "cell_type": "code",
   "execution_count": 116,
   "id": "94777dd1-4110-4522-900d-d8f47d7444a0",
   "metadata": {},
   "outputs": [
    {
     "data": {
      "text/plain": [
       "inf"
      ]
     },
     "execution_count": 116,
     "metadata": {},
     "output_type": "execute_result"
    }
   ],
   "source": [
    "np.inf / 999999999999999999"
   ]
  },
  {
   "cell_type": "code",
   "execution_count": 117,
   "id": "147f738a-0771-45c0-97b0-597fcd871a79",
   "metadata": {},
   "outputs": [
    {
     "data": {
      "text/plain": [
       "nan"
      ]
     },
     "execution_count": 117,
     "metadata": {},
     "output_type": "execute_result"
    }
   ],
   "source": [
    "np.inf - np.inf"
   ]
  },
  {
   "cell_type": "code",
   "execution_count": 118,
   "id": "8cd0fb12-f31f-4e27-aa25-1709a5451587",
   "metadata": {},
   "outputs": [
    {
     "data": {
      "text/plain": [
       "float"
      ]
     },
     "execution_count": 118,
     "metadata": {},
     "output_type": "execute_result"
    }
   ],
   "source": [
    "type(np.nan)"
   ]
  },
  {
   "cell_type": "code",
   "execution_count": 119,
   "id": "0e6d90d3-11a6-49bd-aab5-6e107f66155a",
   "metadata": {},
   "outputs": [
    {
     "data": {
      "text/plain": [
       "nan"
      ]
     },
     "execution_count": 119,
     "metadata": {},
     "output_type": "execute_result"
    }
   ],
   "source": [
    "np.inf + np.nan"
   ]
  },
  {
   "cell_type": "code",
   "execution_count": 120,
   "id": "56c00408-e17e-4f5c-857e-b63f0afc2e02",
   "metadata": {},
   "outputs": [
    {
     "data": {
      "text/plain": [
       "array([nan, nan, nan])"
      ]
     },
     "execution_count": 120,
     "metadata": {},
     "output_type": "execute_result"
    }
   ],
   "source": [
    "np.array([1, 3, 10]) + np.nan"
   ]
  },
  {
   "cell_type": "markdown",
   "id": "025b08a2-3a0a-410c-8091-9484bbb77db8",
   "metadata": {},
   "source": [
    "### Methods to find inf and NaN"
   ]
  },
  {
   "cell_type": "code",
   "execution_count": 122,
   "id": "b2203f9e-b90b-46f6-8108-9d460aaba0d4",
   "metadata": {},
   "outputs": [
    {
     "data": {
      "text/plain": [
       "array([ 1.,  2., inf,  3.,  4., nan])"
      ]
     },
     "execution_count": 122,
     "metadata": {},
     "output_type": "execute_result"
    }
   ],
   "source": [
    "a = np.array([1, 2, np.inf, 3, 4, np.nan])\n",
    "a"
   ]
  },
  {
   "cell_type": "code",
   "execution_count": 123,
   "id": "3322d329-3876-42c7-9fcf-015bb2a5dbbc",
   "metadata": {},
   "outputs": [
    {
     "data": {
      "text/plain": [
       "array([False, False,  True, False, False, False])"
      ]
     },
     "execution_count": 123,
     "metadata": {},
     "output_type": "execute_result"
    }
   ],
   "source": [
    "np.isinf(a)"
   ]
  },
  {
   "cell_type": "code",
   "execution_count": 124,
   "id": "de7c8ea3-4158-47d8-a8d9-c553f6d1c552",
   "metadata": {},
   "outputs": [
    {
     "data": {
      "text/plain": [
       "array([False, False, False, False, False,  True])"
      ]
     },
     "execution_count": 124,
     "metadata": {},
     "output_type": "execute_result"
    }
   ],
   "source": [
    "np.isnan(a)"
   ]
  },
  {
   "cell_type": "code",
   "execution_count": 125,
   "id": "d26bb8c0-f31c-44f5-aee5-9ac42bfabb3b",
   "metadata": {},
   "outputs": [
    {
     "data": {
      "text/plain": [
       "array([ True,  True, False,  True,  True, False])"
      ]
     },
     "execution_count": 125,
     "metadata": {},
     "output_type": "execute_result"
    }
   ],
   "source": [
    "np.isfinite(a)"
   ]
  },
  {
   "cell_type": "markdown",
   "id": "3d8e065d-8ae9-4b06-a8c0-18074c530c7d",
   "metadata": {},
   "source": [
    "# Numpy.random"
   ]
  },
  {
   "cell_type": "code",
   "execution_count": 131,
   "id": "ae488338-72b6-4a66-8cde-812ba17a76e7",
   "metadata": {},
   "outputs": [
    {
     "data": {
      "text/plain": [
       "0.8228408131773682"
      ]
     },
     "execution_count": 131,
     "metadata": {},
     "output_type": "execute_result"
    }
   ],
   "source": [
    "np.random.rand()"
   ]
  },
  {
   "cell_type": "code",
   "execution_count": 132,
   "id": "e0579633-b924-4a81-8da3-67a97f0f7317",
   "metadata": {},
   "outputs": [
    {
     "data": {
      "text/plain": [
       "array([[[0.88849169, 0.29218838, 0.3624242 ],\n",
       "        [0.78105083, 0.74154298, 0.69034096],\n",
       "        [0.10968684, 0.47133814, 0.37948561],\n",
       "        [0.96142459, 0.79350163, 0.98667386]],\n",
       "\n",
       "       [[0.96225618, 0.26469447, 0.57680877],\n",
       "        [0.71474363, 0.65841816, 0.75508436],\n",
       "        [0.58839816, 0.98572681, 0.94700837],\n",
       "        [0.99931774, 0.6973735 , 0.41600783]],\n",
       "\n",
       "       [[0.76091287, 0.99086682, 0.49886985],\n",
       "        [0.22139842, 0.62130879, 0.88751925],\n",
       "        [0.06232604, 0.32523162, 0.79231874],\n",
       "        [0.02997255, 0.44256992, 0.65014948]]])"
      ]
     },
     "execution_count": 132,
     "metadata": {},
     "output_type": "execute_result"
    }
   ],
   "source": [
    "np.random.rand(3, 4, 3)"
   ]
  },
  {
   "cell_type": "code",
   "execution_count": 133,
   "id": "4df06a6a-b550-4dc4-8a72-e6c30612c0b8",
   "metadata": {},
   "outputs": [],
   "source": [
    "from numpy import random"
   ]
  },
  {
   "cell_type": "code",
   "execution_count": 134,
   "id": "ff9a5cf8-4d92-4ece-9ee5-5593f5324453",
   "metadata": {},
   "outputs": [
    {
     "data": {
      "text/plain": [
       "0.4343114579295031"
      ]
     },
     "execution_count": 134,
     "metadata": {},
     "output_type": "execute_result"
    }
   ],
   "source": [
    "random.rand()"
   ]
  },
  {
   "cell_type": "markdown",
   "id": "2ed7ca64-4acc-4982-80ab-1b9c358fba61",
   "metadata": {},
   "source": [
    "**randint**"
   ]
  },
  {
   "cell_type": "code",
   "execution_count": 146,
   "id": "4559b2f1-38b5-4f6b-8c1e-62d46252990b",
   "metadata": {},
   "outputs": [
    {
     "data": {
      "text/plain": [
       "89"
      ]
     },
     "execution_count": 146,
     "metadata": {},
     "output_type": "execute_result"
    }
   ],
   "source": [
    "random.randint(100)"
   ]
  },
  {
   "cell_type": "code",
   "execution_count": 167,
   "id": "8f7f3559-2868-4db3-ba27-c06684d616a6",
   "metadata": {},
   "outputs": [
    {
     "data": {
      "text/plain": [
       "-23"
      ]
     },
     "execution_count": 167,
     "metadata": {},
     "output_type": "execute_result"
    }
   ],
   "source": [
    "random.randint(-100, 101)"
   ]
  },
  {
   "cell_type": "code",
   "execution_count": 169,
   "id": "e8af65f4-f4e9-485c-92ce-0672e7a1b708",
   "metadata": {},
   "outputs": [
    {
     "data": {
      "text/plain": [
       "array([[ 67, -86,  33,  47],\n",
       "       [-35,  -2,  70, -85],\n",
       "       [-67, -36,  12,  20],\n",
       "       [ 58,  56,  86,  70]])"
      ]
     },
     "execution_count": 169,
     "metadata": {},
     "output_type": "execute_result"
    }
   ],
   "source": [
    "random.randint(-100, 101, size=(4, 4))"
   ]
  },
  {
   "cell_type": "markdown",
   "id": "909d128b-101a-4926-b867-815d6dbc194b",
   "metadata": {},
   "source": [
    "**choice**"
   ]
  },
  {
   "cell_type": "code",
   "execution_count": 170,
   "id": "7d8b5464-bb7c-49b5-abb8-6efa558e0f0f",
   "metadata": {},
   "outputs": [],
   "source": [
    "lst = [-3, 50, 28, -7, 0, -20]"
   ]
  },
  {
   "cell_type": "code",
   "execution_count": 183,
   "id": "47c6875c-c530-41ea-a9d6-af55e03ff893",
   "metadata": {},
   "outputs": [
    {
     "data": {
      "text/plain": [
       "-7"
      ]
     },
     "execution_count": 183,
     "metadata": {},
     "output_type": "execute_result"
    }
   ],
   "source": [
    "random.choice(lst)"
   ]
  },
  {
   "cell_type": "code",
   "execution_count": 184,
   "id": "59cc799e-c97b-4e67-9c8d-dff2b2352038",
   "metadata": {},
   "outputs": [
    {
     "data": {
      "text/plain": [
       "array([ -7,  -3,  28,  -7, -20, -20,  28,  -7,  -3, -20,  -7, -20,  50,\n",
       "         0,   0,  -3,  -3,  -7,  -7,  28,  -3,  50,  28,   0,   0,  50,\n",
       "       -20,  28,  -3,  -3,  50,  50,   0,  50,  -3,  -7,  50,  28,  -7,\n",
       "        50,  -7,  -7,  -3,   0,  -7,  28,  -3,  50,   0,   0])"
      ]
     },
     "execution_count": 184,
     "metadata": {},
     "output_type": "execute_result"
    }
   ],
   "source": [
    "random.choice(lst, size=50)"
   ]
  },
  {
   "cell_type": "code",
   "execution_count": 187,
   "id": "e008fdde-847b-4e44-a16a-5e4325c82c37",
   "metadata": {},
   "outputs": [
    {
     "data": {
      "text/plain": [
       "array([ 50,  -3,   0,  50,  -3, -20, -20, -20,  50,   0,  -3,  -3, -20,\n",
       "        -3, -20,  28,  50,  -3, -20,  -7,  -7, -20,  -7, -20,  50,  -7,\n",
       "        50,  50,  50,  -3,  -7,  50,  50,  50,  50,  -7,  50,  50,  28,\n",
       "        28,  -3, -20,  50,  50,   0,   0,   0,  50,  -7,  50,   0,  50,\n",
       "        -7, -20,  -3,   0,  28,   0,  50,   0,  28,  50,  -7,  50,  50,\n",
       "        50,   0, -20,  -3,  -7,   0,  50,  50,  50,  50,  50,  50, -20,\n",
       "        50,  28,  -7,  50,  50,   0,  50,   0, -20,  50,  -7, -20,  -3,\n",
       "        50,  50,  50,   0,  -7,  50,   0,  28,  -3])"
      ]
     },
     "execution_count": 187,
     "metadata": {},
     "output_type": "execute_result"
    }
   ],
   "source": [
    "random.choice(lst, p=[.1, .35, .05, .2, .1, .2], size=100)"
   ]
  },
  {
   "cell_type": "markdown",
   "id": "e91784d2-56b2-498e-b929-4c04ff1cdd36",
   "metadata": {},
   "source": [
    "**uniform distribution**"
   ]
  },
  {
   "cell_type": "code",
   "execution_count": 188,
   "id": "b3051ccf-2d7e-4645-bead-3a523e861a8c",
   "metadata": {},
   "outputs": [
    {
     "data": {
      "text/plain": [
       "array([-4.50269807,  4.75244413,  4.07968174,  4.7721578 ,  5.50746835,\n",
       "       -3.89232463, -9.91769587, -4.5053519 , -9.14889934,  5.4877093 ,\n",
       "       -9.63055303,  2.77032871, -7.52765211,  7.34354423, -8.43218746])"
      ]
     },
     "execution_count": 188,
     "metadata": {},
     "output_type": "execute_result"
    }
   ],
   "source": [
    "random.uniform(-10, 10, 15)"
   ]
  },
  {
   "cell_type": "code",
   "execution_count": 198,
   "id": "c3c8afa4-e45d-48e3-b002-ee626cb6cee6",
   "metadata": {},
   "outputs": [
    {
     "data": {
      "text/plain": [
       "<Axes: >"
      ]
     },
     "execution_count": 198,
     "metadata": {},
     "output_type": "execute_result"
    },
    {
     "data": {
      "image/png": "[encoded data removed]",
      "text/plain": [
       "<Figure size 640x480 with 1 Axes>"
      ]
     },
     "metadata": {},
     "output_type": "display_data"
    }
   ],
   "source": [
    "import seaborn as sns\n",
    "sns.scatterplot(x=random.uniform(-10, 10, 200), y=random.uniform(-10, 10, 200))"
   ]
  },
  {
   "cell_type": "markdown",
   "id": "95f36df4-0676-45d4-87f3-a59edb8471a9",
   "metadata": {},
   "source": [
    "**shuffle**"
   ]
  },
  {
   "cell_type": "code",
   "execution_count": 200,
   "id": "b2098568-4eee-462f-940d-4081edec9a49",
   "metadata": {},
   "outputs": [
    {
     "data": {
      "text/plain": [
       "array([ 0,  1,  2,  3,  4,  5,  6,  7,  8,  9, 10, 11, 12, 13, 14, 15, 16,\n",
       "       17, 18, 19])"
      ]
     },
     "execution_count": 200,
     "metadata": {},
     "output_type": "execute_result"
    }
   ],
   "source": [
    "arr = np.arange(20)\n",
    "arr"
   ]
  },
  {
   "cell_type": "code",
   "execution_count": 205,
   "id": "5facb23f-b2f2-41fc-8f6c-ecf00dc13bba",
   "metadata": {},
   "outputs": [],
   "source": [
    "random.shuffle(arr)"
   ]
  },
  {
   "cell_type": "code",
   "execution_count": 206,
   "id": "0d2000f5-7748-4606-8e17-9f1780febaf8",
   "metadata": {},
   "outputs": [
    {
     "data": {
      "text/plain": [
       "array([ 3, 15, 17,  2,  5,  6,  0, 16, 18, 11,  4,  1, 12, 13, 19,  8, 10,\n",
       "        7, 14,  9])"
      ]
     },
     "execution_count": 206,
     "metadata": {},
     "output_type": "execute_result"
    }
   ],
   "source": [
    "arr"
   ]
  },
  {
   "cell_type": "code",
   "execution_count": 207,
   "id": "55b283df-67e7-4acb-bd8a-abcefa1fbee2",
   "metadata": {},
   "outputs": [
    {
     "data": {
      "text/plain": [
       "array([[ 3, 15, 17,  2,  5],\n",
       "       [ 6,  0, 16, 18, 11],\n",
       "       [ 4,  1, 12, 13, 19],\n",
       "       [ 8, 10,  7, 14,  9]])"
      ]
     },
     "execution_count": 207,
     "metadata": {},
     "output_type": "execute_result"
    }
   ],
   "source": [
    "arr2d = arr.reshape(4, 5)\n",
    "arr2d"
   ]
  },
  {
   "cell_type": "code",
   "execution_count": 216,
   "id": "5761f7a9-b38a-454c-9855-db00fe07a4da",
   "metadata": {},
   "outputs": [
    {
     "data": {
      "text/plain": [
       "array([[ 8, 10,  7, 14,  9],\n",
       "       [ 4,  1, 12, 13, 19],\n",
       "       [ 6,  0, 16, 18, 11],\n",
       "       [ 3, 15, 17,  2,  5]])"
      ]
     },
     "execution_count": 216,
     "metadata": {},
     "output_type": "execute_result"
    }
   ],
   "source": [
    "random.shuffle(arr2d)\n",
    "arr2d"
   ]
  },
  {
   "cell_type": "markdown",
   "id": "ef0628fa-d136-4522-8303-c3150f29ccf2",
   "metadata": {},
   "source": [
    "# Statistics methods"
   ]
  },
  {
   "cell_type": "code",
   "execution_count": 237,
   "id": "a621e7b1-0415-475a-9bf0-d379eebe300c",
   "metadata": {},
   "outputs": [
    {
     "data": {
      "text/plain": [
       "array([[[ 69, -41, -70],\n",
       "        [-64, -25, -58],\n",
       "        [-72,  50,  -7]],\n",
       "\n",
       "       [[  6,   1,  98],\n",
       "        [ 23,  75,  65],\n",
       "        [ 18, -41, -96]],\n",
       "\n",
       "       [[-12,  -2, -93],\n",
       "        [ 46,   1, -70],\n",
       "        [-85, -27,  66]]])"
      ]
     },
     "execution_count": 237,
     "metadata": {},
     "output_type": "execute_result"
    }
   ],
   "source": [
    "random.seed(112233)\n",
    "arr3d = random.randint(-100, 101, size=(3, 3, 3))\n",
    "arr3d"
   ]
  },
  {
   "cell_type": "code",
   "execution_count": 238,
   "id": "c56c0290-da09-49e1-a562-ffede2413d15",
   "metadata": {},
   "outputs": [
    {
     "data": {
      "text/plain": [
       "-245"
      ]
     },
     "execution_count": 238,
     "metadata": {},
     "output_type": "execute_result"
    }
   ],
   "source": [
    "arr3d.sum()"
   ]
  },
  {
   "cell_type": "code",
   "execution_count": 239,
   "id": "f12d5485-37a3-435c-80a4-98725cce8eef",
   "metadata": {},
   "outputs": [
    {
     "data": {
      "text/plain": [
       "array([[  63,  -42,  -65],\n",
       "       [   5,   51,  -63],\n",
       "       [-139,  -18,  -37]])"
      ]
     },
     "execution_count": 239,
     "metadata": {},
     "output_type": "execute_result"
    }
   ],
   "source": [
    "arr3d.sum(axis=0)"
   ]
  },
  {
   "cell_type": "code",
   "execution_count": 240,
   "id": "9ac73d3c-5522-414e-964d-ee50621f294b",
   "metadata": {},
   "outputs": [
    {
     "data": {
      "text/plain": [
       "array([[ -67,  -16, -135],\n",
       "       [  47,   35,   67],\n",
       "       [ -51,  -28,  -97]])"
      ]
     },
     "execution_count": 240,
     "metadata": {},
     "output_type": "execute_result"
    }
   ],
   "source": [
    "arr3d.sum(axis=1)"
   ]
  },
  {
   "cell_type": "code",
   "execution_count": 241,
   "id": "edc34126-8989-443e-a499-495bc5e74c18",
   "metadata": {},
   "outputs": [
    {
     "data": {
      "text/plain": [
       "array([[ -42, -147,  -29],\n",
       "       [ 105,  163, -119],\n",
       "       [-107,  -23,  -46]])"
      ]
     },
     "execution_count": 241,
     "metadata": {},
     "output_type": "execute_result"
    }
   ],
   "source": [
    "arr3d.sum(axis=2)"
   ]
  },
  {
   "cell_type": "code",
   "execution_count": 243,
   "id": "2c698b85-03e6-404f-b04b-2df36e4d576d",
   "metadata": {},
   "outputs": [
    {
     "data": {
      "text/plain": [
       "array([[ -67,  -16, -135],\n",
       "       [  47,   35,   67],\n",
       "       [ -51,  -28,  -97]])"
      ]
     },
     "execution_count": 243,
     "metadata": {},
     "output_type": "execute_result"
    }
   ],
   "source": [
    "np.sum(arr3d, axis=1)"
   ]
  },
  {
   "cell_type": "code",
   "execution_count": 244,
   "id": "4757d64e-8c25-4036-ad60-a2a753790b88",
   "metadata": {},
   "outputs": [
    {
     "data": {
      "text/plain": [
       "-96"
      ]
     },
     "execution_count": 244,
     "metadata": {},
     "output_type": "execute_result"
    }
   ],
   "source": [
    "arr3d.min()"
   ]
  },
  {
   "cell_type": "code",
   "execution_count": 245,
   "id": "a1c579bb-2a06-4e90-b827-74ed8f087d61",
   "metadata": {},
   "outputs": [
    {
     "data": {
      "text/plain": [
       "array([[-12, -41, -93],\n",
       "       [-64, -25, -70],\n",
       "       [-85, -41, -96]])"
      ]
     },
     "execution_count": 245,
     "metadata": {},
     "output_type": "execute_result"
    }
   ],
   "source": [
    "arr3d.min(axis=0)"
   ]
  },
  {
   "cell_type": "code",
   "execution_count": 246,
   "id": "6270bc01-acab-4690-af5e-db2b38b71992",
   "metadata": {},
   "outputs": [
    {
     "data": {
      "text/plain": [
       "98"
      ]
     },
     "execution_count": 246,
     "metadata": {},
     "output_type": "execute_result"
    }
   ],
   "source": [
    "arr3d.max()"
   ]
  },
  {
   "cell_type": "code",
   "execution_count": 247,
   "id": "3d66bcee-2503-4d72-95e9-dffafc10b9d2",
   "metadata": {},
   "outputs": [
    {
     "data": {
      "text/plain": [
       "array([[ 69, -25,  50],\n",
       "       [ 98,  75,  18],\n",
       "       [ -2,  46,  66]])"
      ]
     },
     "execution_count": 247,
     "metadata": {},
     "output_type": "execute_result"
    }
   ],
   "source": [
    "arr3d.max(axis=2)"
   ]
  },
  {
   "cell_type": "code",
   "execution_count": 248,
   "id": "3fa46125-4a3a-4d79-9739-c23cf4fab873",
   "metadata": {},
   "outputs": [
    {
     "data": {
      "text/plain": [
       "-9.074074074074074"
      ]
     },
     "execution_count": 248,
     "metadata": {},
     "output_type": "execute_result"
    }
   ],
   "source": [
    "arr3d.mean()"
   ]
  },
  {
   "cell_type": "code",
   "execution_count": 249,
   "id": "d171a761-f53a-4814-87b8-25e9da350a98",
   "metadata": {},
   "outputs": [
    {
     "data": {
      "text/plain": [
       "-9.074074074074074"
      ]
     },
     "execution_count": 249,
     "metadata": {},
     "output_type": "execute_result"
    }
   ],
   "source": [
    "arr3d.sum() / arr3d.size"
   ]
  },
  {
   "cell_type": "code",
   "execution_count": 253,
   "id": "a18dfb8a-f4fa-44fd-86f0-df7db14043f8",
   "metadata": {},
   "outputs": [
    {
     "data": {
      "text/plain": [
       "27"
      ]
     },
     "execution_count": 253,
     "metadata": {},
     "output_type": "execute_result"
    }
   ],
   "source": [
    "arr3d.size"
   ]
  },
  {
   "cell_type": "code",
   "execution_count": 251,
   "id": "a56010ee-e125-4fc1-ab84-f82705e2cd09",
   "metadata": {},
   "outputs": [
    {
     "data": {
      "text/plain": [
       "array([[-22.33333333,  -5.33333333, -45.        ],\n",
       "       [ 15.66666667,  11.66666667,  22.33333333],\n",
       "       [-17.        ,  -9.33333333, -32.33333333]])"
      ]
     },
     "execution_count": 251,
     "metadata": {},
     "output_type": "execute_result"
    }
   ],
   "source": [
    "arr3d.mean(axis=1)"
   ]
  },
  {
   "cell_type": "code",
   "execution_count": 254,
   "id": "f989e2fd-66cd-4abf-bf9d-cb6db8482734",
   "metadata": {},
   "outputs": [
    {
     "data": {
      "text/plain": [
       "3122.290809327846"
      ]
     },
     "execution_count": 254,
     "metadata": {},
     "output_type": "execute_result"
    }
   ],
   "source": [
    "arr3d.var()"
   ]
  },
  {
   "cell_type": "code",
   "execution_count": 262,
   "id": "3942810c-a755-458f-abf9-a63d2c2f6bbc",
   "metadata": {},
   "outputs": [],
   "source": [
    "a = np.array([-4, 5, 9, -8, 11, 1000])"
   ]
  },
  {
   "cell_type": "code",
   "execution_count": 256,
   "id": "1d09bc75-bee5-48ca-9f86-6e131e4725b8",
   "metadata": {},
   "outputs": [
    {
     "data": {
      "text/plain": [
       "2.6"
      ]
     },
     "execution_count": 256,
     "metadata": {},
     "output_type": "execute_result"
    }
   ],
   "source": [
    "m = a.mean()\n",
    "m"
   ]
  },
  {
   "cell_type": "code",
   "execution_count": 257,
   "id": "dd21e3db-b811-4194-b2ed-4011daf48de7",
   "metadata": {},
   "outputs": [],
   "source": [
    "rl = [(m-(-4))**2, (m-5)**2, (m-9)**2, (m-(-8))**2, (m-11)**2]"
   ]
  },
  {
   "cell_type": "code",
   "execution_count": 258,
   "id": "e5804d0a-8bb5-4829-90c4-a0772700a891",
   "metadata": {},
   "outputs": [
    {
     "data": {
      "text/plain": [
       "54.64"
      ]
     },
     "execution_count": 258,
     "metadata": {},
     "output_type": "execute_result"
    }
   ],
   "source": [
    "np.mean(rl)"
   ]
  },
  {
   "cell_type": "code",
   "execution_count": 263,
   "id": "c90e9376-1d14-4235-8a34-c01cc9590a66",
   "metadata": {},
   "outputs": [
    {
     "data": {
      "text/plain": [
       "138213.13888888888"
      ]
     },
     "execution_count": 263,
     "metadata": {},
     "output_type": "execute_result"
    }
   ],
   "source": [
    "a.var()"
   ]
  },
  {
   "cell_type": "code",
   "execution_count": 264,
   "id": "538a2e22-df6c-4763-b5ae-bf954535ffd8",
   "metadata": {},
   "outputs": [
    {
     "data": {
      "text/plain": [
       "55.877462445317306"
      ]
     },
     "execution_count": 264,
     "metadata": {},
     "output_type": "execute_result"
    }
   ],
   "source": [
    "arr3d.std()"
   ]
  },
  {
   "cell_type": "code",
   "execution_count": 265,
   "id": "e229b398-b7da-4f6d-b1ca-dce6d836f4fa",
   "metadata": {},
   "outputs": [
    {
     "data": {
      "text/plain": [
       "55.877462445317306"
      ]
     },
     "execution_count": 265,
     "metadata": {},
     "output_type": "execute_result"
    }
   ],
   "source": [
    "arr3d.var() ** 0.5"
   ]
  },
  {
   "cell_type": "code",
   "execution_count": 266,
   "id": "954eefea-2d53-4de6-ad3b-dd0e8e721aa7",
   "metadata": {},
   "outputs": [
    {
     "data": {
      "text/plain": [
       "array([[[ 69, -41, -70],\n",
       "        [-64, -25, -58],\n",
       "        [-72,  50,  -7]],\n",
       "\n",
       "       [[  6,   1,  98],\n",
       "        [ 23,  75,  65],\n",
       "        [ 18, -41, -96]],\n",
       "\n",
       "       [[-12,  -2, -93],\n",
       "        [ 46,   1, -70],\n",
       "        [-85, -27,  66]]])"
      ]
     },
     "execution_count": 266,
     "metadata": {},
     "output_type": "execute_result"
    }
   ],
   "source": [
    "arr3d"
   ]
  },
  {
   "cell_type": "code",
   "execution_count": 267,
   "id": "19e2e797-d38f-4eeb-8ad2-9451d746194d",
   "metadata": {},
   "outputs": [
    {
     "data": {
      "text/plain": [
       "-9.074074074074074"
      ]
     },
     "execution_count": 267,
     "metadata": {},
     "output_type": "execute_result"
    }
   ],
   "source": [
    "arr3d.mean()"
   ]
  },
  {
   "cell_type": "code",
   "execution_count": 268,
   "id": "e9113aa2-b866-4d5e-9e33-42e95bbadde0",
   "metadata": {},
   "outputs": [
    {
     "data": {
      "text/plain": [
       "55.877462445317306"
      ]
     },
     "execution_count": 268,
     "metadata": {},
     "output_type": "execute_result"
    }
   ],
   "source": [
    "arr3d.std()"
   ]
  },
  {
   "cell_type": "code",
   "execution_count": 271,
   "id": "53660824-d788-4010-a2b0-aab6abe9cfac",
   "metadata": {},
   "outputs": [
    {
     "data": {
      "text/plain": [
       "-120.82899896470869"
      ]
     },
     "execution_count": 271,
     "metadata": {},
     "output_type": "execute_result"
    }
   ],
   "source": [
    "arr3d.mean() - 2 * arr3d.std()"
   ]
  },
  {
   "cell_type": "code",
   "execution_count": 272,
   "id": "ea8f0da5-eb4f-496f-b586-6f167e87226a",
   "metadata": {},
   "outputs": [
    {
     "data": {
      "text/plain": [
       "102.68085081656054"
      ]
     },
     "execution_count": 272,
     "metadata": {},
     "output_type": "execute_result"
    }
   ],
   "source": [
    "arr3d.mean() + 2 * arr3d.std()"
   ]
  },
  {
   "cell_type": "markdown",
   "id": "7ccb86ca-a26b-4887-a8b9-dc5fe30af39f",
   "metadata": {},
   "source": [
    "# Set operations"
   ]
  },
  {
   "cell_type": "code",
   "execution_count": 273,
   "id": "446530e9-6b5e-4135-b8f7-49f52a763021",
   "metadata": {},
   "outputs": [],
   "source": [
    "arr = np.array([3, 6, 6, 2, 3, 1, 0, 6, 7, 0, 1, 10, 2, 9])"
   ]
  },
  {
   "cell_type": "code",
   "execution_count": 274,
   "id": "271612c1-fb23-4fa1-96a3-2bf496beebbd",
   "metadata": {},
   "outputs": [
    {
     "data": {
      "text/plain": [
       "array([ 3,  6,  6,  2,  3,  1,  0,  6,  7,  0,  1, 10,  2,  9])"
      ]
     },
     "execution_count": 274,
     "metadata": {},
     "output_type": "execute_result"
    }
   ],
   "source": [
    "arr"
   ]
  },
  {
   "cell_type": "code",
   "execution_count": 275,
   "id": "62bb38a0-dbc8-46e8-9867-c99ca8b1c027",
   "metadata": {},
   "outputs": [
    {
     "data": {
      "text/plain": [
       "array([ 0,  1,  2,  3,  6,  7,  9, 10])"
      ]
     },
     "execution_count": 275,
     "metadata": {},
     "output_type": "execute_result"
    }
   ],
   "source": [
    "np.unique(arr)"
   ]
  },
  {
   "cell_type": "code",
   "execution_count": 276,
   "id": "b8a48cf0-8b8c-45ca-9ce7-c6eec1d80ac7",
   "metadata": {},
   "outputs": [
    {
     "data": {
      "text/plain": [
       "(array([ 0,  1,  2,  3,  6,  7,  9, 10]),\n",
       " array([ 6,  5,  3,  0,  1,  8, 13, 11], dtype=int64))"
      ]
     },
     "execution_count": 276,
     "metadata": {},
     "output_type": "execute_result"
    }
   ],
   "source": [
    "np.unique(arr, return_index=True)"
   ]
  },
  {
   "cell_type": "code",
   "execution_count": 278,
   "id": "725e1afd-a489-48ca-909d-acfd53ea737a",
   "metadata": {},
   "outputs": [
    {
     "data": {
      "text/plain": [
       "(array([ 0,  1,  2,  3,  6,  7,  9, 10]),\n",
       " array([2, 2, 2, 2, 3, 1, 1, 1], dtype=int64))"
      ]
     },
     "execution_count": 278,
     "metadata": {},
     "output_type": "execute_result"
    }
   ],
   "source": [
    "np.unique(arr, return_counts=True)"
   ]
  },
  {
   "cell_type": "code",
   "execution_count": 279,
   "id": "b3d0ecca-cf12-4ec9-b23f-e798d6bcf0bf",
   "metadata": {},
   "outputs": [
    {
     "data": {
      "text/plain": [
       "(array([ 0,  1,  2,  3,  6,  7,  9, 10]),\n",
       " array([3, 4, 4, 2, 3, 1, 0, 4, 5, 0, 1, 7, 2, 6], dtype=int64))"
      ]
     },
     "execution_count": 279,
     "metadata": {},
     "output_type": "execute_result"
    }
   ],
   "source": [
    "np.unique(arr, return_inverse=True)"
   ]
  },
  {
   "cell_type": "code",
   "execution_count": 281,
   "id": "557e4616-030e-4467-a1aa-4450d4b3c348",
   "metadata": {},
   "outputs": [
    {
     "data": {
      "text/plain": [
       "array([[ 2,  2, -1, -5, -2],\n",
       "       [ 1, -1, -3, -5, -2],\n",
       "       [ 2, -1,  2, -1,  0],\n",
       "       [ 4, -4, -2,  1, -1],\n",
       "       [ 0,  2, -5, -2, -4]])"
      ]
     },
     "execution_count": 281,
     "metadata": {},
     "output_type": "execute_result"
    }
   ],
   "source": [
    "arr2d = random.randint(-5, 5, size=(5, 5))\n",
    "arr2d"
   ]
  },
  {
   "cell_type": "code",
   "execution_count": 282,
   "id": "82ee9fcb-84ef-4e0b-9337-db768df4cbcb",
   "metadata": {},
   "outputs": [
    {
     "data": {
      "text/plain": [
       "array([-5, -4, -3, -2, -1,  0,  1,  2,  4])"
      ]
     },
     "execution_count": 282,
     "metadata": {},
     "output_type": "execute_result"
    }
   ],
   "source": [
    "np.unique(arr2d)"
   ]
  },
  {
   "cell_type": "markdown",
   "id": "f8640279-f6f6-45d0-abcf-b6e0e986432a",
   "metadata": {},
   "source": [
    "# Boolean arrays"
   ]
  },
  {
   "cell_type": "code",
   "execution_count": 283,
   "id": "95b83880-8322-48ee-93de-263b43b050c9",
   "metadata": {},
   "outputs": [
    {
     "data": {
      "text/plain": [
       "array([0, 1, 2, 3, 4, 5, 6, 7, 8, 9])"
      ]
     },
     "execution_count": 283,
     "metadata": {},
     "output_type": "execute_result"
    }
   ],
   "source": [
    "a = np.arange(10)\n",
    "a"
   ]
  },
  {
   "cell_type": "code",
   "execution_count": 284,
   "id": "82901284-a630-4204-b7e4-045156297807",
   "metadata": {},
   "outputs": [
    {
     "data": {
      "text/plain": [
       "array([False, False, False, False,  True,  True,  True,  True,  True,\n",
       "        True])"
      ]
     },
     "execution_count": 284,
     "metadata": {},
     "output_type": "execute_result"
    }
   ],
   "source": [
    "a > 3"
   ]
  },
  {
   "cell_type": "code",
   "execution_count": 285,
   "id": "e9747e86-3f44-4fd6-9426-7ea00e517002",
   "metadata": {},
   "outputs": [
    {
     "data": {
      "text/plain": [
       "array([-5, -3, -1,  1,  3,  5,  7,  9, 11, 13])"
      ]
     },
     "execution_count": 285,
     "metadata": {},
     "output_type": "execute_result"
    }
   ],
   "source": [
    "b = np.arange(-5, 14, 2)\n",
    "b"
   ]
  },
  {
   "cell_type": "code",
   "execution_count": 286,
   "id": "09751c75-d9aa-4bb6-b297-25c133ff71ce",
   "metadata": {},
   "outputs": [
    {
     "data": {
      "text/plain": [
       "array([ True,  True,  True,  True,  True, False, False, False, False,\n",
       "       False])"
      ]
     },
     "execution_count": 286,
     "metadata": {},
     "output_type": "execute_result"
    }
   ],
   "source": [
    "a > b"
   ]
  },
  {
   "cell_type": "code",
   "execution_count": 287,
   "id": "facbc80b-c74b-41bc-a600-efa06f7d18f9",
   "metadata": {},
   "outputs": [
    {
     "data": {
      "text/plain": [
       "array([False, False, False, False, False,  True, False, False, False,\n",
       "       False])"
      ]
     },
     "execution_count": 287,
     "metadata": {},
     "output_type": "execute_result"
    }
   ],
   "source": [
    "a == b"
   ]
  },
  {
   "cell_type": "code",
   "execution_count": 288,
   "id": "67265720-7b05-4acb-aaf0-ca930ef54c45",
   "metadata": {},
   "outputs": [
    {
     "data": {
      "text/plain": [
       "array([ True,  True,  True,  True,  True,  True, False, False, False,\n",
       "       False])"
      ]
     },
     "execution_count": 288,
     "metadata": {},
     "output_type": "execute_result"
    }
   ],
   "source": [
    "b <= a"
   ]
  },
  {
   "cell_type": "markdown",
   "id": "bdda645f-796c-4871-8246-731ca9b9c24e",
   "metadata": {},
   "source": [
    "### Create a mask"
   ]
  },
  {
   "cell_type": "code",
   "execution_count": 289,
   "id": "0168f07d-a5a3-4cdb-afbb-24fb259cc019",
   "metadata": {},
   "outputs": [],
   "source": [
    "mask = a >= 5"
   ]
  },
  {
   "cell_type": "code",
   "execution_count": 290,
   "id": "cedbb85a-c719-4bcf-95e5-f50742b1329c",
   "metadata": {},
   "outputs": [
    {
     "data": {
      "text/plain": [
       "array([False, False, False, False, False,  True,  True,  True,  True,\n",
       "        True])"
      ]
     },
     "execution_count": 290,
     "metadata": {},
     "output_type": "execute_result"
    }
   ],
   "source": [
    "mask"
   ]
  },
  {
   "cell_type": "code",
   "execution_count": 291,
   "id": "c4cb8dc5-5e04-4e6c-800a-5cc81208d430",
   "metadata": {},
   "outputs": [
    {
     "data": {
      "text/plain": [
       "array([5, 6, 7, 8, 9])"
      ]
     },
     "execution_count": 291,
     "metadata": {},
     "output_type": "execute_result"
    }
   ],
   "source": [
    "a[mask]"
   ]
  },
  {
   "cell_type": "code",
   "execution_count": 292,
   "id": "4d171ef6-d48c-4253-b246-d823d3a05ce9",
   "metadata": {},
   "outputs": [
    {
     "data": {
      "text/plain": [
       "array([5, 6, 7, 8, 9])"
      ]
     },
     "execution_count": 292,
     "metadata": {},
     "output_type": "execute_result"
    }
   ],
   "source": [
    "a[a >= 5]"
   ]
  },
  {
   "cell_type": "code",
   "execution_count": 293,
   "id": "17d1c5e6-0daa-4294-8620-8cc7c32b4218",
   "metadata": {},
   "outputs": [
    {
     "data": {
      "text/plain": [
       "array([0, 2, 4, 6, 8])"
      ]
     },
     "execution_count": 293,
     "metadata": {},
     "output_type": "execute_result"
    }
   ],
   "source": [
    "a[a % 2 == 0]"
   ]
  },
  {
   "cell_type": "code",
   "execution_count": 294,
   "id": "44ec6713-a6f0-43eb-b6ca-eb7f52e81323",
   "metadata": {},
   "outputs": [
    {
     "data": {
      "text/plain": [
       "array([1, 3, 5, 7, 9])"
      ]
     },
     "execution_count": 294,
     "metadata": {},
     "output_type": "execute_result"
    }
   ],
   "source": [
    "a[a % 2 != 0]"
   ]
  },
  {
   "cell_type": "code",
   "execution_count": 298,
   "id": "531cc3c6-62ae-4147-ba41-e0ef1b7e686f",
   "metadata": {},
   "outputs": [
    {
     "name": "stdout",
     "output_type": "stream",
     "text": [
      "True\n"
     ]
    }
   ],
   "source": [
    "if 3 % 2:\n",
    "    print(True)"
   ]
  },
  {
   "cell_type": "code",
   "execution_count": 300,
   "id": "c1273e04-2da2-4a00-93c2-505ae55247a6",
   "metadata": {},
   "outputs": [
    {
     "data": {
      "text/plain": [
       "array([0, 1, 2, 3, 4, 5, 6, 7, 8, 9])"
      ]
     },
     "execution_count": 300,
     "metadata": {},
     "output_type": "execute_result"
    }
   ],
   "source": [
    "a"
   ]
  },
  {
   "cell_type": "code",
   "execution_count": 299,
   "id": "6eb53321-c5a1-4d4b-9f21-a76964ba8aa3",
   "metadata": {},
   "outputs": [
    {
     "data": {
      "text/plain": [
       "array([0, 1, 0, 1, 0, 1, 0, 1, 0, 1])"
      ]
     },
     "execution_count": 299,
     "metadata": {},
     "output_type": "execute_result"
    }
   ],
   "source": [
    "a[a % 2]"
   ]
  },
  {
   "cell_type": "markdown",
   "id": "9963da3b-f300-4d60-a000-9f407109908e",
   "metadata": {},
   "source": [
    "### And, or, not"
   ]
  },
  {
   "cell_type": "code",
   "execution_count": 301,
   "id": "b4d6fd45-b0cd-4f68-b536-c7c71b1a84b2",
   "metadata": {},
   "outputs": [
    {
     "data": {
      "text/plain": [
       "array([-5, -4, -3, -2, -1,  0,  1,  2,  3,  4,  5,  6,  7,  8,  9, 10, 11,\n",
       "       12, 13, 14, 15, 16, 17, 18, 19, 20, 21, 22, 23, 24])"
      ]
     },
     "execution_count": 301,
     "metadata": {},
     "output_type": "execute_result"
    }
   ],
   "source": [
    "a = np.arange(-5, 25)\n",
    "a"
   ]
  },
  {
   "cell_type": "code",
   "execution_count": 302,
   "id": "cae760be-a49b-433d-9a59-e214be163297",
   "metadata": {},
   "outputs": [
    {
     "data": {
      "text/plain": [
       "array([10, 11, 12, 13, 14, 15, 16, 17, 18, 19])"
      ]
     },
     "execution_count": 302,
     "metadata": {},
     "output_type": "execute_result"
    }
   ],
   "source": [
    "# and\n",
    "a[(a > a.mean()) & (a < 20)]"
   ]
  },
  {
   "cell_type": "code",
   "execution_count": 308,
   "id": "05b26a0b-77bb-44c4-9e37-ca8afc5dc746",
   "metadata": {},
   "outputs": [
    {
     "data": {
      "text/plain": [
       "array([10, 11, 12, 13, 14, 15, 16, 17, 18, 19])"
      ]
     },
     "execution_count": 308,
     "metadata": {},
     "output_type": "execute_result"
    }
   ],
   "source": [
    "# and\n",
    "a[(a > a.mean()) & (a < 20)]"
   ]
  },
  {
   "cell_type": "code",
   "execution_count": 303,
   "id": "8445871c-a610-4ba1-9d7b-33825c2ff9ff",
   "metadata": {},
   "outputs": [
    {
     "data": {
      "text/plain": [
       "9.5"
      ]
     },
     "execution_count": 303,
     "metadata": {},
     "output_type": "execute_result"
    }
   ],
   "source": [
    "a.mean()"
   ]
  },
  {
   "cell_type": "code",
   "execution_count": 309,
   "id": "41b0a0ec-8c09-4d8f-ba85-032ea16431e0",
   "metadata": {},
   "outputs": [
    {
     "data": {
      "text/plain": [
       "array([-5, 24])"
      ]
     },
     "execution_count": 309,
     "metadata": {},
     "output_type": "execute_result"
    }
   ],
   "source": [
    "# or\n",
    "a[(a == a.min()) | (a == a.max())]"
   ]
  },
  {
   "cell_type": "code",
   "execution_count": 310,
   "id": "17569451-9271-4af3-8f6a-3663233c2cfb",
   "metadata": {},
   "outputs": [
    {
     "data": {
      "text/plain": [
       "array([], dtype=int32)"
      ]
     },
     "execution_count": 310,
     "metadata": {},
     "output_type": "execute_result"
    }
   ],
   "source": [
    "# or\n",
    "a[(a == a.min()) & (a == a.max())]"
   ]
  },
  {
   "cell_type": "code",
   "execution_count": 312,
   "id": "8833dc76-51bf-4bff-b986-a2a2cc6446ae",
   "metadata": {},
   "outputs": [
    {
     "data": {
      "text/plain": [
       "array([-5, -4, -3, -2, -1,  0,  1,  2,  3,  4,  5,  6,  7,  8,  9])"
      ]
     },
     "execution_count": 312,
     "metadata": {},
     "output_type": "execute_result"
    }
   ],
   "source": [
    "# not\n",
    "a[~(a / 3 > 3)]"
   ]
  },
  {
   "cell_type": "markdown",
   "id": "591a2176-f89b-4864-9ea8-ffa345e8d02a",
   "metadata": {},
   "source": [
    "**Isin**"
   ]
  },
  {
   "cell_type": "code",
   "execution_count": 313,
   "id": "034f5f8f-c1ef-40c4-853c-079309f4a0f1",
   "metadata": {},
   "outputs": [
    {
     "data": {
      "text/plain": [
       "array([-10,  -7,  -4,  -1,   2,   5,   8])"
      ]
     },
     "execution_count": 313,
     "metadata": {},
     "output_type": "execute_result"
    }
   ],
   "source": [
    "b = np.arange(-10, 10, 3)\n",
    "b"
   ]
  },
  {
   "cell_type": "code",
   "execution_count": 315,
   "id": "9a431f99-8dde-4836-a246-dcda8ac67a98",
   "metadata": {},
   "outputs": [
    {
     "data": {
      "text/plain": [
       "array([-5, -4, -3, -2, -1,  0,  1,  2,  3,  4,  5,  6,  7,  8,  9, 10, 11,\n",
       "       12, 13, 14, 15, 16, 17, 18, 19, 20, 21, 22, 23, 24])"
      ]
     },
     "execution_count": 315,
     "metadata": {},
     "output_type": "execute_result"
    }
   ],
   "source": [
    "a"
   ]
  },
  {
   "cell_type": "code",
   "execution_count": 314,
   "id": "99a27c1d-82b2-45f5-afe5-b00b93752f4a",
   "metadata": {},
   "outputs": [
    {
     "data": {
      "text/plain": [
       "array([False,  True, False, False,  True, False, False,  True, False,\n",
       "       False,  True, False, False,  True, False, False, False, False,\n",
       "       False, False, False, False, False, False, False, False, False,\n",
       "       False, False, False])"
      ]
     },
     "execution_count": 314,
     "metadata": {},
     "output_type": "execute_result"
    }
   ],
   "source": [
    "np.isin(a, b)"
   ]
  },
  {
   "cell_type": "code",
   "execution_count": 316,
   "id": "2db5cea2-a848-4813-b6e3-137ac172043e",
   "metadata": {},
   "outputs": [
    {
     "data": {
      "text/plain": [
       "array([False, False,  True,  True,  True,  True,  True])"
      ]
     },
     "execution_count": 316,
     "metadata": {},
     "output_type": "execute_result"
    }
   ],
   "source": [
    "np.isin(b, a)"
   ]
  },
  {
   "cell_type": "code",
   "execution_count": 317,
   "id": "46a88a66-af20-4e42-9340-01bdb52c2856",
   "metadata": {},
   "outputs": [
    {
     "data": {
      "text/plain": [
       "array([-4, -1,  2,  5,  8])"
      ]
     },
     "execution_count": 317,
     "metadata": {},
     "output_type": "execute_result"
    }
   ],
   "source": [
    "a[np.isin(a, b)]"
   ]
  },
  {
   "cell_type": "markdown",
   "id": "4436b9d8-c07a-4f45-b307-cc9ad8525d9e",
   "metadata": {},
   "source": [
    "Even numbers, less than mean, not minimal number OR \\\n",
    "Numbers those are multiple of 3, more than mean, not a maximal number"
   ]
  },
  {
   "cell_type": "code",
   "execution_count": 318,
   "id": "80d601fa-aa78-4120-a347-76d1183ea23c",
   "metadata": {},
   "outputs": [
    {
     "data": {
      "text/plain": [
       "array([-4, -2,  0,  2,  4,  6,  8, 12, 15, 18, 21])"
      ]
     },
     "execution_count": 318,
     "metadata": {},
     "output_type": "execute_result"
    }
   ],
   "source": [
    "a[(a % 2 == 0) & (a < a.mean()) & (a != a.min()) | (a % 3 == 0) & (a > a.mean()) & ~(a == a.max())]"
   ]
  },
  {
   "cell_type": "markdown",
   "id": "a610c616-a009-43fb-a9d8-51301270b0af",
   "metadata": {},
   "source": [
    "### Any, all"
   ]
  },
  {
   "cell_type": "code",
   "execution_count": 319,
   "id": "59214289-9568-46ec-9c7e-14823668d1f0",
   "metadata": {},
   "outputs": [
    {
     "data": {
      "text/plain": [
       "array([-5, -4, -3, -2, -1,  0,  1,  2,  3,  4,  5,  6,  7,  8,  9, 10, 11,\n",
       "       12, 13, 14, 15, 16, 17, 18, 19, 20, 21, 22, 23, 24])"
      ]
     },
     "execution_count": 319,
     "metadata": {},
     "output_type": "execute_result"
    }
   ],
   "source": [
    "a"
   ]
  },
  {
   "cell_type": "code",
   "execution_count": 320,
   "id": "a23e771b-ef08-410d-afd9-59317d8f83a7",
   "metadata": {},
   "outputs": [
    {
     "data": {
      "text/plain": [
       "True"
      ]
     },
     "execution_count": 320,
     "metadata": {},
     "output_type": "execute_result"
    }
   ],
   "source": [
    "a.any()"
   ]
  },
  {
   "cell_type": "code",
   "execution_count": 321,
   "id": "c8359e14-9691-4c22-a847-54e60f3a0f91",
   "metadata": {},
   "outputs": [
    {
     "data": {
      "text/plain": [
       "False"
      ]
     },
     "execution_count": 321,
     "metadata": {},
     "output_type": "execute_result"
    }
   ],
   "source": [
    "a.all()"
   ]
  },
  {
   "cell_type": "code",
   "execution_count": 322,
   "id": "b553b41d-7f44-49c0-ab20-2fb30a46fadb",
   "metadata": {},
   "outputs": [
    {
     "data": {
      "text/plain": [
       "True"
      ]
     },
     "execution_count": 322,
     "metadata": {},
     "output_type": "execute_result"
    }
   ],
   "source": [
    "np.any(a)"
   ]
  },
  {
   "cell_type": "code",
   "execution_count": 323,
   "id": "275c66b9-2f60-446e-925e-180fc495f317",
   "metadata": {},
   "outputs": [
    {
     "data": {
      "text/plain": [
       "True"
      ]
     },
     "execution_count": 323,
     "metadata": {},
     "output_type": "execute_result"
    }
   ],
   "source": [
    "a.any(where=a > 20)"
   ]
  },
  {
   "cell_type": "code",
   "execution_count": 335,
   "id": "a211a5f2-2c4d-460c-aaa2-110430133938",
   "metadata": {},
   "outputs": [
    {
     "data": {
      "text/plain": [
       "True"
      ]
     },
     "execution_count": 335,
     "metadata": {},
     "output_type": "execute_result"
    }
   ],
   "source": [
    "np.all(np.isfinite(a))"
   ]
  },
  {
   "cell_type": "code",
   "execution_count": 336,
   "id": "33c332f6-fb11-4182-9309-643ae0ee98c5",
   "metadata": {},
   "outputs": [
    {
     "data": {
      "text/plain": [
       "False"
      ]
     },
     "execution_count": 336,
     "metadata": {},
     "output_type": "execute_result"
    }
   ],
   "source": [
    "np.all(a > 20)"
   ]
  },
  {
   "cell_type": "code",
   "execution_count": 337,
   "id": "4790a3b0-07e2-4168-bf38-2c858bd6a0f9",
   "metadata": {},
   "outputs": [
    {
     "data": {
      "text/plain": [
       "True"
      ]
     },
     "execution_count": 337,
     "metadata": {},
     "output_type": "execute_result"
    }
   ],
   "source": [
    "np.all(a.dtype == 'int32')"
   ]
  },
  {
   "cell_type": "markdown",
   "id": "bc672404-057b-48ca-a5e7-01810f757c8b",
   "metadata": {},
   "source": [
    "# Some math functions"
   ]
  },
  {
   "cell_type": "code",
   "execution_count": 338,
   "id": "aa23335d-4037-40da-8c0b-20c35812caf3",
   "metadata": {},
   "outputs": [
    {
     "data": {
      "text/plain": [
       "1.2246467991473532e-16"
      ]
     },
     "execution_count": 338,
     "metadata": {},
     "output_type": "execute_result"
    }
   ],
   "source": [
    "np.sin(np.pi)"
   ]
  },
  {
   "cell_type": "code",
   "execution_count": 339,
   "id": "d4182b73-456a-4000-8ece-19fa355bd68f",
   "metadata": {},
   "outputs": [
    {
     "data": {
      "text/plain": [
       "-1.0"
      ]
     },
     "execution_count": 339,
     "metadata": {},
     "output_type": "execute_result"
    }
   ],
   "source": [
    "np.cos(np.pi)"
   ]
  },
  {
   "cell_type": "code",
   "execution_count": 342,
   "id": "c2cca5fb-5e65-4193-adaa-fa10d5fe4101",
   "metadata": {},
   "outputs": [
    {
     "data": {
      "text/plain": [
       "0.0"
      ]
     },
     "execution_count": 342,
     "metadata": {},
     "output_type": "execute_result"
    }
   ],
   "source": [
    "np.arccos(1)"
   ]
  },
  {
   "cell_type": "code",
   "execution_count": 343,
   "id": "899730ca-032d-4de1-a6af-fc2989ae23cc",
   "metadata": {},
   "outputs": [
    {
     "data": {
      "text/plain": [
       "100"
      ]
     },
     "execution_count": 343,
     "metadata": {},
     "output_type": "execute_result"
    }
   ],
   "source": [
    "np.abs(-100)"
   ]
  },
  {
   "cell_type": "code",
   "execution_count": 344,
   "id": "0ee99812-692b-4afc-90b7-c92cd7074488",
   "metadata": {},
   "outputs": [
    {
     "name": "stderr",
     "output_type": "stream",
     "text": [
      "C:\\Users\\USER\\AppData\\Local\\Temp\\ipykernel_12844\\20874902.py:1: DeprecationWarning: `np.math` is a deprecated alias for the standard library `math` module (Deprecated Numpy 1.25). Replace usages of `np.math` with `math`\n",
      "  np.math.ceil(1.3)\n"
     ]
    },
    {
     "data": {
      "text/plain": [
       "2"
      ]
     },
     "execution_count": 344,
     "metadata": {},
     "output_type": "execute_result"
    }
   ],
   "source": [
    "np.math.ceil(1.3)"
   ]
  },
  {
   "cell_type": "code",
   "execution_count": 345,
   "id": "b5cdcfa1-dd58-4324-b7e4-2883b8e5b324",
   "metadata": {},
   "outputs": [
    {
     "name": "stderr",
     "output_type": "stream",
     "text": [
      "C:\\Users\\USER\\AppData\\Local\\Temp\\ipykernel_12844\\2506545897.py:1: DeprecationWarning: `np.math` is a deprecated alias for the standard library `math` module (Deprecated Numpy 1.25). Replace usages of `np.math` with `math`\n",
      "  np.math.floor(1.9)\n"
     ]
    },
    {
     "data": {
      "text/plain": [
       "1"
      ]
     },
     "execution_count": 345,
     "metadata": {},
     "output_type": "execute_result"
    }
   ],
   "source": [
    "np.math.floor(1.9)"
   ]
  },
  {
   "cell_type": "code",
   "execution_count": 346,
   "id": "ab1bb20a-f877-412b-bc06-0f3145936994",
   "metadata": {},
   "outputs": [
    {
     "name": "stderr",
     "output_type": "stream",
     "text": [
      "C:\\Users\\USER\\AppData\\Local\\Temp\\ipykernel_12844\\2180840012.py:1: DeprecationWarning: `np.math` is a deprecated alias for the standard library `math` module (Deprecated Numpy 1.25). Replace usages of `np.math` with `math`\n",
      "  np.math.factorial(5)\n"
     ]
    },
    {
     "data": {
      "text/plain": [
       "120"
      ]
     },
     "execution_count": 346,
     "metadata": {},
     "output_type": "execute_result"
    }
   ],
   "source": [
    "np.math.factorial(5)"
   ]
  },
  {
   "cell_type": "code",
   "execution_count": 349,
   "id": "df15b78b-189d-415d-b3ea-7892bfb7f31a",
   "metadata": {},
   "outputs": [
    {
     "name": "stderr",
     "output_type": "stream",
     "text": [
      "C:\\Users\\USER\\AppData\\Local\\Temp\\ipykernel_12844\\4114818941.py:1: DeprecationWarning: `np.math` is a deprecated alias for the standard library `math` module (Deprecated Numpy 1.25). Replace usages of `np.math` with `math`\n",
      "  np.math.degrees(np.pi / 2)\n"
     ]
    },
    {
     "data": {
      "text/plain": [
       "90.0"
      ]
     },
     "execution_count": 349,
     "metadata": {},
     "output_type": "execute_result"
    }
   ],
   "source": [
    "np.math.degrees(np.pi / 2)"
   ]
  },
  {
   "cell_type": "code",
   "execution_count": 350,
   "id": "4046f0cf-ee21-48dc-ab1e-444f0e1daa65",
   "metadata": {},
   "outputs": [
    {
     "data": {
      "text/plain": [
       "3.0"
      ]
     },
     "execution_count": 350,
     "metadata": {},
     "output_type": "execute_result"
    }
   ],
   "source": [
    "np.sqrt(9)"
   ]
  },
  {
   "cell_type": "code",
   "execution_count": 351,
   "id": "bc479484-f302-4b33-8eb8-73024bb5cf37",
   "metadata": {},
   "outputs": [
    {
     "name": "stderr",
     "output_type": "stream",
     "text": [
      "C:\\Users\\USER\\AppData\\Local\\Temp\\ipykernel_12844\\2475133636.py:1: DeprecationWarning: `np.math` is a deprecated alias for the standard library `math` module (Deprecated Numpy 1.25). Replace usages of `np.math` with `math`\n",
      "  np.math.log(27, 3)\n"
     ]
    },
    {
     "data": {
      "text/plain": [
       "3.0"
      ]
     },
     "execution_count": 351,
     "metadata": {},
     "output_type": "execute_result"
    }
   ],
   "source": [
    "np.math.log(27, 3)"
   ]
  },
  {
   "cell_type": "code",
   "execution_count": null,
   "id": "633ad777-d553-4eaa-8c0e-25c8efdb2662",
   "metadata": {},
   "outputs": [],
   "source": []
  }
 ],
 "metadata": {
  "kernelspec": {
   "display_name": "Python 3 (ipykernel)",
   "language": "python",
   "name": "python3"
  },
  "language_info": {
   "codemirror_mode": {
    "name": "ipython",
    "version": 3
   },
   "file_extension": ".py",
   "mimetype": "text/x-python",
   "name": "python",
   "nbconvert_exporter": "python",
   "pygments_lexer": "ipython3",
   "version": "3.12.1"
  }
 },
 "nbformat": 4,
 "nbformat_minor": 5
}
